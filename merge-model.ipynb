{
 "cells": [
  {
   "cell_type": "code",
   "execution_count": 1,
   "metadata": {},
   "outputs": [
    {
     "name": "stdout",
     "output_type": "stream",
     "text": [
      "Loading tokenizer and model...\n"
     ]
    },
    {
     "data": {
      "application/vnd.jupyter.widget-view+json": {
       "model_id": "01b762ff603b4cf9b0e5efa1f18ffc57",
       "version_major": 2,
       "version_minor": 0
      },
      "text/plain": [
       "Loading checkpoint shards:   0%|          | 0/4 [00:00<?, ?it/s]"
      ]
     },
     "metadata": {},
     "output_type": "display_data"
    },
    {
     "name": "stderr",
     "output_type": "stream",
     "text": [
      "Some weights of LlamaForSequenceClassification were not initialized from the model checkpoint at unsloth/Meta-Llama-3.1-8B and are newly initialized: ['score.weight']\n",
      "You should probably TRAIN this model on a down-stream task to be able to use it for predictions and inference.\n"
     ]
    },
    {
     "name": "stdout",
     "output_type": "stream",
     "text": [
      "Loading PEFT model...\n",
      "Merging PEFT model with base model...\n",
      "Saving merged model...\n"
     ]
    },
    {
     "data": {
      "text/plain": [
       "('./models/llama_32_8b_merged/tokenizer_config.json',\n",
       " './models/llama_32_8b_merged/special_tokens_map.json',\n",
       " './models/llama_32_8b_merged/tokenizer.json')"
      ]
     },
     "execution_count": 1,
     "metadata": {},
     "output_type": "execute_result"
    }
   ],
   "source": [
    "import dotenv\n",
    "import torch\n",
    "from transformers import AutoModelForSequenceClassification, AutoTokenizer\n",
    "from peft import PeftModel\n",
    "\n",
    "dotenv.load_dotenv()\n",
    "\n",
    "print(\"Loading tokenizer and model...\")\n",
    "base_model = AutoModelForSequenceClassification.from_pretrained(\n",
    "    \"unsloth/Meta-Llama-3.1-8B\",\n",
    "    device_map=\"auto\",\n",
    "    num_labels=1,\n",
    "    torch_dtype=torch.bfloat16,\n",
    ")\n",
    "tokenizer = AutoTokenizer.from_pretrained(\"unsloth/Meta-Llama-3.1-8B\")\n",
    "\n",
    "print(\"Loading PEFT model...\")\n",
    "peft_model = PeftModel.from_pretrained(\n",
    "    base_model, \"./reward_model_output/checkpoint-30000/\", device_map=\"auto\"\n",
    ")\n",
    "\n",
    "print(\"Merging PEFT model with base model...\")\n",
    "merged_model = peft_model.merge_and_unload()\n",
    "\n",
    "print(\"Saving merged model...\")\n",
    "merged_model.save_pretrained(\"./models/llama_32_8b_merged\")\n",
    "tokenizer.save_pretrained(\"./models/llama_32_8b_merged\")"
   ]
  }
 ],
 "metadata": {
  "kernelspec": {
   "display_name": ".venv",
   "language": "python",
   "name": "python3"
  },
  "language_info": {
   "codemirror_mode": {
    "name": "ipython",
    "version": 3
   },
   "file_extension": ".py",
   "mimetype": "text/x-python",
   "name": "python",
   "nbconvert_exporter": "python",
   "pygments_lexer": "ipython3",
   "version": "3.12.5"
  }
 },
 "nbformat": 4,
 "nbformat_minor": 2
}
