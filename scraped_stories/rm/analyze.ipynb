{
 "cells": [
  {
   "cell_type": "code",
   "execution_count": 1,
   "metadata": {},
   "outputs": [
    {
     "data": {
      "text/html": [
       "<div><style>\n",
       ".dataframe > thead > tr,\n",
       ".dataframe > tbody > tr {\n",
       "  text-align: right;\n",
       "  white-space: pre-wrap;\n",
       "}\n",
       "</style>\n",
       "<small>shape: (200, 2)</small><table border=\"1\" class=\"dataframe\"><thead><tr><th>id</th><th>predictions</th></tr><tr><td>i64</td><td>f64</td></tr></thead><tbody><tr><td>15410850</td><td>-1.03125</td></tr><tr><td>19662594</td><td>-3.671875</td></tr><tr><td>19390782</td><td>-2.984375</td></tr><tr><td>35481487</td><td>-3.28125</td></tr><tr><td>27015197</td><td>-3.5</td></tr><tr><td>&hellip;</td><td>&hellip;</td></tr><tr><td>11173806</td><td>-1.351562</td></tr><tr><td>40002472</td><td>-3.140625</td></tr><tr><td>12095865</td><td>-2.765625</td></tr><tr><td>39592207</td><td>-3.40625</td></tr><tr><td>19140970</td><td>1.6640625</td></tr></tbody></table></div>"
      ],
      "text/plain": [
       "shape: (200, 2)\n",
       "┌──────────┬─────────────┐\n",
       "│ id       ┆ predictions │\n",
       "│ ---      ┆ ---         │\n",
       "│ i64      ┆ f64         │\n",
       "╞══════════╪═════════════╡\n",
       "│ 15410850 ┆ -1.03125    │\n",
       "│ 19662594 ┆ -3.671875   │\n",
       "│ 19390782 ┆ -2.984375   │\n",
       "│ 35481487 ┆ -3.28125    │\n",
       "│ 27015197 ┆ -3.5        │\n",
       "│ …        ┆ …           │\n",
       "│ 11173806 ┆ -1.351562   │\n",
       "│ 40002472 ┆ -3.140625   │\n",
       "│ 12095865 ┆ -2.765625   │\n",
       "│ 39592207 ┆ -3.40625    │\n",
       "│ 19140970 ┆ 1.6640625   │\n",
       "└──────────┴─────────────┘"
      ]
     },
     "execution_count": 1,
     "metadata": {},
     "output_type": "execute_result"
    }
   ],
   "source": [
    "import polars as pl\n",
    "\n",
    "df = pl.read_parquet(\"s3://best-hn-data/rm/models/model1/dataset_predictions.parquet\")\n",
    "# df.group_by(\"label\").agg(pl.col(\"prediction\").mean()).sort(\"prediction\", descending=True)\n",
    "df\n"
   ]
  }
 ],
 "metadata": {
  "kernelspec": {
   "display_name": ".venv",
   "language": "python",
   "name": "python3"
  },
  "language_info": {
   "codemirror_mode": {
    "name": "ipython",
    "version": 3
   },
   "file_extension": ".py",
   "mimetype": "text/x-python",
   "name": "python",
   "nbconvert_exporter": "python",
   "pygments_lexer": "ipython3",
   "version": "3.12.1"
  }
 },
 "nbformat": 4,
 "nbformat_minor": 2
}
