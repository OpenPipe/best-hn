{
 "cells": [
  {
   "cell_type": "code",
   "execution_count": 24,
   "metadata": {},
   "outputs": [
    {
     "data": {
      "text/html": [
       "<div><style>\n",
       ".dataframe > thead > tr,\n",
       ".dataframe > tbody > tr {\n",
       "  text-align: right;\n",
       "  white-space: pre-wrap;\n",
       "}\n",
       "</style>\n",
       "<small>shape: (10_000, 10)</small><table border=\"1\" class=\"dataframe\"><thead><tr><th>id</th><th>title</th><th>by</th><th>text</th><th>score</th><th>descendants</th><th>time</th><th>log_score</th><th>serialized</th><th>split</th></tr><tr><td>i64</td><td>str</td><td>str</td><td>str</td><td>i64</td><td>i64</td><td>datetime[μs]</td><td>f64</td><td>str</td><td>str</td></tr></thead><tbody><tr><td>34724037</td><td>&quot;Ask HN: How can I get into Neu…</td><td>&quot;notmindthegap&quot;</td><td>&quot;Hi all – I’m in my mid-30s, we…</td><td>2</td><td>0</td><td>2023-02-09 14:05:38</td><td>0.693147</td><td>&quot;\n",
       "Ask HN: How can I get into Ne…</td><td>&quot;test&quot;</td></tr><tr><td>22604483</td><td>&quot;Ask HN: Does having some stres…</td><td>&quot;jbms&quot;</td><td>&quot;I&amp;#x27;ve really enjoyed some …</td><td>1</td><td>0</td><td>2020-03-17 13:06:20</td><td>0.0</td><td>&quot;\n",
       "Ask HN: Does having some stre…</td><td>&quot;train&quot;</td></tr><tr><td>33173205</td><td>&quot;Coaching for “Normals”?&quot;</td><td>&quot;wanderingCoder&quot;</td><td>&quot;I&amp;#x27;m interested in finding…</td><td>73</td><td>61</td><td>2022-10-12 05:26:38</td><td>4.290459</td><td>&quot;\n",
       "Coaching for “Normals”?\n",
       "wande…</td><td>&quot;train&quot;</td></tr><tr><td>38838197</td><td>&quot;Internet, Blockchain, AI, Amar…</td><td>&quot;bernardlunn&quot;</td><td>&quot;Amara’s Law (coined by Roy Ama…</td><td>3</td><td>2</td><td>2024-01-02 04:42:10</td><td>1.098612</td><td>&quot;\n",
       "Internet, Blockchain, AI, Ama…</td><td>&quot;train&quot;</td></tr><tr><td>22675416</td><td>&quot;Show HN: Self-Published Book –…</td><td>&quot;anconia&quot;</td><td>&quot;I just self-published a book t…</td><td>24</td><td>13</td><td>2020-03-24 15:32:53</td><td>3.178054</td><td>&quot;\n",
       "Show HN: Self-Published Book …</td><td>&quot;train&quot;</td></tr><tr><td>&hellip;</td><td>&hellip;</td><td>&hellip;</td><td>&hellip;</td><td>&hellip;</td><td>&hellip;</td><td>&hellip;</td><td>&hellip;</td><td>&hellip;</td><td>&hellip;</td></tr><tr><td>24970083</td><td>&quot;Ask HN: Would you like an Appl…</td><td>&quot;ciccionamente&quot;</td><td>&quot;Today the Raspberry Pi 400 has…</td><td>5</td><td>11</td><td>2020-11-02 16:47:55</td><td>1.609438</td><td>&quot;\n",
       "Ask HN: Would you like an App…</td><td>&quot;train&quot;</td></tr><tr><td>19907580</td><td>&quot;ASIC Verification Course in Ba…</td><td>&quot;mavensilicon&quot;</td><td>&quot;ASIC Design and Verification c…</td><td>1</td><td>0</td><td>2019-05-14 07:46:53</td><td>0.0</td><td>&quot;\n",
       "ASIC Verification Course in B…</td><td>&quot;train&quot;</td></tr><tr><td>34455854</td><td>&quot;Ask HN: Google spam filter get…</td><td>&quot;jgwil2&quot;</td><td>&quot;I have noticed an uptick in un…</td><td>158</td><td>91</td><td>2023-01-20 16:50:27</td><td>5.062595</td><td>&quot;\n",
       "Ask HN: Google spam filter ge…</td><td>&quot;test&quot;</td></tr><tr><td>11965471</td><td>&quot;Ask HN: How can I get iOS proj…</td><td>&quot;selfthrow&quot;</td><td>&quot;I am a long time lurker here. …</td><td>1</td><td>0</td><td>2016-06-24 00:55:03</td><td>0.0</td><td>&quot;\n",
       "Ask HN: How can I get iOS pro…</td><td>&quot;train&quot;</td></tr><tr><td>27678401</td><td>&quot;Ask HN: Has anyone hooked a vo…</td><td>&quot;protomyth&quot;</td><td>&quot;I called into the phone line o…</td><td>3</td><td>2</td><td>2021-06-29 16:44:27</td><td>1.098612</td><td>&quot;\n",
       "Ask HN: Has anyone hooked a v…</td><td>&quot;train&quot;</td></tr></tbody></table></div>"
      ],
      "text/plain": [
       "shape: (10_000, 10)\n",
       "┌──────────┬────────────┬────────────┬────────────┬───┬────────────┬───────────┬───────────┬───────┐\n",
       "│ id       ┆ title      ┆ by         ┆ text       ┆ … ┆ time       ┆ log_score ┆ serialize ┆ split │\n",
       "│ ---      ┆ ---        ┆ ---        ┆ ---        ┆   ┆ ---        ┆ ---       ┆ d         ┆ ---   │\n",
       "│ i64      ┆ str        ┆ str        ┆ str        ┆   ┆ datetime[μ ┆ f64       ┆ ---       ┆ str   │\n",
       "│          ┆            ┆            ┆            ┆   ┆ s]         ┆           ┆ str       ┆       │\n",
       "╞══════════╪════════════╪════════════╪════════════╪═══╪════════════╪═══════════╪═══════════╪═══════╡\n",
       "│ 34724037 ┆ Ask HN:    ┆ notmindthe ┆ Hi all –   ┆ … ┆ 2023-02-09 ┆ 0.693147  ┆           ┆ test  │\n",
       "│          ┆ How can I  ┆ gap        ┆ I’m in my  ┆   ┆ 14:05:38   ┆           ┆ Ask HN:   ┆       │\n",
       "│          ┆ get into   ┆            ┆ mid-30s,   ┆   ┆            ┆           ┆ How can I ┆       │\n",
       "│          ┆ Neu…       ┆            ┆ we…        ┆   ┆            ┆           ┆ get into  ┆       │\n",
       "│          ┆            ┆            ┆            ┆   ┆            ┆           ┆ Ne…       ┆       │\n",
       "│ 22604483 ┆ Ask HN:    ┆ jbms       ┆ I&#x27;ve  ┆ … ┆ 2020-03-17 ┆ 0.0       ┆           ┆ train │\n",
       "│          ┆ Does       ┆            ┆ really     ┆   ┆ 13:06:20   ┆           ┆ Ask HN:   ┆       │\n",
       "│          ┆ having     ┆            ┆ enjoyed    ┆   ┆            ┆           ┆ Does      ┆       │\n",
       "│          ┆ some       ┆            ┆ some …     ┆   ┆            ┆           ┆ having    ┆       │\n",
       "│          ┆ stres…     ┆            ┆            ┆   ┆            ┆           ┆ some      ┆       │\n",
       "│          ┆            ┆            ┆            ┆   ┆            ┆           ┆ stre…     ┆       │\n",
       "│ 33173205 ┆ Coaching   ┆ wanderingC ┆ I&#x27;m   ┆ … ┆ 2022-10-12 ┆ 4.290459  ┆           ┆ train │\n",
       "│          ┆ for        ┆ oder       ┆ interested ┆   ┆ 05:26:38   ┆           ┆ Coaching  ┆       │\n",
       "│          ┆ “Normals”? ┆            ┆ in         ┆   ┆            ┆           ┆ for “Norm ┆       │\n",
       "│          ┆            ┆            ┆ finding…   ┆   ┆            ┆           ┆ als”?     ┆       │\n",
       "│          ┆            ┆            ┆            ┆   ┆            ┆           ┆ wande…    ┆       │\n",
       "│ 38838197 ┆ Internet,  ┆ bernardlun ┆ Amara’s    ┆ … ┆ 2024-01-02 ┆ 1.098612  ┆           ┆ train │\n",
       "│          ┆ Blockchain ┆ n          ┆ Law        ┆   ┆ 04:42:10   ┆           ┆ Internet, ┆       │\n",
       "│          ┆ , AI,      ┆            ┆ (coined by ┆   ┆            ┆           ┆ Blockchai ┆       │\n",
       "│          ┆ Amar…      ┆            ┆ Roy Ama…   ┆   ┆            ┆           ┆ n, AI,    ┆       │\n",
       "│          ┆            ┆            ┆            ┆   ┆            ┆           ┆ Ama…      ┆       │\n",
       "│ 22675416 ┆ Show HN:   ┆ anconia    ┆ I just sel ┆ … ┆ 2020-03-24 ┆ 3.178054  ┆           ┆ train │\n",
       "│          ┆ Self-Publi ┆            ┆ f-publishe ┆   ┆ 15:32:53   ┆           ┆ Show HN:  ┆       │\n",
       "│          ┆ shed Book  ┆            ┆ d a book   ┆   ┆            ┆           ┆ Self-Publ ┆       │\n",
       "│          ┆ –…         ┆            ┆ t…         ┆   ┆            ┆           ┆ ished     ┆       │\n",
       "│          ┆            ┆            ┆            ┆   ┆            ┆           ┆ Book …    ┆       │\n",
       "│ …        ┆ …          ┆ …          ┆ …          ┆ … ┆ …          ┆ …         ┆ …         ┆ …     │\n",
       "│ 24970083 ┆ Ask HN:    ┆ ciccioname ┆ Today the  ┆ … ┆ 2020-11-02 ┆ 1.609438  ┆           ┆ train │\n",
       "│          ┆ Would you  ┆ nte        ┆ Raspberry  ┆   ┆ 16:47:55   ┆           ┆ Ask HN:   ┆       │\n",
       "│          ┆ like an    ┆            ┆ Pi 400     ┆   ┆            ┆           ┆ Would you ┆       │\n",
       "│          ┆ Appl…      ┆            ┆ has…       ┆   ┆            ┆           ┆ like an   ┆       │\n",
       "│          ┆            ┆            ┆            ┆   ┆            ┆           ┆ App…      ┆       │\n",
       "│ 19907580 ┆ ASIC Verif ┆ mavensilic ┆ ASIC       ┆ … ┆ 2019-05-14 ┆ 0.0       ┆           ┆ train │\n",
       "│          ┆ ication    ┆ on         ┆ Design and ┆   ┆ 07:46:53   ┆           ┆ ASIC Veri ┆       │\n",
       "│          ┆ Course in  ┆            ┆ Verificati ┆   ┆            ┆           ┆ fication  ┆       │\n",
       "│          ┆ Ba…        ┆            ┆ on c…      ┆   ┆            ┆           ┆ Course in ┆       │\n",
       "│          ┆            ┆            ┆            ┆   ┆            ┆           ┆ B…        ┆       │\n",
       "│ 34455854 ┆ Ask HN:    ┆ jgwil2     ┆ I have     ┆ … ┆ 2023-01-20 ┆ 5.062595  ┆           ┆ test  │\n",
       "│          ┆ Google     ┆            ┆ noticed an ┆   ┆ 16:50:27   ┆           ┆ Ask HN:   ┆       │\n",
       "│          ┆ spam       ┆            ┆ uptick in  ┆   ┆            ┆           ┆ Google    ┆       │\n",
       "│          ┆ filter     ┆            ┆ un…        ┆   ┆            ┆           ┆ spam      ┆       │\n",
       "│          ┆ get…       ┆            ┆            ┆   ┆            ┆           ┆ filter    ┆       │\n",
       "│          ┆            ┆            ┆            ┆   ┆            ┆           ┆ ge…       ┆       │\n",
       "│ 11965471 ┆ Ask HN:    ┆ selfthrow  ┆ I am a     ┆ … ┆ 2016-06-24 ┆ 0.0       ┆           ┆ train │\n",
       "│          ┆ How can I  ┆            ┆ long time  ┆   ┆ 00:55:03   ┆           ┆ Ask HN:   ┆       │\n",
       "│          ┆ get iOS    ┆            ┆ lurker     ┆   ┆            ┆           ┆ How can I ┆       │\n",
       "│          ┆ proj…      ┆            ┆ here. …    ┆   ┆            ┆           ┆ get iOS   ┆       │\n",
       "│          ┆            ┆            ┆            ┆   ┆            ┆           ┆ pro…      ┆       │\n",
       "│ 27678401 ┆ Ask HN:    ┆ protomyth  ┆ I called   ┆ … ┆ 2021-06-29 ┆ 1.098612  ┆           ┆ train │\n",
       "│          ┆ Has anyone ┆            ┆ into the   ┆   ┆ 16:44:27   ┆           ┆ Ask HN:   ┆       │\n",
       "│          ┆ hooked a   ┆            ┆ phone line ┆   ┆            ┆           ┆ Has       ┆       │\n",
       "│          ┆ vo…        ┆            ┆ o…         ┆   ┆            ┆           ┆ anyone    ┆       │\n",
       "│          ┆            ┆            ┆            ┆   ┆            ┆           ┆ hooked a  ┆       │\n",
       "│          ┆            ┆            ┆            ┆   ┆            ┆           ┆ v…        ┆       │\n",
       "└──────────┴────────────┴────────────┴────────────┴───┴────────────┴───────────┴───────────┴───────┘"
      ]
     },
     "execution_count": 24,
     "metadata": {},
     "output_type": "execute_result"
    }
   ],
   "source": [
    "from utils import stories_dataset\n",
    "import polars as pl\n",
    "\n",
    "stories = stories_dataset()\n",
    "\n",
    "small_sample = stories.sample(10000, seed=42)\n",
    "\n",
    "small_sample"
   ]
  },
  {
   "cell_type": "code",
   "execution_count": 27,
   "metadata": {},
   "outputs": [
    {
     "name": "stdout",
     "output_type": "stream",
     "text": [
      "Loading tokenizer and model...\n"
     ]
    },
    {
     "data": {
      "application/vnd.jupyter.widget-view+json": {
       "model_id": "21a6fb230a324144838490def35ffeb1",
       "version_major": 2,
       "version_minor": 0
      },
      "text/plain": [
       "Loading checkpoint shards:   0%|          | 0/4 [00:00<?, ?it/s]"
      ]
     },
     "metadata": {},
     "output_type": "display_data"
    },
    {
     "name": "stderr",
     "output_type": "stream",
     "text": [
      "Some weights of LlamaForSequenceClassification were not initialized from the model checkpoint at unsloth/Meta-Llama-3.1-8B and are newly initialized: ['score.weight']\n",
      "You should probably TRAIN this model on a down-stream task to be able to use it for predictions and inference.\n"
     ]
    },
    {
     "name": "stdout",
     "output_type": "stream",
     "text": [
      "Model loaded and Liger kernel applied successfully.\n"
     ]
    }
   ],
   "source": [
    "import torch\n",
    "from transformers import AutoModelForSequenceClassification, AutoTokenizer\n",
    "from peft import PeftModel\n",
    "from liger_kernel.transformers import _apply_liger_kernel_to_instance\n",
    "\n",
    "# Configuration\n",
    "base_model = \"unsloth/Meta-Llama-3.1-8B\"\n",
    "run_name = \"stories_model_v2\"\n",
    "output_dir = f\"./models/{run_name}\"\n",
    "max_length = 4096\n",
    "\n",
    "print(\"Loading tokenizer and model...\")\n",
    "tokenizer = AutoTokenizer.from_pretrained(\n",
    "    output_dir,\n",
    "    truncation=True,\n",
    "    padding=True,\n",
    "    max_length=max_length,\n",
    ")\n",
    "\n",
    "model = AutoModelForSequenceClassification.from_pretrained(\n",
    "    base_model,\n",
    "    num_labels=1,\n",
    "    device_map=\"auto\",\n",
    "    attn_implementation=\"flash_attention_2\",\n",
    "    torch_dtype=torch.bfloat16,\n",
    ")\n",
    "\n",
    "# Apply the Liger kernel to the model\n",
    "_apply_liger_kernel_to_instance(model=model)\n",
    "\n",
    "# Load the trained PEFT model\n",
    "model = PeftModel.from_pretrained(model, output_dir)\n",
    "\n",
    "print(\"Model loaded and Liger kernel applied successfully.\")\n"
   ]
  },
  {
   "cell_type": "code",
   "execution_count": 19,
   "metadata": {},
   "outputs": [
    {
     "name": "stdout",
     "output_type": "stream",
     "text": [
      "Loading tokenizer and model...\n"
     ]
    },
    {
     "data": {
      "application/vnd.jupyter.widget-view+json": {
       "model_id": "0b08aeb2d5a546b8a9fc1ed94c3066bc",
       "version_major": 2,
       "version_minor": 0
      },
      "text/plain": [
       "Loading checkpoint shards:   0%|          | 0/4 [00:00<?, ?it/s]"
      ]
     },
     "metadata": {},
     "output_type": "display_data"
    },
    {
     "name": "stderr",
     "output_type": "stream",
     "text": [
      "Some weights of LlamaForSequenceClassification were not initialized from the model checkpoint at unsloth/Meta-Llama-3.1-8B and are newly initialized: ['score.weight']\n",
      "You should probably TRAIN this model on a down-stream task to be able to use it for predictions and inference.\n"
     ]
    },
    {
     "name": "stdout",
     "output_type": "stream",
     "text": [
      "Model loaded, merged, and Liger kernel applied successfully.\n"
     ]
    }
   ],
   "source": [
    "# import torch\n",
    "# from transformers import AutoModelForSequenceClassification, AutoTokenizer\n",
    "# from peft import PeftModel\n",
    "# from liger_kernel.transformers import _apply_liger_kernel_to_instance\n",
    "\n",
    "# # Configuration\n",
    "# base_model = \"unsloth/Meta-Llama-3.1-8B\"\n",
    "# run_name = \"stories_model_v2\"\n",
    "# output_dir = f\"./models/{run_name}\"\n",
    "# max_length = 4096\n",
    "\n",
    "# print(\"Loading tokenizer and model...\")\n",
    "# tokenizer = AutoTokenizer.from_pretrained(\n",
    "#     output_dir,\n",
    "#     truncation=True,\n",
    "#     padding=True,\n",
    "#     max_length=max_length,\n",
    "# )\n",
    "\n",
    "# model = AutoModelForSequenceClassification.from_pretrained(\n",
    "#     base_model,\n",
    "#     num_labels=1,\n",
    "#     device_map=\"auto\",\n",
    "#     attn_implementation=\"flash_attention_2\",\n",
    "#     torch_dtype=torch.bfloat16,\n",
    "# )\n",
    "\n",
    "# model = PeftModel.from_pretrained(model, output_dir)\n",
    "# model = model.merge_and_unload()\n",
    "\n",
    "# # Apply the Liger kernel to the model\n",
    "# _apply_liger_kernel_to_instance(model=model)\n",
    "\n",
    "# # Load the trained PEFT model\n",
    "\n",
    "# print(\"Model loaded, merged, and Liger kernel applied successfully.\")\n"
   ]
  },
  {
   "cell_type": "code",
   "execution_count": 12,
   "metadata": {},
   "outputs": [],
   "source": [
    "from sklearn.metrics import mean_squared_error\n",
    "import numpy as np\n",
    "\n",
    "\n",
    "def calculate_rmse(actual, predicted):\n",
    "    return np.sqrt(mean_squared_error(actual, predicted))\n"
   ]
  },
  {
   "cell_type": "markdown",
   "metadata": {},
   "source": [
    "Learnings:\n",
    " - Time to process 10000 stories with unmerged PEFT model: 1m 13s\n",
    " - Time to process 10000 stories with merged PEFT model: 1m 24s\n",
    " - Probably not worth merging for small sample sizes, but worth it for large batches."
   ]
  },
  {
   "cell_type": "code",
   "execution_count": 28,
   "metadata": {},
   "outputs": [
    {
     "name": "stderr",
     "output_type": "stream",
     "text": [
      "100%|██████████| 2500/2500 [01:21<00:00, 30.82it/s]"
     ]
    },
    {
     "name": "stdout",
     "output_type": "stream",
     "text": [
      "RMSE 1.1261623220488448\n"
     ]
    },
    {
     "name": "stderr",
     "output_type": "stream",
     "text": [
      "\n"
     ]
    },
    {
     "data": {
      "text/html": [
       "<div><style>\n",
       ".dataframe > thead > tr,\n",
       ".dataframe > tbody > tr {\n",
       "  text-align: right;\n",
       "  white-space: pre-wrap;\n",
       "}\n",
       "</style>\n",
       "<small>shape: (10_000, 12)</small><table border=\"1\" class=\"dataframe\"><thead><tr><th>id</th><th>title</th><th>by</th><th>text</th><th>score</th><th>descendants</th><th>time</th><th>log_score</th><th>serialized</th><th>split</th><th>log_predicted_score</th><th>predicted_score</th></tr><tr><td>i64</td><td>str</td><td>str</td><td>str</td><td>i64</td><td>i64</td><td>datetime[μs]</td><td>f64</td><td>str</td><td>str</td><td>f64</td><td>f64</td></tr></thead><tbody><tr><td>34724037</td><td>&quot;Ask HN: How can I get into Neu…</td><td>&quot;notmindthegap&quot;</td><td>&quot;Hi all – I’m in my mid-30s, we…</td><td>2</td><td>0</td><td>2023-02-09 14:05:38</td><td>0.693147</td><td>&quot;\n",
       "Ask HN: How can I get into Ne…</td><td>&quot;test&quot;</td><td>0.984375</td><td>2.676139</td></tr><tr><td>22604483</td><td>&quot;Ask HN: Does having some stres…</td><td>&quot;jbms&quot;</td><td>&quot;I&amp;#x27;ve really enjoyed some …</td><td>1</td><td>0</td><td>2020-03-17 13:06:20</td><td>0.0</td><td>&quot;\n",
       "Ask HN: Does having some stre…</td><td>&quot;train&quot;</td><td>0.605469</td><td>1.832111</td></tr><tr><td>33173205</td><td>&quot;Coaching for “Normals”?&quot;</td><td>&quot;wanderingCoder&quot;</td><td>&quot;I&amp;#x27;m interested in finding…</td><td>73</td><td>61</td><td>2022-10-12 05:26:38</td><td>4.290459</td><td>&quot;\n",
       "Coaching for “Normals”?\n",
       "wande…</td><td>&quot;train&quot;</td><td>0.6875</td><td>1.988737</td></tr><tr><td>38838197</td><td>&quot;Internet, Blockchain, AI, Amar…</td><td>&quot;bernardlunn&quot;</td><td>&quot;Amara’s Law (coined by Roy Ama…</td><td>3</td><td>2</td><td>2024-01-02 04:42:10</td><td>1.098612</td><td>&quot;\n",
       "Internet, Blockchain, AI, Ama…</td><td>&quot;train&quot;</td><td>0.644531</td><td>1.905094</td></tr><tr><td>22675416</td><td>&quot;Show HN: Self-Published Book –…</td><td>&quot;anconia&quot;</td><td>&quot;I just self-published a book t…</td><td>24</td><td>13</td><td>2020-03-24 15:32:53</td><td>3.178054</td><td>&quot;\n",
       "Show HN: Self-Published Book …</td><td>&quot;train&quot;</td><td>0.9765625</td><td>2.655313</td></tr><tr><td>&hellip;</td><td>&hellip;</td><td>&hellip;</td><td>&hellip;</td><td>&hellip;</td><td>&hellip;</td><td>&hellip;</td><td>&hellip;</td><td>&hellip;</td><td>&hellip;</td><td>&hellip;</td><td>&hellip;</td></tr><tr><td>24970083</td><td>&quot;Ask HN: Would you like an Appl…</td><td>&quot;ciccionamente&quot;</td><td>&quot;Today the Raspberry Pi 400 has…</td><td>5</td><td>11</td><td>2020-11-02 16:47:55</td><td>1.609438</td><td>&quot;\n",
       "Ask HN: Would you like an App…</td><td>&quot;train&quot;</td><td>1.1015625</td><td>3.008864</td></tr><tr><td>19907580</td><td>&quot;ASIC Verification Course in Ba…</td><td>&quot;mavensilicon&quot;</td><td>&quot;ASIC Design and Verification c…</td><td>1</td><td>0</td><td>2019-05-14 07:46:53</td><td>0.0</td><td>&quot;\n",
       "ASIC Verification Course in B…</td><td>&quot;train&quot;</td><td>0.116699</td><td>1.123781</td></tr><tr><td>34455854</td><td>&quot;Ask HN: Google spam filter get…</td><td>&quot;jgwil2&quot;</td><td>&quot;I have noticed an uptick in un…</td><td>158</td><td>91</td><td>2023-01-20 16:50:27</td><td>5.062595</td><td>&quot;\n",
       "Ask HN: Google spam filter ge…</td><td>&quot;test&quot;</td><td>1.3203125</td><td>3.744591</td></tr><tr><td>11965471</td><td>&quot;Ask HN: How can I get iOS proj…</td><td>&quot;selfthrow&quot;</td><td>&quot;I am a long time lurker here. …</td><td>1</td><td>0</td><td>2016-06-24 00:55:03</td><td>0.0</td><td>&quot;\n",
       "Ask HN: How can I get iOS pro…</td><td>&quot;train&quot;</td><td>0.7109375</td><td>2.035899</td></tr><tr><td>27678401</td><td>&quot;Ask HN: Has anyone hooked a vo…</td><td>&quot;protomyth&quot;</td><td>&quot;I called into the phone line o…</td><td>3</td><td>2</td><td>2021-06-29 16:44:27</td><td>1.098612</td><td>&quot;\n",
       "Ask HN: Has anyone hooked a v…</td><td>&quot;train&quot;</td><td>0.921875</td><td>2.514</td></tr></tbody></table></div>"
      ],
      "text/plain": [
       "shape: (10_000, 12)\n",
       "┌──────────┬────────────┬────────────┬────────────┬───┬────────────┬───────┬───────────┬───────────┐\n",
       "│ id       ┆ title      ┆ by         ┆ text       ┆ … ┆ serialized ┆ split ┆ log_predi ┆ predicted │\n",
       "│ ---      ┆ ---        ┆ ---        ┆ ---        ┆   ┆ ---        ┆ ---   ┆ cted_scor ┆ _score    │\n",
       "│ i64      ┆ str        ┆ str        ┆ str        ┆   ┆ str        ┆ str   ┆ e         ┆ ---       │\n",
       "│          ┆            ┆            ┆            ┆   ┆            ┆       ┆ ---       ┆ f64       │\n",
       "│          ┆            ┆            ┆            ┆   ┆            ┆       ┆ f64       ┆           │\n",
       "╞══════════╪════════════╪════════════╪════════════╪═══╪════════════╪═══════╪═══════════╪═══════════╡\n",
       "│ 34724037 ┆ Ask HN:    ┆ notmindthe ┆ Hi all –   ┆ … ┆            ┆ test  ┆ 0.984375  ┆ 2.676139  │\n",
       "│          ┆ How can I  ┆ gap        ┆ I’m in my  ┆   ┆ Ask HN:    ┆       ┆           ┆           │\n",
       "│          ┆ get into   ┆            ┆ mid-30s,   ┆   ┆ How can I  ┆       ┆           ┆           │\n",
       "│          ┆ Neu…       ┆            ┆ we…        ┆   ┆ get into   ┆       ┆           ┆           │\n",
       "│          ┆            ┆            ┆            ┆   ┆ Ne…        ┆       ┆           ┆           │\n",
       "│ 22604483 ┆ Ask HN:    ┆ jbms       ┆ I&#x27;ve  ┆ … ┆            ┆ train ┆ 0.605469  ┆ 1.832111  │\n",
       "│          ┆ Does       ┆            ┆ really     ┆   ┆ Ask HN:    ┆       ┆           ┆           │\n",
       "│          ┆ having     ┆            ┆ enjoyed    ┆   ┆ Does       ┆       ┆           ┆           │\n",
       "│          ┆ some       ┆            ┆ some …     ┆   ┆ having     ┆       ┆           ┆           │\n",
       "│          ┆ stres…     ┆            ┆            ┆   ┆ some stre… ┆       ┆           ┆           │\n",
       "│ 33173205 ┆ Coaching   ┆ wanderingC ┆ I&#x27;m   ┆ … ┆            ┆ train ┆ 0.6875    ┆ 1.988737  │\n",
       "│          ┆ for        ┆ oder       ┆ interested ┆   ┆ Coaching   ┆       ┆           ┆           │\n",
       "│          ┆ “Normals”? ┆            ┆ in         ┆   ┆ for        ┆       ┆           ┆           │\n",
       "│          ┆            ┆            ┆ finding…   ┆   ┆ “Normals”? ┆       ┆           ┆           │\n",
       "│          ┆            ┆            ┆            ┆   ┆ wande…     ┆       ┆           ┆           │\n",
       "│ 38838197 ┆ Internet,  ┆ bernardlun ┆ Amara’s    ┆ … ┆            ┆ train ┆ 0.644531  ┆ 1.905094  │\n",
       "│          ┆ Blockchain ┆ n          ┆ Law        ┆   ┆ Internet,  ┆       ┆           ┆           │\n",
       "│          ┆ , AI,      ┆            ┆ (coined by ┆   ┆ Blockchain ┆       ┆           ┆           │\n",
       "│          ┆ Amar…      ┆            ┆ Roy Ama…   ┆   ┆ , AI, Ama… ┆       ┆           ┆           │\n",
       "│ 22675416 ┆ Show HN:   ┆ anconia    ┆ I just sel ┆ … ┆            ┆ train ┆ 0.9765625 ┆ 2.655313  │\n",
       "│          ┆ Self-Publi ┆            ┆ f-publishe ┆   ┆ Show HN:   ┆       ┆           ┆           │\n",
       "│          ┆ shed Book  ┆            ┆ d a book   ┆   ┆ Self-Publi ┆       ┆           ┆           │\n",
       "│          ┆ –…         ┆            ┆ t…         ┆   ┆ shed Book  ┆       ┆           ┆           │\n",
       "│          ┆            ┆            ┆            ┆   ┆ …          ┆       ┆           ┆           │\n",
       "│ …        ┆ …          ┆ …          ┆ …          ┆ … ┆ …          ┆ …     ┆ …         ┆ …         │\n",
       "│ 24970083 ┆ Ask HN:    ┆ ciccioname ┆ Today the  ┆ … ┆            ┆ train ┆ 1.1015625 ┆ 3.008864  │\n",
       "│          ┆ Would you  ┆ nte        ┆ Raspberry  ┆   ┆ Ask HN:    ┆       ┆           ┆           │\n",
       "│          ┆ like an    ┆            ┆ Pi 400     ┆   ┆ Would you  ┆       ┆           ┆           │\n",
       "│          ┆ Appl…      ┆            ┆ has…       ┆   ┆ like an    ┆       ┆           ┆           │\n",
       "│          ┆            ┆            ┆            ┆   ┆ App…       ┆       ┆           ┆           │\n",
       "│ 19907580 ┆ ASIC Verif ┆ mavensilic ┆ ASIC       ┆ … ┆            ┆ train ┆ 0.116699  ┆ 1.123781  │\n",
       "│          ┆ ication    ┆ on         ┆ Design and ┆   ┆ ASIC Verif ┆       ┆           ┆           │\n",
       "│          ┆ Course in  ┆            ┆ Verificati ┆   ┆ ication    ┆       ┆           ┆           │\n",
       "│          ┆ Ba…        ┆            ┆ on c…      ┆   ┆ Course in  ┆       ┆           ┆           │\n",
       "│          ┆            ┆            ┆            ┆   ┆ B…         ┆       ┆           ┆           │\n",
       "│ 34455854 ┆ Ask HN:    ┆ jgwil2     ┆ I have     ┆ … ┆            ┆ test  ┆ 1.3203125 ┆ 3.744591  │\n",
       "│          ┆ Google     ┆            ┆ noticed an ┆   ┆ Ask HN:    ┆       ┆           ┆           │\n",
       "│          ┆ spam       ┆            ┆ uptick in  ┆   ┆ Google     ┆       ┆           ┆           │\n",
       "│          ┆ filter     ┆            ┆ un…        ┆   ┆ spam       ┆       ┆           ┆           │\n",
       "│          ┆ get…       ┆            ┆            ┆   ┆ filter ge… ┆       ┆           ┆           │\n",
       "│ 11965471 ┆ Ask HN:    ┆ selfthrow  ┆ I am a     ┆ … ┆            ┆ train ┆ 0.7109375 ┆ 2.035899  │\n",
       "│          ┆ How can I  ┆            ┆ long time  ┆   ┆ Ask HN:    ┆       ┆           ┆           │\n",
       "│          ┆ get iOS    ┆            ┆ lurker     ┆   ┆ How can I  ┆       ┆           ┆           │\n",
       "│          ┆ proj…      ┆            ┆ here. …    ┆   ┆ get iOS    ┆       ┆           ┆           │\n",
       "│          ┆            ┆            ┆            ┆   ┆ pro…       ┆       ┆           ┆           │\n",
       "│ 27678401 ┆ Ask HN:    ┆ protomyth  ┆ I called   ┆ … ┆            ┆ train ┆ 0.921875  ┆ 2.514     │\n",
       "│          ┆ Has anyone ┆            ┆ into the   ┆   ┆ Ask HN:    ┆       ┆           ┆           │\n",
       "│          ┆ hooked a   ┆            ┆ phone line ┆   ┆ Has anyone ┆       ┆           ┆           │\n",
       "│          ┆ vo…        ┆            ┆ o…         ┆   ┆ hooked a   ┆       ┆           ┆           │\n",
       "│          ┆            ┆            ┆            ┆   ┆ v…         ┆       ┆           ┆           │\n",
       "└──────────┴────────────┴────────────┴────────────┴───┴────────────┴───────┴───────────┴───────────┘"
      ]
     },
     "execution_count": 28,
     "metadata": {},
     "output_type": "execute_result"
    }
   ],
   "source": [
    "from tqdm import tqdm\n",
    "\n",
    "\n",
    "def run_inference_transformers(prompts: list[str]) -> list[float]:\n",
    "\n",
    "\n",
    "rewards = run_inference_transformers(small_sample[\"serialized\"].to_list())\n",
    "\n",
    "small_sample = small_sample.with_columns(\n",
    "    pl.Series(name=\"log_predicted_score\", values=rewards)\n",
    ")\n",
    "\n",
    "small_sample = small_sample.with_columns(\n",
    "    pl.Series(name=\"predicted_score\", values=small_sample[\"log_predicted_score\"].exp())\n",
    ")\n",
    "\n",
    "print(\n",
    "    \"RMSE\",\n",
    "    calculate_rmse(small_sample[\"log_score\"], small_sample[\"log_predicted_score\"]),\n",
    ")\n",
    "small_sample"
   ]
  }
 ],
 "metadata": {
  "kernelspec": {
   "display_name": ".venv",
   "language": "python",
   "name": "python3"
  },
  "language_info": {
   "codemirror_mode": {
    "name": "ipython",
    "version": 3
   },
   "file_extension": ".py",
   "mimetype": "text/x-python",
   "name": "python",
   "nbconvert_exporter": "python",
   "pygments_lexer": "ipython3",
   "version": "3.12.5"
  }
 },
 "nbformat": 4,
 "nbformat_minor": 2
}
