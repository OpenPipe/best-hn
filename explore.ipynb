{
 "cells": [
  {
   "cell_type": "code",
   "execution_count": 5,
   "metadata": {},
   "outputs": [
    {
     "name": "stdout",
     "output_type": "stream",
     "text": [
      "Loading dataset...\n"
     ]
    },
    {
     "data": {
      "text/plain": [
       "Dataset({\n",
       "    features: ['chosen', 'rejected', 'chosen_prompt', 'rejected_prompt'],\n",
       "    num_rows: 90000\n",
       "})"
      ]
     },
     "execution_count": 5,
     "metadata": {},
     "output_type": "execute_result"
    }
   ],
   "source": [
    "from datasets import load_from_disk, Dataset\n",
    "from transformers import (\n",
    "    AutoModelForSequenceClassification,\n",
    "    AutoTokenizer,\n",
    ")\n",
    "from trl import RewardTrainer, RewardConfig\n",
    "from peft.tuners.lora import LoraConfig\n",
    "from peft.mapping import get_peft_model\n",
    "import wandb\n",
    "\n",
    "# Configuration\n",
    "model_name = \"unsloth/Llama-3.2-3B\"\n",
    "dataset_path = \"./data/sample_pairs\"\n",
    "output_dir = \"./reward_model_output\"\n",
    "num_epochs = 1\n",
    "batch_size = 8\n",
    "learning_rate = 5e-5\n",
    "max_length = 4096\n",
    "\n",
    "print(\"Loading dataset...\")\n",
    "dataset: Dataset = load_from_disk(dataset_path)[\"train\"]\n",
    "\n",
    "dataset\n"
   ]
  },
  {
   "cell_type": "code",
   "execution_count": 2,
   "metadata": {},
   "outputs": [
    {
     "data": {
      "text/plain": [
       "Dataset({\n",
       "    features: ['_data_files', '_fingerprint', '_format_columns', '_format_kwargs', '_format_type', '_output_all_columns', '_split'],\n",
       "    num_rows: 1\n",
       "})"
      ]
     },
     "execution_count": 2,
     "metadata": {},
     "output_type": "execute_result"
    }
   ],
   "source": [
    "dataset"
   ]
  }
 ],
 "metadata": {
  "kernelspec": {
   "display_name": ".venv",
   "language": "python",
   "name": "python3"
  },
  "language_info": {
   "codemirror_mode": {
    "name": "ipython",
    "version": 3
   },
   "file_extension": ".py",
   "mimetype": "text/x-python",
   "name": "python",
   "nbconvert_exporter": "python",
   "pygments_lexer": "ipython3",
   "version": "3.10.12"
  }
 },
 "nbformat": 4,
 "nbformat_minor": 2
}
