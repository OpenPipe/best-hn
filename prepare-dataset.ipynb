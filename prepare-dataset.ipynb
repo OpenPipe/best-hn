{
 "cells": [
  {
   "cell_type": "code",
   "execution_count": 1,
   "metadata": {},
   "outputs": [
    {
     "data": {
      "application/vnd.jupyter.widget-view+json": {
       "model_id": "ad30e9a418754b64b37e411e76d3822a",
       "version_major": 2,
       "version_minor": 0
      },
      "text/plain": [
       "README.md:   0%|          | 0.00/885 [00:00<?, ?B/s]"
      ]
     },
     "metadata": {},
     "output_type": "display_data"
    },
    {
     "data": {
      "application/vnd.jupyter.widget-view+json": {
       "model_id": "ac902e2f4a184fe8b310a1349adf5c16",
       "version_major": 2,
       "version_minor": 0
      },
      "text/plain": [
       "Resolving data files:   0%|          | 0/39 [00:00<?, ?it/s]"
      ]
     },
     "metadata": {},
     "output_type": "display_data"
    },
    {
     "data": {
      "application/vnd.jupyter.widget-view+json": {
       "model_id": "844b03283c9e483bb376fa0774a9fbf0",
       "version_major": 2,
       "version_minor": 0
      },
      "text/plain": [
       "Resolving data files:   0%|          | 0/39 [00:00<?, ?it/s]"
      ]
     },
     "metadata": {},
     "output_type": "display_data"
    },
    {
     "data": {
      "application/vnd.jupyter.widget-view+json": {
       "model_id": "803962c6925c45deadd95fdb10e00fa1",
       "version_major": 2,
       "version_minor": 0
      },
      "text/plain": [
       "Downloading data:   0%|          | 0/39 [00:00<?, ?files/s]"
      ]
     },
     "metadata": {},
     "output_type": "display_data"
    },
    {
     "data": {
      "application/vnd.jupyter.widget-view+json": {
       "model_id": "b742552f1920483b80f3f6df03310c19",
       "version_major": 2,
       "version_minor": 0
      },
      "text/plain": [
       "train-00000-of-00039.parquet:   0%|          | 0.00/255M [00:00<?, ?B/s]"
      ]
     },
     "metadata": {},
     "output_type": "display_data"
    },
    {
     "data": {
      "application/vnd.jupyter.widget-view+json": {
       "model_id": "364bb231990a435cb7ef2215ac2e90b5",
       "version_major": 2,
       "version_minor": 0
      },
      "text/plain": [
       "train-00001-of-00039.parquet:   0%|          | 0.00/267M [00:00<?, ?B/s]"
      ]
     },
     "metadata": {},
     "output_type": "display_data"
    },
    {
     "data": {
      "application/vnd.jupyter.widget-view+json": {
       "model_id": "4e4e1dd8161d4ae2a3105bce1456819a",
       "version_major": 2,
       "version_minor": 0
      },
      "text/plain": [
       "train-00002-of-00039.parquet:   0%|          | 0.00/261M [00:00<?, ?B/s]"
      ]
     },
     "metadata": {},
     "output_type": "display_data"
    },
    {
     "data": {
      "application/vnd.jupyter.widget-view+json": {
       "model_id": "2c0ea8528e2145ec9ea16c3936be3c50",
       "version_major": 2,
       "version_minor": 0
      },
      "text/plain": [
       "train-00003-of-00039.parquet:   0%|          | 0.00/268M [00:00<?, ?B/s]"
      ]
     },
     "metadata": {},
     "output_type": "display_data"
    },
    {
     "data": {
      "application/vnd.jupyter.widget-view+json": {
       "model_id": "a19eb05e93d146339c9e48fde5a366c4",
       "version_major": 2,
       "version_minor": 0
      },
      "text/plain": [
       "train-00004-of-00039.parquet:   0%|          | 0.00/270M [00:00<?, ?B/s]"
      ]
     },
     "metadata": {},
     "output_type": "display_data"
    },
    {
     "data": {
      "application/vnd.jupyter.widget-view+json": {
       "model_id": "e817c05e86434c3a9a78129b3a36a59b",
       "version_major": 2,
       "version_minor": 0
      },
      "text/plain": [
       "train-00005-of-00039.parquet:   0%|          | 0.00/273M [00:00<?, ?B/s]"
      ]
     },
     "metadata": {},
     "output_type": "display_data"
    },
    {
     "data": {
      "application/vnd.jupyter.widget-view+json": {
       "model_id": "60df62abc14946e08e4c2d3ae096641b",
       "version_major": 2,
       "version_minor": 0
      },
      "text/plain": [
       "train-00006-of-00039.parquet:   0%|          | 0.00/273M [00:00<?, ?B/s]"
      ]
     },
     "metadata": {},
     "output_type": "display_data"
    },
    {
     "data": {
      "application/vnd.jupyter.widget-view+json": {
       "model_id": "5196b4b7f40d46c6880e587731783d5e",
       "version_major": 2,
       "version_minor": 0
      },
      "text/plain": [
       "train-00007-of-00039.parquet:   0%|          | 0.00/279M [00:00<?, ?B/s]"
      ]
     },
     "metadata": {},
     "output_type": "display_data"
    },
    {
     "data": {
      "application/vnd.jupyter.widget-view+json": {
       "model_id": "c41280edee604b748b3c89957ec5b018",
       "version_major": 2,
       "version_minor": 0
      },
      "text/plain": [
       "train-00008-of-00039.parquet:   0%|          | 0.00/283M [00:00<?, ?B/s]"
      ]
     },
     "metadata": {},
     "output_type": "display_data"
    },
    {
     "data": {
      "application/vnd.jupyter.widget-view+json": {
       "model_id": "4659e3d24a8746f794e4e553a5de6572",
       "version_major": 2,
       "version_minor": 0
      },
      "text/plain": [
       "train-00009-of-00039.parquet:   0%|          | 0.00/280M [00:00<?, ?B/s]"
      ]
     },
     "metadata": {},
     "output_type": "display_data"
    },
    {
     "data": {
      "application/vnd.jupyter.widget-view+json": {
       "model_id": "43075a7aaff942d599e19994899e23ed",
       "version_major": 2,
       "version_minor": 0
      },
      "text/plain": [
       "train-00010-of-00039.parquet:   0%|          | 0.00/280M [00:00<?, ?B/s]"
      ]
     },
     "metadata": {},
     "output_type": "display_data"
    },
    {
     "data": {
      "application/vnd.jupyter.widget-view+json": {
       "model_id": "86b096c41981410692039c5315a8ea7d",
       "version_major": 2,
       "version_minor": 0
      },
      "text/plain": [
       "train-00011-of-00039.parquet:   0%|          | 0.00/282M [00:00<?, ?B/s]"
      ]
     },
     "metadata": {},
     "output_type": "display_data"
    },
    {
     "data": {
      "application/vnd.jupyter.widget-view+json": {
       "model_id": "0f511915184444369ffc7a8e35214154",
       "version_major": 2,
       "version_minor": 0
      },
      "text/plain": [
       "train-00012-of-00039.parquet:   0%|          | 0.00/283M [00:00<?, ?B/s]"
      ]
     },
     "metadata": {},
     "output_type": "display_data"
    },
    {
     "data": {
      "application/vnd.jupyter.widget-view+json": {
       "model_id": "3f7bba49f383407b91d29800ad6eb108",
       "version_major": 2,
       "version_minor": 0
      },
      "text/plain": [
       "train-00013-of-00039.parquet:   0%|          | 0.00/280M [00:00<?, ?B/s]"
      ]
     },
     "metadata": {},
     "output_type": "display_data"
    },
    {
     "data": {
      "application/vnd.jupyter.widget-view+json": {
       "model_id": "28a6e13078604bc6b2067fc93124543c",
       "version_major": 2,
       "version_minor": 0
      },
      "text/plain": [
       "train-00014-of-00039.parquet:   0%|          | 0.00/280M [00:00<?, ?B/s]"
      ]
     },
     "metadata": {},
     "output_type": "display_data"
    },
    {
     "data": {
      "application/vnd.jupyter.widget-view+json": {
       "model_id": "30936c0b6ae74df5b54894621c0f91f0",
       "version_major": 2,
       "version_minor": 0
      },
      "text/plain": [
       "train-00015-of-00039.parquet:   0%|          | 0.00/281M [00:00<?, ?B/s]"
      ]
     },
     "metadata": {},
     "output_type": "display_data"
    },
    {
     "data": {
      "application/vnd.jupyter.widget-view+json": {
       "model_id": "b97b4a3bf9f042d3a9eba3f023d8a1c7",
       "version_major": 2,
       "version_minor": 0
      },
      "text/plain": [
       "train-00016-of-00039.parquet:   0%|          | 0.00/284M [00:00<?, ?B/s]"
      ]
     },
     "metadata": {},
     "output_type": "display_data"
    },
    {
     "data": {
      "application/vnd.jupyter.widget-view+json": {
       "model_id": "f1896fd0fdb54caea55b36c2d2f98642",
       "version_major": 2,
       "version_minor": 0
      },
      "text/plain": [
       "train-00017-of-00039.parquet:   0%|          | 0.00/284M [00:00<?, ?B/s]"
      ]
     },
     "metadata": {},
     "output_type": "display_data"
    },
    {
     "data": {
      "application/vnd.jupyter.widget-view+json": {
       "model_id": "49f54d85bc2947218690986d2d2ad31c",
       "version_major": 2,
       "version_minor": 0
      },
      "text/plain": [
       "train-00018-of-00039.parquet:   0%|          | 0.00/283M [00:00<?, ?B/s]"
      ]
     },
     "metadata": {},
     "output_type": "display_data"
    },
    {
     "data": {
      "application/vnd.jupyter.widget-view+json": {
       "model_id": "ab4f47d46e9c4eb9ba6e7716c0d635f4",
       "version_major": 2,
       "version_minor": 0
      },
      "text/plain": [
       "train-00019-of-00039.parquet:   0%|          | 0.00/283M [00:00<?, ?B/s]"
      ]
     },
     "metadata": {},
     "output_type": "display_data"
    },
    {
     "data": {
      "application/vnd.jupyter.widget-view+json": {
       "model_id": "9c0eb2f8ae174163a5afa9042080508c",
       "version_major": 2,
       "version_minor": 0
      },
      "text/plain": [
       "train-00020-of-00039.parquet:   0%|          | 0.00/284M [00:00<?, ?B/s]"
      ]
     },
     "metadata": {},
     "output_type": "display_data"
    },
    {
     "data": {
      "application/vnd.jupyter.widget-view+json": {
       "model_id": "ff23ef9b3285479c96e97a293e895ef3",
       "version_major": 2,
       "version_minor": 0
      },
      "text/plain": [
       "train-00021-of-00039.parquet:   0%|          | 0.00/283M [00:00<?, ?B/s]"
      ]
     },
     "metadata": {},
     "output_type": "display_data"
    },
    {
     "data": {
      "application/vnd.jupyter.widget-view+json": {
       "model_id": "9bc8905087ab4602ad9bc1dd8abdb534",
       "version_major": 2,
       "version_minor": 0
      },
      "text/plain": [
       "train-00022-of-00039.parquet:   0%|          | 0.00/288M [00:00<?, ?B/s]"
      ]
     },
     "metadata": {},
     "output_type": "display_data"
    },
    {
     "data": {
      "application/vnd.jupyter.widget-view+json": {
       "model_id": "78e9821c5f0a4e3ea021621663a5c15b",
       "version_major": 2,
       "version_minor": 0
      },
      "text/plain": [
       "train-00023-of-00039.parquet:   0%|          | 0.00/287M [00:00<?, ?B/s]"
      ]
     },
     "metadata": {},
     "output_type": "display_data"
    },
    {
     "data": {
      "application/vnd.jupyter.widget-view+json": {
       "model_id": "27739dbe3db34649ad4c89630e77559b",
       "version_major": 2,
       "version_minor": 0
      },
      "text/plain": [
       "train-00024-of-00039.parquet:   0%|          | 0.00/289M [00:00<?, ?B/s]"
      ]
     },
     "metadata": {},
     "output_type": "display_data"
    },
    {
     "data": {
      "application/vnd.jupyter.widget-view+json": {
       "model_id": "78d19a8b7f6e456eb4a9f7d9368fbc4c",
       "version_major": 2,
       "version_minor": 0
      },
      "text/plain": [
       "train-00025-of-00039.parquet:   0%|          | 0.00/288M [00:00<?, ?B/s]"
      ]
     },
     "metadata": {},
     "output_type": "display_data"
    },
    {
     "data": {
      "application/vnd.jupyter.widget-view+json": {
       "model_id": "c22f71028bc6482282b7918779627177",
       "version_major": 2,
       "version_minor": 0
      },
      "text/plain": [
       "train-00026-of-00039.parquet:   0%|          | 0.00/291M [00:00<?, ?B/s]"
      ]
     },
     "metadata": {},
     "output_type": "display_data"
    },
    {
     "data": {
      "application/vnd.jupyter.widget-view+json": {
       "model_id": "385b4cfc0ae94d5aa39b9a7e9a87a467",
       "version_major": 2,
       "version_minor": 0
      },
      "text/plain": [
       "train-00027-of-00039.parquet:   0%|          | 0.00/292M [00:00<?, ?B/s]"
      ]
     },
     "metadata": {},
     "output_type": "display_data"
    },
    {
     "data": {
      "application/vnd.jupyter.widget-view+json": {
       "model_id": "0917cf19ac2943f8b9f0340016100071",
       "version_major": 2,
       "version_minor": 0
      },
      "text/plain": [
       "train-00028-of-00039.parquet:   0%|          | 0.00/287M [00:00<?, ?B/s]"
      ]
     },
     "metadata": {},
     "output_type": "display_data"
    },
    {
     "data": {
      "application/vnd.jupyter.widget-view+json": {
       "model_id": "3674895e02474415a54a9d7f45f4e6b6",
       "version_major": 2,
       "version_minor": 0
      },
      "text/plain": [
       "train-00029-of-00039.parquet:   0%|          | 0.00/285M [00:00<?, ?B/s]"
      ]
     },
     "metadata": {},
     "output_type": "display_data"
    },
    {
     "data": {
      "application/vnd.jupyter.widget-view+json": {
       "model_id": "dbef66b8a92a46ab9cda1f0701fbe0cd",
       "version_major": 2,
       "version_minor": 0
      },
      "text/plain": [
       "train-00030-of-00039.parquet:   0%|          | 0.00/281M [00:00<?, ?B/s]"
      ]
     },
     "metadata": {},
     "output_type": "display_data"
    },
    {
     "data": {
      "application/vnd.jupyter.widget-view+json": {
       "model_id": "4585ac02bc1245b78fa1e6f043123da1",
       "version_major": 2,
       "version_minor": 0
      },
      "text/plain": [
       "train-00031-of-00039.parquet:   0%|          | 0.00/279M [00:00<?, ?B/s]"
      ]
     },
     "metadata": {},
     "output_type": "display_data"
    },
    {
     "data": {
      "application/vnd.jupyter.widget-view+json": {
       "model_id": "5f5975c7c881456b85b8859a14d36141",
       "version_major": 2,
       "version_minor": 0
      },
      "text/plain": [
       "train-00032-of-00039.parquet:   0%|          | 0.00/278M [00:00<?, ?B/s]"
      ]
     },
     "metadata": {},
     "output_type": "display_data"
    },
    {
     "data": {
      "application/vnd.jupyter.widget-view+json": {
       "model_id": "37edb8915b484191ab547f36c70282af",
       "version_major": 2,
       "version_minor": 0
      },
      "text/plain": [
       "train-00033-of-00039.parquet:   0%|          | 0.00/275M [00:00<?, ?B/s]"
      ]
     },
     "metadata": {},
     "output_type": "display_data"
    },
    {
     "data": {
      "application/vnd.jupyter.widget-view+json": {
       "model_id": "e5151dcd9ab24ca0b50ad66fe03dce56",
       "version_major": 2,
       "version_minor": 0
      },
      "text/plain": [
       "train-00034-of-00039.parquet:   0%|          | 0.00/277M [00:00<?, ?B/s]"
      ]
     },
     "metadata": {},
     "output_type": "display_data"
    },
    {
     "data": {
      "application/vnd.jupyter.widget-view+json": {
       "model_id": "8ce6d9725b724924bbc1da7554944ed6",
       "version_major": 2,
       "version_minor": 0
      },
      "text/plain": [
       "train-00035-of-00039.parquet:   0%|          | 0.00/270M [00:00<?, ?B/s]"
      ]
     },
     "metadata": {},
     "output_type": "display_data"
    },
    {
     "data": {
      "application/vnd.jupyter.widget-view+json": {
       "model_id": "b104ef0e03e24704b901721fc8c1dced",
       "version_major": 2,
       "version_minor": 0
      },
      "text/plain": [
       "train-00036-of-00039.parquet:   0%|          | 0.00/273M [00:00<?, ?B/s]"
      ]
     },
     "metadata": {},
     "output_type": "display_data"
    },
    {
     "data": {
      "application/vnd.jupyter.widget-view+json": {
       "model_id": "60f1a72a9e2d46f3a73640dcec305ad3",
       "version_major": 2,
       "version_minor": 0
      },
      "text/plain": [
       "train-00037-of-00039.parquet:   0%|          | 0.00/268M [00:00<?, ?B/s]"
      ]
     },
     "metadata": {},
     "output_type": "display_data"
    },
    {
     "data": {
      "application/vnd.jupyter.widget-view+json": {
       "model_id": "1bc0d0b4cb3847b08032b94bc10896a9",
       "version_major": 2,
       "version_minor": 0
      },
      "text/plain": [
       "train-00038-of-00039.parquet:   0%|          | 0.00/269M [00:00<?, ?B/s]"
      ]
     },
     "metadata": {},
     "output_type": "display_data"
    },
    {
     "data": {
      "application/vnd.jupyter.widget-view+json": {
       "model_id": "1ed504fd58fc43d7a25ccf98568c996b",
       "version_major": 2,
       "version_minor": 0
      },
      "text/plain": [
       "Generating train split:   0%|          | 0/41813385 [00:00<?, ? examples/s]"
      ]
     },
     "metadata": {},
     "output_type": "display_data"
    },
    {
     "data": {
      "application/vnd.jupyter.widget-view+json": {
       "model_id": "0df85929c7cb494080b949ba5dc81a34",
       "version_major": 2,
       "version_minor": 0
      },
      "text/plain": [
       "Loading dataset shards:   0%|          | 0/39 [00:00<?, ?it/s]"
      ]
     },
     "metadata": {},
     "output_type": "display_data"
    },
    {
     "data": {
      "text/html": [
       "<div><style>\n",
       ".dataframe > thead > tr,\n",
       ".dataframe > tbody > tr {\n",
       "  text-align: right;\n",
       "  white-space: pre-wrap;\n",
       "}\n",
       "</style>\n",
       "<small>shape: (41_813_385, 14)</small><table border=\"1\" class=\"dataframe\"><thead><tr><th>id</th><th>type</th><th>by</th><th>time</th><th>title</th><th>text</th><th>url</th><th>score</th><th>parent</th><th>top_level_parent</th><th>descendants</th><th>kids</th><th>deleted</th><th>dead</th></tr><tr><td>i64</td><td>str</td><td>str</td><td>datetime[μs]</td><td>str</td><td>str</td><td>str</td><td>i64</td><td>i64</td><td>i64</td><td>i64</td><td>list[i64]</td><td>bool</td><td>bool</td></tr></thead><tbody><tr><td>0</td><td>null</td><td>null</td><td>null</td><td>null</td><td>null</td><td>null</td><td>null</td><td>null</td><td>0</td><td>null</td><td>null</td><td>true</td><td>null</td></tr><tr><td>1</td><td>&quot;story&quot;</td><td>&quot;pg&quot;</td><td>2006-10-09 18:21:51</td><td>&quot;Y Combinator&quot;</td><td>null</td><td>&quot;http://ycombinator.com&quot;</td><td>57</td><td>null</td><td>1</td><td>15</td><td>[15, 234509, … 82729]</td><td>null</td><td>null</td></tr><tr><td>2</td><td>&quot;story&quot;</td><td>&quot;phyllis&quot;</td><td>2006-10-09 18:30:28</td><td>&quot;A Student&#x27;s Guide to Startups&quot;</td><td>null</td><td>&quot;http://www.paulgraham.com/mit.…</td><td>16</td><td>null</td><td>2</td><td>0</td><td>null</td><td>null</td><td>null</td></tr><tr><td>3</td><td>&quot;story&quot;</td><td>&quot;phyllis&quot;</td><td>2006-10-09 18:40:33</td><td>&quot;Woz Interview: the early days …</td><td>null</td><td>&quot;http://www.foundersatwork.com/…</td><td>7</td><td>null</td><td>3</td><td>0</td><td>[531602]</td><td>null</td><td>null</td></tr><tr><td>4</td><td>&quot;story&quot;</td><td>&quot;onebeerdave&quot;</td><td>2006-10-09 18:47:42</td><td>&quot;NYC Developer Dilemma&quot;</td><td>null</td><td>&quot;http://avc.blogs.com/a_vc/2006…</td><td>5</td><td>null</td><td>4</td><td>0</td><td>null</td><td>null</td><td>null</td></tr><tr><td>&hellip;</td><td>&hellip;</td><td>&hellip;</td><td>&hellip;</td><td>&hellip;</td><td>&hellip;</td><td>&hellip;</td><td>&hellip;</td><td>&hellip;</td><td>&hellip;</td><td>&hellip;</td><td>&hellip;</td><td>&hellip;</td><td>&hellip;</td></tr><tr><td>41813380</td><td>&quot;comment&quot;</td><td>&quot;slightwinder&quot;</td><td>2024-10-11 20:26:18</td><td>null</td><td>&quot;&amp;gt; It genuinely astounds me …</td><td>null</td><td>null</td><td>41810691</td><td>41808943</td><td>null</td><td>null</td><td>null</td><td>null</td></tr><tr><td>41813381</td><td>&quot;comment&quot;</td><td>&quot;marcosdumay&quot;</td><td>2024-10-11 20:26:21</td><td>null</td><td>&quot;Add forced sedentarism into th…</td><td>null</td><td>null</td><td>41812891</td><td>41811263</td><td>null</td><td>null</td><td>null</td><td>null</td></tr><tr><td>41813382</td><td>&quot;story&quot;</td><td>&quot;turkeynecks&quot;</td><td>2024-10-11 20:26:24</td><td>&quot;Mini DOOM-like FPS in BooBoo p…</td><td>null</td><td>&quot;https://www.indiedb.com/games/…</td><td>1</td><td>null</td><td>41813382</td><td>0</td><td>null</td><td>null</td><td>null</td></tr><tr><td>41813383</td><td>&quot;comment&quot;</td><td>&quot;davio&quot;</td><td>2024-10-11 20:26:28</td><td>null</td><td>&quot;hims sells the generic version…</td><td>null</td><td>null</td><td>41813102</td><td>41811263</td><td>null</td><td>null</td><td>null</td><td>null</td></tr><tr><td>41813384</td><td>&quot;comment&quot;</td><td>&quot;btilly&quot;</td><td>2024-10-11 20:26:29</td><td>null</td><td>&quot;Well, if you want a simple arg…</td><td>null</td><td>null</td><td>41812134</td><td>41808127</td><td>null</td><td>null</td><td>null</td><td>null</td></tr></tbody></table></div>"
      ],
      "text/plain": [
       "shape: (41_813_385, 14)\n",
       "┌──────────┬─────────┬──────────────┬─────────────┬───┬─────────────┬─────────────┬─────────┬──────┐\n",
       "│ id       ┆ type    ┆ by           ┆ time        ┆ … ┆ descendants ┆ kids        ┆ deleted ┆ dead │\n",
       "│ ---      ┆ ---     ┆ ---          ┆ ---         ┆   ┆ ---         ┆ ---         ┆ ---     ┆ ---  │\n",
       "│ i64      ┆ str     ┆ str          ┆ datetime[μs ┆   ┆ i64         ┆ list[i64]   ┆ bool    ┆ bool │\n",
       "│          ┆         ┆              ┆ ]           ┆   ┆             ┆             ┆         ┆      │\n",
       "╞══════════╪═════════╪══════════════╪═════════════╪═══╪═════════════╪═════════════╪═════════╪══════╡\n",
       "│ 0        ┆ null    ┆ null         ┆ null        ┆ … ┆ null        ┆ null        ┆ true    ┆ null │\n",
       "│ 1        ┆ story   ┆ pg           ┆ 2006-10-09  ┆ … ┆ 15          ┆ [15,        ┆ null    ┆ null │\n",
       "│          ┆         ┆              ┆ 18:21:51    ┆   ┆             ┆ 234509, …   ┆         ┆      │\n",
       "│          ┆         ┆              ┆             ┆   ┆             ┆ 82729]      ┆         ┆      │\n",
       "│ 2        ┆ story   ┆ phyllis      ┆ 2006-10-09  ┆ … ┆ 0           ┆ null        ┆ null    ┆ null │\n",
       "│          ┆         ┆              ┆ 18:30:28    ┆   ┆             ┆             ┆         ┆      │\n",
       "│ 3        ┆ story   ┆ phyllis      ┆ 2006-10-09  ┆ … ┆ 0           ┆ [531602]    ┆ null    ┆ null │\n",
       "│          ┆         ┆              ┆ 18:40:33    ┆   ┆             ┆             ┆         ┆      │\n",
       "│ 4        ┆ story   ┆ onebeerdave  ┆ 2006-10-09  ┆ … ┆ 0           ┆ null        ┆ null    ┆ null │\n",
       "│          ┆         ┆              ┆ 18:47:42    ┆   ┆             ┆             ┆         ┆      │\n",
       "│ …        ┆ …       ┆ …            ┆ …           ┆ … ┆ …           ┆ …           ┆ …       ┆ …    │\n",
       "│ 41813380 ┆ comment ┆ slightwinder ┆ 2024-10-11  ┆ … ┆ null        ┆ null        ┆ null    ┆ null │\n",
       "│          ┆         ┆              ┆ 20:26:18    ┆   ┆             ┆             ┆         ┆      │\n",
       "│ 41813381 ┆ comment ┆ marcosdumay  ┆ 2024-10-11  ┆ … ┆ null        ┆ null        ┆ null    ┆ null │\n",
       "│          ┆         ┆              ┆ 20:26:21    ┆   ┆             ┆             ┆         ┆      │\n",
       "│ 41813382 ┆ story   ┆ turkeynecks  ┆ 2024-10-11  ┆ … ┆ 0           ┆ null        ┆ null    ┆ null │\n",
       "│          ┆         ┆              ┆ 20:26:24    ┆   ┆             ┆             ┆         ┆      │\n",
       "│ 41813383 ┆ comment ┆ davio        ┆ 2024-10-11  ┆ … ┆ null        ┆ null        ┆ null    ┆ null │\n",
       "│          ┆         ┆              ┆ 20:26:28    ┆   ┆             ┆             ┆         ┆      │\n",
       "│ 41813384 ┆ comment ┆ btilly       ┆ 2024-10-11  ┆ … ┆ null        ┆ null        ┆ null    ┆ null │\n",
       "│          ┆         ┆              ┆ 20:26:29    ┆   ┆             ┆             ┆         ┆      │\n",
       "└──────────┴─────────┴──────────────┴─────────────┴───┴─────────────┴─────────────┴─────────┴──────┘"
      ]
     },
     "execution_count": 1,
     "metadata": {},
     "output_type": "execute_result"
    }
   ],
   "source": [
    "import polars as pl\n",
    "from datasets import load_dataset, Dataset\n",
    "\n",
    "# Load the dataset from Huggingface\n",
    "dataset: Dataset = load_dataset(\"OpenPipe/hacker-news\", split=\"train\")\n",
    "\n",
    "# Convert the dataset to a Polars DataFrame\n",
    "df: pl.DataFrame = dataset.to_polars()\n",
    "\n",
    "del dataset\n",
    "\n",
    "df"
   ]
  },
  {
   "cell_type": "code",
   "execution_count": 2,
   "metadata": {},
   "outputs": [
    {
     "data": {
      "text/html": [
       "<div><style>\n",
       ".dataframe > thead > tr,\n",
       ".dataframe > tbody > tr {\n",
       "  text-align: right;\n",
       "  white-space: pre-wrap;\n",
       "}\n",
       "</style>\n",
       "<small>shape: (36_323_460, 15)</small><table border=\"1\" class=\"dataframe\"><thead><tr><th>id</th><th>type</th><th>by</th><th>time</th><th>title</th><th>text</th><th>url</th><th>score</th><th>parent</th><th>top_level_parent</th><th>descendants</th><th>kids</th><th>deleted</th><th>dead</th><th>siblings_count</th></tr><tr><td>i64</td><td>str</td><td>str</td><td>datetime[μs]</td><td>str</td><td>str</td><td>str</td><td>i64</td><td>i64</td><td>i64</td><td>i64</td><td>list[i64]</td><td>bool</td><td>bool</td><td>u32</td></tr></thead><tbody><tr><td>15</td><td>&quot;comment&quot;</td><td>&quot;sama&quot;</td><td>2006-10-09 19:51:01</td><td>null</td><td>&quot;&amp;#34;the rising star of ventur…</td><td>null</td><td>null</td><td>1</td><td>1</td><td>null</td><td>[17]</td><td>null</td><td>null</td><td>4</td></tr><tr><td>17</td><td>&quot;comment&quot;</td><td>&quot;pg&quot;</td><td>2006-10-09 19:52:45</td><td>null</td><td>&quot;Is there anywhere to eat on Sa…</td><td>null</td><td>null</td><td>15</td><td>1</td><td>null</td><td>[1079]</td><td>null</td><td>null</td><td>1</td></tr><tr><td>22</td><td>&quot;comment&quot;</td><td>&quot;pg&quot;</td><td>2006-10-10 02:18:22</td><td>null</td><td>&quot;It&#x27;s kind of funny that Sevin …</td><td>null</td><td>null</td><td>21</td><td>21</td><td>null</td><td>null</td><td>null</td><td>null</td><td>1</td></tr><tr><td>23</td><td>&quot;comment&quot;</td><td>&quot;starklysnarky&quot;</td><td>2006-10-10 02:30:53</td><td>null</td><td>&quot;This is interesting, but the l…</td><td>null</td><td>null</td><td>20</td><td>20</td><td>null</td><td>null</td><td>null</td><td>null</td><td>1</td></tr><tr><td>30</td><td>&quot;comment&quot;</td><td>&quot;spez&quot;</td><td>2006-10-10 15:34:59</td><td>null</td><td>&quot;Stay tuned...&quot;</td><td>null</td><td>null</td><td>29</td><td>29</td><td>null</td><td>[31]</td><td>null</td><td>null</td><td>1</td></tr><tr><td>&hellip;</td><td>&hellip;</td><td>&hellip;</td><td>&hellip;</td><td>&hellip;</td><td>&hellip;</td><td>&hellip;</td><td>&hellip;</td><td>&hellip;</td><td>&hellip;</td><td>&hellip;</td><td>&hellip;</td><td>&hellip;</td><td>&hellip;</td><td>&hellip;</td></tr><tr><td>41813379</td><td>&quot;comment&quot;</td><td>&quot;kbolino&quot;</td><td>2024-10-11 20:26:09</td><td>null</td><td>&quot;A non-blocking send would work…</td><td>null</td><td>null</td><td>41812752</td><td>41809262</td><td>null</td><td>null</td><td>null</td><td>null</td><td>1</td></tr><tr><td>41813380</td><td>&quot;comment&quot;</td><td>&quot;slightwinder&quot;</td><td>2024-10-11 20:26:18</td><td>null</td><td>&quot;&amp;gt; It genuinely astounds me …</td><td>null</td><td>null</td><td>41810691</td><td>41808943</td><td>null</td><td>null</td><td>null</td><td>null</td><td>4</td></tr><tr><td>41813381</td><td>&quot;comment&quot;</td><td>&quot;marcosdumay&quot;</td><td>2024-10-11 20:26:21</td><td>null</td><td>&quot;Add forced sedentarism into th…</td><td>null</td><td>null</td><td>41812891</td><td>41811263</td><td>null</td><td>null</td><td>null</td><td>null</td><td>1</td></tr><tr><td>41813383</td><td>&quot;comment&quot;</td><td>&quot;davio&quot;</td><td>2024-10-11 20:26:28</td><td>null</td><td>&quot;hims sells the generic version…</td><td>null</td><td>null</td><td>41813102</td><td>41811263</td><td>null</td><td>null</td><td>null</td><td>null</td><td>1</td></tr><tr><td>41813384</td><td>&quot;comment&quot;</td><td>&quot;btilly&quot;</td><td>2024-10-11 20:26:29</td><td>null</td><td>&quot;Well, if you want a simple arg…</td><td>null</td><td>null</td><td>41812134</td><td>41808127</td><td>null</td><td>null</td><td>null</td><td>null</td><td>1</td></tr></tbody></table></div>"
      ],
      "text/plain": [
       "shape: (36_323_460, 15)\n",
       "┌──────────┬─────────┬──────────────┬──────────────┬───┬───────────┬─────────┬──────┬──────────────┐\n",
       "│ id       ┆ type    ┆ by           ┆ time         ┆ … ┆ kids      ┆ deleted ┆ dead ┆ siblings_cou │\n",
       "│ ---      ┆ ---     ┆ ---          ┆ ---          ┆   ┆ ---       ┆ ---     ┆ ---  ┆ nt           │\n",
       "│ i64      ┆ str     ┆ str          ┆ datetime[μs] ┆   ┆ list[i64] ┆ bool    ┆ bool ┆ ---          │\n",
       "│          ┆         ┆              ┆              ┆   ┆           ┆         ┆      ┆ u32          │\n",
       "╞══════════╪═════════╪══════════════╪══════════════╪═══╪═══════════╪═════════╪══════╪══════════════╡\n",
       "│ 15       ┆ comment ┆ sama         ┆ 2006-10-09   ┆ … ┆ [17]      ┆ null    ┆ null ┆ 4            │\n",
       "│          ┆         ┆              ┆ 19:51:01     ┆   ┆           ┆         ┆      ┆              │\n",
       "│ 17       ┆ comment ┆ pg           ┆ 2006-10-09   ┆ … ┆ [1079]    ┆ null    ┆ null ┆ 1            │\n",
       "│          ┆         ┆              ┆ 19:52:45     ┆   ┆           ┆         ┆      ┆              │\n",
       "│ 22       ┆ comment ┆ pg           ┆ 2006-10-10   ┆ … ┆ null      ┆ null    ┆ null ┆ 1            │\n",
       "│          ┆         ┆              ┆ 02:18:22     ┆   ┆           ┆         ┆      ┆              │\n",
       "│ 23       ┆ comment ┆ starklysnark ┆ 2006-10-10   ┆ … ┆ null      ┆ null    ┆ null ┆ 1            │\n",
       "│          ┆         ┆ y            ┆ 02:30:53     ┆   ┆           ┆         ┆      ┆              │\n",
       "│ 30       ┆ comment ┆ spez         ┆ 2006-10-10   ┆ … ┆ [31]      ┆ null    ┆ null ┆ 1            │\n",
       "│          ┆         ┆              ┆ 15:34:59     ┆   ┆           ┆         ┆      ┆              │\n",
       "│ …        ┆ …       ┆ …            ┆ …            ┆ … ┆ …         ┆ …       ┆ …    ┆ …            │\n",
       "│ 41813379 ┆ comment ┆ kbolino      ┆ 2024-10-11   ┆ … ┆ null      ┆ null    ┆ null ┆ 1            │\n",
       "│          ┆         ┆              ┆ 20:26:09     ┆   ┆           ┆         ┆      ┆              │\n",
       "│ 41813380 ┆ comment ┆ slightwinder ┆ 2024-10-11   ┆ … ┆ null      ┆ null    ┆ null ┆ 4            │\n",
       "│          ┆         ┆              ┆ 20:26:18     ┆   ┆           ┆         ┆      ┆              │\n",
       "│ 41813381 ┆ comment ┆ marcosdumay  ┆ 2024-10-11   ┆ … ┆ null      ┆ null    ┆ null ┆ 1            │\n",
       "│          ┆         ┆              ┆ 20:26:21     ┆   ┆           ┆         ┆      ┆              │\n",
       "│ 41813383 ┆ comment ┆ davio        ┆ 2024-10-11   ┆ … ┆ null      ┆ null    ┆ null ┆ 1            │\n",
       "│          ┆         ┆              ┆ 20:26:28     ┆   ┆           ┆         ┆      ┆              │\n",
       "│ 41813384 ┆ comment ┆ btilly       ┆ 2024-10-11   ┆ … ┆ null      ┆ null    ┆ null ┆ 1            │\n",
       "│          ┆         ┆              ┆ 20:26:29     ┆   ┆           ┆         ┆      ┆              │\n",
       "└──────────┴─────────┴──────────────┴──────────────┴───┴───────────┴─────────┴──────┴──────────────┘"
      ]
     },
     "execution_count": 2,
     "metadata": {},
     "output_type": "execute_result"
    }
   ],
   "source": [
    "# Ok, I want to start by limiting to comments\n",
    "comments_df = df.filter(pl.col(\"type\") == \"comment\")\n",
    "\n",
    "\n",
    "# add a new column siblings_count\n",
    "comments_df = comments_df.with_columns(\n",
    "    [pl.col(\"id\").count().over(\"parent\").alias(\"siblings_count\")]\n",
    ")\n",
    "comments_df"
   ]
  },
  {
   "cell_type": "code",
   "execution_count": 3,
   "metadata": {},
   "outputs": [
    {
     "name": "stdout",
     "output_type": "stream",
     "text": [
      "The maximum sibling rank is: 1810\n",
      "The number of sibling ranks is: 36315132\n"
     ]
    },
    {
     "data": {
      "text/html": [
       "<div><style>\n",
       ".dataframe > thead > tr,\n",
       ".dataframe > tbody > tr {\n",
       "  text-align: right;\n",
       "  white-space: pre-wrap;\n",
       "}\n",
       "</style>\n",
       "<small>shape: (36_323_460, 16)</small><table border=\"1\" class=\"dataframe\"><thead><tr><th>id</th><th>type</th><th>by</th><th>time</th><th>title</th><th>text</th><th>url</th><th>score</th><th>parent</th><th>top_level_parent</th><th>descendants</th><th>kids</th><th>deleted</th><th>dead</th><th>siblings_count</th><th>sibling_rank</th></tr><tr><td>i64</td><td>str</td><td>str</td><td>datetime[μs]</td><td>str</td><td>str</td><td>str</td><td>i64</td><td>i64</td><td>i64</td><td>i64</td><td>list[i64]</td><td>bool</td><td>bool</td><td>u32</td><td>i64</td></tr></thead><tbody><tr><td>15</td><td>&quot;comment&quot;</td><td>&quot;sama&quot;</td><td>2006-10-09 19:51:01</td><td>null</td><td>&quot;&amp;#34;the rising star of ventur…</td><td>null</td><td>null</td><td>1</td><td>1</td><td>null</td><td>[17]</td><td>null</td><td>null</td><td>4</td><td>1</td></tr><tr><td>17</td><td>&quot;comment&quot;</td><td>&quot;pg&quot;</td><td>2006-10-09 19:52:45</td><td>null</td><td>&quot;Is there anywhere to eat on Sa…</td><td>null</td><td>null</td><td>15</td><td>1</td><td>null</td><td>[1079]</td><td>null</td><td>null</td><td>1</td><td>1</td></tr><tr><td>22</td><td>&quot;comment&quot;</td><td>&quot;pg&quot;</td><td>2006-10-10 02:18:22</td><td>null</td><td>&quot;It&#x27;s kind of funny that Sevin …</td><td>null</td><td>null</td><td>21</td><td>21</td><td>null</td><td>null</td><td>null</td><td>null</td><td>1</td><td>1</td></tr><tr><td>23</td><td>&quot;comment&quot;</td><td>&quot;starklysnarky&quot;</td><td>2006-10-10 02:30:53</td><td>null</td><td>&quot;This is interesting, but the l…</td><td>null</td><td>null</td><td>20</td><td>20</td><td>null</td><td>null</td><td>null</td><td>null</td><td>1</td><td>1</td></tr><tr><td>30</td><td>&quot;comment&quot;</td><td>&quot;spez&quot;</td><td>2006-10-10 15:34:59</td><td>null</td><td>&quot;Stay tuned...&quot;</td><td>null</td><td>null</td><td>29</td><td>29</td><td>null</td><td>[31]</td><td>null</td><td>null</td><td>1</td><td>1</td></tr><tr><td>&hellip;</td><td>&hellip;</td><td>&hellip;</td><td>&hellip;</td><td>&hellip;</td><td>&hellip;</td><td>&hellip;</td><td>&hellip;</td><td>&hellip;</td><td>&hellip;</td><td>&hellip;</td><td>&hellip;</td><td>&hellip;</td><td>&hellip;</td><td>&hellip;</td><td>&hellip;</td></tr><tr><td>41813379</td><td>&quot;comment&quot;</td><td>&quot;kbolino&quot;</td><td>2024-10-11 20:26:09</td><td>null</td><td>&quot;A non-blocking send would work…</td><td>null</td><td>null</td><td>41812752</td><td>41809262</td><td>null</td><td>null</td><td>null</td><td>null</td><td>1</td><td>1</td></tr><tr><td>41813380</td><td>&quot;comment&quot;</td><td>&quot;slightwinder&quot;</td><td>2024-10-11 20:26:18</td><td>null</td><td>&quot;&amp;gt; It genuinely astounds me …</td><td>null</td><td>null</td><td>41810691</td><td>41808943</td><td>null</td><td>null</td><td>null</td><td>null</td><td>4</td><td>-1</td></tr><tr><td>41813381</td><td>&quot;comment&quot;</td><td>&quot;marcosdumay&quot;</td><td>2024-10-11 20:26:21</td><td>null</td><td>&quot;Add forced sedentarism into th…</td><td>null</td><td>null</td><td>41812891</td><td>41811263</td><td>null</td><td>null</td><td>null</td><td>null</td><td>1</td><td>1</td></tr><tr><td>41813383</td><td>&quot;comment&quot;</td><td>&quot;davio&quot;</td><td>2024-10-11 20:26:28</td><td>null</td><td>&quot;hims sells the generic version…</td><td>null</td><td>null</td><td>41813102</td><td>41811263</td><td>null</td><td>null</td><td>null</td><td>null</td><td>1</td><td>1</td></tr><tr><td>41813384</td><td>&quot;comment&quot;</td><td>&quot;btilly&quot;</td><td>2024-10-11 20:26:29</td><td>null</td><td>&quot;Well, if you want a simple arg…</td><td>null</td><td>null</td><td>41812134</td><td>41808127</td><td>null</td><td>null</td><td>null</td><td>null</td><td>1</td><td>1</td></tr></tbody></table></div>"
      ],
      "text/plain": [
       "shape: (36_323_460, 16)\n",
       "┌──────────┬─────────┬──────────────┬─────────────┬───┬─────────┬──────┬─────────────┬─────────────┐\n",
       "│ id       ┆ type    ┆ by           ┆ time        ┆ … ┆ deleted ┆ dead ┆ siblings_co ┆ sibling_ran │\n",
       "│ ---      ┆ ---     ┆ ---          ┆ ---         ┆   ┆ ---     ┆ ---  ┆ unt         ┆ k           │\n",
       "│ i64      ┆ str     ┆ str          ┆ datetime[μs ┆   ┆ bool    ┆ bool ┆ ---         ┆ ---         │\n",
       "│          ┆         ┆              ┆ ]           ┆   ┆         ┆      ┆ u32         ┆ i64         │\n",
       "╞══════════╪═════════╪══════════════╪═════════════╪═══╪═════════╪══════╪═════════════╪═════════════╡\n",
       "│ 15       ┆ comment ┆ sama         ┆ 2006-10-09  ┆ … ┆ null    ┆ null ┆ 4           ┆ 1           │\n",
       "│          ┆         ┆              ┆ 19:51:01    ┆   ┆         ┆      ┆             ┆             │\n",
       "│ 17       ┆ comment ┆ pg           ┆ 2006-10-09  ┆ … ┆ null    ┆ null ┆ 1           ┆ 1           │\n",
       "│          ┆         ┆              ┆ 19:52:45    ┆   ┆         ┆      ┆             ┆             │\n",
       "│ 22       ┆ comment ┆ pg           ┆ 2006-10-10  ┆ … ┆ null    ┆ null ┆ 1           ┆ 1           │\n",
       "│          ┆         ┆              ┆ 02:18:22    ┆   ┆         ┆      ┆             ┆             │\n",
       "│ 23       ┆ comment ┆ starklysnark ┆ 2006-10-10  ┆ … ┆ null    ┆ null ┆ 1           ┆ 1           │\n",
       "│          ┆         ┆ y            ┆ 02:30:53    ┆   ┆         ┆      ┆             ┆             │\n",
       "│ 30       ┆ comment ┆ spez         ┆ 2006-10-10  ┆ … ┆ null    ┆ null ┆ 1           ┆ 1           │\n",
       "│          ┆         ┆              ┆ 15:34:59    ┆   ┆         ┆      ┆             ┆             │\n",
       "│ …        ┆ …       ┆ …            ┆ …           ┆ … ┆ …       ┆ …    ┆ …           ┆ …           │\n",
       "│ 41813379 ┆ comment ┆ kbolino      ┆ 2024-10-11  ┆ … ┆ null    ┆ null ┆ 1           ┆ 1           │\n",
       "│          ┆         ┆              ┆ 20:26:09    ┆   ┆         ┆      ┆             ┆             │\n",
       "│ 41813380 ┆ comment ┆ slightwinder ┆ 2024-10-11  ┆ … ┆ null    ┆ null ┆ 4           ┆ -1          │\n",
       "│          ┆         ┆              ┆ 20:26:18    ┆   ┆         ┆      ┆             ┆             │\n",
       "│ 41813381 ┆ comment ┆ marcosdumay  ┆ 2024-10-11  ┆ … ┆ null    ┆ null ┆ 1           ┆ 1           │\n",
       "│          ┆         ┆              ┆ 20:26:21    ┆   ┆         ┆      ┆             ┆             │\n",
       "│ 41813383 ┆ comment ┆ davio        ┆ 2024-10-11  ┆ … ┆ null    ┆ null ┆ 1           ┆ 1           │\n",
       "│          ┆         ┆              ┆ 20:26:28    ┆   ┆         ┆      ┆             ┆             │\n",
       "│ 41813384 ┆ comment ┆ btilly       ┆ 2024-10-11  ┆ … ┆ null    ┆ null ┆ 1           ┆ 1           │\n",
       "│          ┆         ┆              ┆ 20:26:29    ┆   ┆         ┆      ┆             ┆             │\n",
       "└──────────┴─────────┴──────────────┴─────────────┴───┴─────────┴──────┴─────────────┴─────────────┘"
      ]
     },
     "execution_count": 3,
     "metadata": {},
     "output_type": "execute_result"
    }
   ],
   "source": [
    "sibling_ranks = dict()\n",
    "\n",
    "# iterate over the rows of the dataframe\n",
    "for groupable_comment in df.select(pl.col(\"kids\")).iter_rows():\n",
    "    kids = groupable_comment[0]\n",
    "    if kids is not None:\n",
    "        for i, kid in enumerate(kids):\n",
    "            sibling_ranks[kid] = i + 1\n",
    "\n",
    "# Find the maximum value in the sibling_ranks dictionary\n",
    "max_sibling_rank = max(sibling_ranks.values())\n",
    "\n",
    "# Print the maximum value\n",
    "print(f\"The maximum sibling rank is: {max_sibling_rank}\")\n",
    "print(f\"The number of sibling ranks is: {len(sibling_ranks)}\")\n",
    "\n",
    "comments_df = comments_df.with_columns(\n",
    "    [\n",
    "        pl.col(\"id\")\n",
    "        .replace_strict(\n",
    "            list(sibling_ranks.keys()), list(sibling_ranks.values()), default=-1\n",
    "        )\n",
    "        .alias(\"sibling_rank\")\n",
    "    ]\n",
    ")\n",
    "del sibling_ranks\n",
    "\n",
    "comments_df"
   ]
  },
  {
   "cell_type": "code",
   "execution_count": 4,
   "metadata": {},
   "outputs": [
    {
     "name": "stdout",
     "output_type": "stream",
     "text": [
      "ID of the comment with the most siblings:\n",
      "shape: (1_810, 1)\n",
      "┌──────────┐\n",
      "│ id       │\n",
      "│ ---      │\n",
      "│ i64      │\n",
      "╞══════════╡\n",
      "│ 36575132 │\n",
      "│ 36575371 │\n",
      "│ 36575947 │\n",
      "│ 36576161 │\n",
      "│ 36576270 │\n",
      "│ …        │\n",
      "│ 36744641 │\n",
      "│ 36750142 │\n",
      "│ 36756788 │\n",
      "│ 36765873 │\n",
      "│ 36770307 │\n",
      "└──────────┘\n"
     ]
    }
   ],
   "source": [
    "# print the id of the comment with the most siblings\n",
    "# Find the row with the maximum siblings_count and select its id\n",
    "max_siblings_comment = comments_df.filter(\n",
    "    pl.col(\"siblings_count\") == pl.col(\"siblings_count\").max()\n",
    ").select(\"id\")\n",
    "\n",
    "# Print the id of the comment with the most siblings\n",
    "print(\"ID of the comment with the most siblings:\")\n",
    "print(max_siblings_comment)\n"
   ]
  },
  {
   "cell_type": "code",
   "execution_count": 5,
   "metadata": {},
   "outputs": [
    {
     "data": {
      "text/html": [
       "<div><style>\n",
       ".dataframe > thead > tr,\n",
       ".dataframe > tbody > tr {\n",
       "  text-align: right;\n",
       "  white-space: pre-wrap;\n",
       "}\n",
       "</style>\n",
       "<small>shape: (8_603_511, 16)</small><table border=\"1\" class=\"dataframe\"><thead><tr><th>id</th><th>type</th><th>by</th><th>time</th><th>title</th><th>text</th><th>url</th><th>score</th><th>parent</th><th>top_level_parent</th><th>descendants</th><th>kids</th><th>deleted</th><th>dead</th><th>siblings_count</th><th>sibling_rank</th></tr><tr><td>i64</td><td>str</td><td>str</td><td>datetime[μs]</td><td>str</td><td>str</td><td>str</td><td>i64</td><td>i64</td><td>i64</td><td>i64</td><td>list[i64]</td><td>bool</td><td>bool</td><td>u32</td><td>i64</td></tr></thead><tbody><tr><td>125</td><td>&quot;comment&quot;</td><td>&quot;pg&quot;</td><td>2007-02-19 22:45:26</td><td>null</td><td>&quot;very funny, ethan&quot;</td><td>null</td><td>null</td><td>124</td><td>124</td><td>null</td><td>[470]</td><td>null</td><td>null</td><td>9</td><td>6</td></tr><tr><td>127</td><td>&quot;comment&quot;</td><td>&quot;ninwa&quot;</td><td>2007-02-20 00:06:04</td><td>null</td><td>&quot;I absolutely agree with his th…</td><td>null</td><td>null</td><td>122</td><td>122</td><td>null</td><td>[418]</td><td>null</td><td>null</td><td>5</td><td>2</td></tr><tr><td>133</td><td>&quot;comment&quot;</td><td>&quot;greendestiny&quot;</td><td>2007-02-20 03:46:08</td><td>null</td><td>&quot;Well its not a totally useless…</td><td>null</td><td>null</td><td>124</td><td>124</td><td>null</td><td>null</td><td>null</td><td>null</td><td>9</td><td>1</td></tr><tr><td>139</td><td>&quot;comment&quot;</td><td>&quot;akkartik&quot;</td><td>2007-02-20 06:09:33</td><td>null</td><td>&quot;It&#x27;s cool and all that clickin…</td><td>null</td><td>null</td><td>124</td><td>124</td><td>null</td><td>[188]</td><td>null</td><td>null</td><td>9</td><td>2</td></tr><tr><td>142</td><td>&quot;comment&quot;</td><td>&quot;Dauntless&quot;</td><td>2007-02-20 06:25:12</td><td>null</td><td>&quot;Some problems:\r\n",
       "1.\tThere is no…</td><td>null</td><td>null</td><td>124</td><td>124</td><td>null</td><td>[145, 143, 144]</td><td>null</td><td>null</td><td>9</td><td>3</td></tr><tr><td>&hellip;</td><td>&hellip;</td><td>&hellip;</td><td>&hellip;</td><td>&hellip;</td><td>&hellip;</td><td>&hellip;</td><td>&hellip;</td><td>&hellip;</td><td>&hellip;</td><td>&hellip;</td><td>&hellip;</td><td>&hellip;</td><td>&hellip;</td><td>&hellip;</td><td>&hellip;</td></tr><tr><td>41813311</td><td>&quot;comment&quot;</td><td>&quot;alxmng&quot;</td><td>2024-10-11 20:19:12</td><td>null</td><td>&quot;I suspect it&amp;#x27;s easier to …</td><td>null</td><td>null</td><td>41789228</td><td>41789228</td><td>null</td><td>null</td><td>null</td><td>null</td><td>11</td><td>-1</td></tr><tr><td>41813318</td><td>&quot;comment&quot;</td><td>&quot;ChrisArchitect&quot;</td><td>2024-10-11 20:20:17</td><td>null</td><td>&quot;[dupe]&lt;p&gt;More discussion: &lt;a h…</td><td>null</td><td>null</td><td>41812813</td><td>41812813</td><td>null</td><td>null</td><td>null</td><td>null</td><td>6</td><td>6</td></tr><tr><td>41813327</td><td>&quot;comment&quot;</td><td>&quot;Traubenfuchs&quot;</td><td>2024-10-11 20:21:07</td><td>null</td><td>&quot;&amp;gt; Someone I know took about…</td><td>null</td><td>null</td><td>41813083</td><td>41812876</td><td>null</td><td>null</td><td>null</td><td>null</td><td>6</td><td>4</td></tr><tr><td>41813351</td><td>&quot;comment&quot;</td><td>&quot;scottyah&quot;</td><td>2024-10-11 20:22:55</td><td>null</td><td>&quot;The fact that a drug can cause…</td><td>null</td><td>null</td><td>41812839</td><td>41811263</td><td>null</td><td>null</td><td>null</td><td>null</td><td>6</td><td>1</td></tr><tr><td>41813371</td><td>&quot;comment&quot;</td><td>&quot;julianeon&quot;</td><td>2024-10-11 20:25:25</td><td>null</td><td>&quot;But consider the tradeoff: it&amp;…</td><td>null</td><td>null</td><td>41811539</td><td>41811263</td><td>null</td><td>null</td><td>null</td><td>null</td><td>13</td><td>1</td></tr></tbody></table></div>"
      ],
      "text/plain": [
       "shape: (8_603_511, 16)\n",
       "┌──────────┬─────────┬──────────────┬─────────────┬───┬─────────┬──────┬─────────────┬─────────────┐\n",
       "│ id       ┆ type    ┆ by           ┆ time        ┆ … ┆ deleted ┆ dead ┆ siblings_co ┆ sibling_ran │\n",
       "│ ---      ┆ ---     ┆ ---          ┆ ---         ┆   ┆ ---     ┆ ---  ┆ unt         ┆ k           │\n",
       "│ i64      ┆ str     ┆ str          ┆ datetime[μs ┆   ┆ bool    ┆ bool ┆ ---         ┆ ---         │\n",
       "│          ┆         ┆              ┆ ]           ┆   ┆         ┆      ┆ u32         ┆ i64         │\n",
       "╞══════════╪═════════╪══════════════╪═════════════╪═══╪═════════╪══════╪═════════════╪═════════════╡\n",
       "│ 125      ┆ comment ┆ pg           ┆ 2007-02-19  ┆ … ┆ null    ┆ null ┆ 9           ┆ 6           │\n",
       "│          ┆         ┆              ┆ 22:45:26    ┆   ┆         ┆      ┆             ┆             │\n",
       "│ 127      ┆ comment ┆ ninwa        ┆ 2007-02-20  ┆ … ┆ null    ┆ null ┆ 5           ┆ 2           │\n",
       "│          ┆         ┆              ┆ 00:06:04    ┆   ┆         ┆      ┆             ┆             │\n",
       "│ 133      ┆ comment ┆ greendestiny ┆ 2007-02-20  ┆ … ┆ null    ┆ null ┆ 9           ┆ 1           │\n",
       "│          ┆         ┆              ┆ 03:46:08    ┆   ┆         ┆      ┆             ┆             │\n",
       "│ 139      ┆ comment ┆ akkartik     ┆ 2007-02-20  ┆ … ┆ null    ┆ null ┆ 9           ┆ 2           │\n",
       "│          ┆         ┆              ┆ 06:09:33    ┆   ┆         ┆      ┆             ┆             │\n",
       "│ 142      ┆ comment ┆ Dauntless    ┆ 2007-02-20  ┆ … ┆ null    ┆ null ┆ 9           ┆ 3           │\n",
       "│          ┆         ┆              ┆ 06:25:12    ┆   ┆         ┆      ┆             ┆             │\n",
       "│ …        ┆ …       ┆ …            ┆ …           ┆ … ┆ …       ┆ …    ┆ …           ┆ …           │\n",
       "│ 41813311 ┆ comment ┆ alxmng       ┆ 2024-10-11  ┆ … ┆ null    ┆ null ┆ 11          ┆ -1          │\n",
       "│          ┆         ┆              ┆ 20:19:12    ┆   ┆         ┆      ┆             ┆             │\n",
       "│ 41813318 ┆ comment ┆ ChrisArchite ┆ 2024-10-11  ┆ … ┆ null    ┆ null ┆ 6           ┆ 6           │\n",
       "│          ┆         ┆ ct           ┆ 20:20:17    ┆   ┆         ┆      ┆             ┆             │\n",
       "│ 41813327 ┆ comment ┆ Traubenfuchs ┆ 2024-10-11  ┆ … ┆ null    ┆ null ┆ 6           ┆ 4           │\n",
       "│          ┆         ┆              ┆ 20:21:07    ┆   ┆         ┆      ┆             ┆             │\n",
       "│ 41813351 ┆ comment ┆ scottyah     ┆ 2024-10-11  ┆ … ┆ null    ┆ null ┆ 6           ┆ 1           │\n",
       "│          ┆         ┆              ┆ 20:22:55    ┆   ┆         ┆      ┆             ┆             │\n",
       "│ 41813371 ┆ comment ┆ julianeon    ┆ 2024-10-11  ┆ … ┆ null    ┆ null ┆ 13          ┆ 1           │\n",
       "│          ┆         ┆              ┆ 20:25:25    ┆   ┆         ┆      ┆             ┆             │\n",
       "└──────────┴─────────┴──────────────┴─────────────┴───┴─────────┴──────┴─────────────┴─────────────┘"
      ]
     },
     "execution_count": 5,
     "metadata": {},
     "output_type": "execute_result"
    }
   ],
   "source": [
    "# limit all comments to ones that have at least 5 siblings and fewer than 25\n",
    "# siblings. If there are more than 25 I don't trust the peoples' votes since\n",
    "# they probably haven't had time to read all of them.\n",
    "comments_df = comments_df.filter(\n",
    "    (pl.col(\"siblings_count\") >= 5) & (pl.col(\"siblings_count\") < 25)\n",
    ")\n",
    "\n",
    "comments_df"
   ]
  },
  {
   "cell_type": "code",
   "execution_count": 6,
   "metadata": {},
   "outputs": [
    {
     "data": {
      "text/html": [
       "<div><style>\n",
       ".dataframe > thead > tr,\n",
       ".dataframe > tbody > tr {\n",
       "  text-align: right;\n",
       "  white-space: pre-wrap;\n",
       "}\n",
       "</style>\n",
       "<small>shape: (8_212_628, 16)</small><table border=\"1\" class=\"dataframe\"><thead><tr><th>id</th><th>type</th><th>by</th><th>time</th><th>title</th><th>text</th><th>url</th><th>score</th><th>parent</th><th>top_level_parent</th><th>descendants</th><th>kids</th><th>deleted</th><th>dead</th><th>siblings_count</th><th>sibling_rank</th></tr><tr><td>i64</td><td>str</td><td>str</td><td>datetime[μs]</td><td>str</td><td>str</td><td>str</td><td>i64</td><td>i64</td><td>i64</td><td>i64</td><td>list[i64]</td><td>bool</td><td>bool</td><td>u32</td><td>i64</td></tr></thead><tbody><tr><td>125</td><td>&quot;comment&quot;</td><td>&quot;pg&quot;</td><td>2007-02-19 22:45:26</td><td>null</td><td>&quot;very funny, ethan&quot;</td><td>null</td><td>null</td><td>124</td><td>124</td><td>null</td><td>[470]</td><td>null</td><td>null</td><td>9</td><td>6</td></tr><tr><td>127</td><td>&quot;comment&quot;</td><td>&quot;ninwa&quot;</td><td>2007-02-20 00:06:04</td><td>null</td><td>&quot;I absolutely agree with his th…</td><td>null</td><td>null</td><td>122</td><td>122</td><td>null</td><td>[418]</td><td>null</td><td>null</td><td>5</td><td>2</td></tr><tr><td>133</td><td>&quot;comment&quot;</td><td>&quot;greendestiny&quot;</td><td>2007-02-20 03:46:08</td><td>null</td><td>&quot;Well its not a totally useless…</td><td>null</td><td>null</td><td>124</td><td>124</td><td>null</td><td>null</td><td>null</td><td>null</td><td>9</td><td>1</td></tr><tr><td>139</td><td>&quot;comment&quot;</td><td>&quot;akkartik&quot;</td><td>2007-02-20 06:09:33</td><td>null</td><td>&quot;It&#x27;s cool and all that clickin…</td><td>null</td><td>null</td><td>124</td><td>124</td><td>null</td><td>[188]</td><td>null</td><td>null</td><td>9</td><td>2</td></tr><tr><td>142</td><td>&quot;comment&quot;</td><td>&quot;Dauntless&quot;</td><td>2007-02-20 06:25:12</td><td>null</td><td>&quot;Some problems:\r\n",
       "1.\tThere is no…</td><td>null</td><td>null</td><td>124</td><td>124</td><td>null</td><td>[145, 143, 144]</td><td>null</td><td>null</td><td>9</td><td>3</td></tr><tr><td>&hellip;</td><td>&hellip;</td><td>&hellip;</td><td>&hellip;</td><td>&hellip;</td><td>&hellip;</td><td>&hellip;</td><td>&hellip;</td><td>&hellip;</td><td>&hellip;</td><td>&hellip;</td><td>&hellip;</td><td>&hellip;</td><td>&hellip;</td><td>&hellip;</td><td>&hellip;</td></tr><tr><td>41813309</td><td>&quot;comment&quot;</td><td>&quot;marknutter&quot;</td><td>2024-10-11 20:18:53</td><td>null</td><td>&quot;&amp;gt; sleep paralysis with demo…</td><td>null</td><td>null</td><td>41813083</td><td>41812876</td><td>null</td><td>null</td><td>null</td><td>null</td><td>6</td><td>5</td></tr><tr><td>41813318</td><td>&quot;comment&quot;</td><td>&quot;ChrisArchitect&quot;</td><td>2024-10-11 20:20:17</td><td>null</td><td>&quot;[dupe]&lt;p&gt;More discussion: &lt;a h…</td><td>null</td><td>null</td><td>41812813</td><td>41812813</td><td>null</td><td>null</td><td>null</td><td>null</td><td>6</td><td>6</td></tr><tr><td>41813327</td><td>&quot;comment&quot;</td><td>&quot;Traubenfuchs&quot;</td><td>2024-10-11 20:21:07</td><td>null</td><td>&quot;&amp;gt; Someone I know took about…</td><td>null</td><td>null</td><td>41813083</td><td>41812876</td><td>null</td><td>null</td><td>null</td><td>null</td><td>6</td><td>4</td></tr><tr><td>41813351</td><td>&quot;comment&quot;</td><td>&quot;scottyah&quot;</td><td>2024-10-11 20:22:55</td><td>null</td><td>&quot;The fact that a drug can cause…</td><td>null</td><td>null</td><td>41812839</td><td>41811263</td><td>null</td><td>null</td><td>null</td><td>null</td><td>6</td><td>1</td></tr><tr><td>41813371</td><td>&quot;comment&quot;</td><td>&quot;julianeon&quot;</td><td>2024-10-11 20:25:25</td><td>null</td><td>&quot;But consider the tradeoff: it&amp;…</td><td>null</td><td>null</td><td>41811539</td><td>41811263</td><td>null</td><td>null</td><td>null</td><td>null</td><td>13</td><td>1</td></tr></tbody></table></div>"
      ],
      "text/plain": [
       "shape: (8_212_628, 16)\n",
       "┌──────────┬─────────┬──────────────┬─────────────┬───┬─────────┬──────┬─────────────┬─────────────┐\n",
       "│ id       ┆ type    ┆ by           ┆ time        ┆ … ┆ deleted ┆ dead ┆ siblings_co ┆ sibling_ran │\n",
       "│ ---      ┆ ---     ┆ ---          ┆ ---         ┆   ┆ ---     ┆ ---  ┆ unt         ┆ k           │\n",
       "│ i64      ┆ str     ┆ str          ┆ datetime[μs ┆   ┆ bool    ┆ bool ┆ ---         ┆ ---         │\n",
       "│          ┆         ┆              ┆ ]           ┆   ┆         ┆      ┆ u32         ┆ i64         │\n",
       "╞══════════╪═════════╪══════════════╪═════════════╪═══╪═════════╪══════╪═════════════╪═════════════╡\n",
       "│ 125      ┆ comment ┆ pg           ┆ 2007-02-19  ┆ … ┆ null    ┆ null ┆ 9           ┆ 6           │\n",
       "│          ┆         ┆              ┆ 22:45:26    ┆   ┆         ┆      ┆             ┆             │\n",
       "│ 127      ┆ comment ┆ ninwa        ┆ 2007-02-20  ┆ … ┆ null    ┆ null ┆ 5           ┆ 2           │\n",
       "│          ┆         ┆              ┆ 00:06:04    ┆   ┆         ┆      ┆             ┆             │\n",
       "│ 133      ┆ comment ┆ greendestiny ┆ 2007-02-20  ┆ … ┆ null    ┆ null ┆ 9           ┆ 1           │\n",
       "│          ┆         ┆              ┆ 03:46:08    ┆   ┆         ┆      ┆             ┆             │\n",
       "│ 139      ┆ comment ┆ akkartik     ┆ 2007-02-20  ┆ … ┆ null    ┆ null ┆ 9           ┆ 2           │\n",
       "│          ┆         ┆              ┆ 06:09:33    ┆   ┆         ┆      ┆             ┆             │\n",
       "│ 142      ┆ comment ┆ Dauntless    ┆ 2007-02-20  ┆ … ┆ null    ┆ null ┆ 9           ┆ 3           │\n",
       "│          ┆         ┆              ┆ 06:25:12    ┆   ┆         ┆      ┆             ┆             │\n",
       "│ …        ┆ …       ┆ …            ┆ …           ┆ … ┆ …       ┆ …    ┆ …           ┆ …           │\n",
       "│ 41813309 ┆ comment ┆ marknutter   ┆ 2024-10-11  ┆ … ┆ null    ┆ null ┆ 6           ┆ 5           │\n",
       "│          ┆         ┆              ┆ 20:18:53    ┆   ┆         ┆      ┆             ┆             │\n",
       "│ 41813318 ┆ comment ┆ ChrisArchite ┆ 2024-10-11  ┆ … ┆ null    ┆ null ┆ 6           ┆ 6           │\n",
       "│          ┆         ┆ ct           ┆ 20:20:17    ┆   ┆         ┆      ┆             ┆             │\n",
       "│ 41813327 ┆ comment ┆ Traubenfuchs ┆ 2024-10-11  ┆ … ┆ null    ┆ null ┆ 6           ┆ 4           │\n",
       "│          ┆         ┆              ┆ 20:21:07    ┆   ┆         ┆      ┆             ┆             │\n",
       "│ 41813351 ┆ comment ┆ scottyah     ┆ 2024-10-11  ┆ … ┆ null    ┆ null ┆ 6           ┆ 1           │\n",
       "│          ┆         ┆              ┆ 20:22:55    ┆   ┆         ┆      ┆             ┆             │\n",
       "│ 41813371 ┆ comment ┆ julianeon    ┆ 2024-10-11  ┆ … ┆ null    ┆ null ┆ 13          ┆ 1           │\n",
       "│          ┆         ┆              ┆ 20:25:25    ┆   ┆         ┆      ┆             ┆             │\n",
       "└──────────┴─────────┴──────────────┴─────────────┴───┴─────────┴──────┴─────────────┴─────────────┘"
      ]
     },
     "execution_count": 6,
     "metadata": {},
     "output_type": "execute_result"
    }
   ],
   "source": [
    "# filter comments that have non-null text and text length > 10\n",
    "comments_df = comments_df.filter(\n",
    "    (pl.col(\"text\").is_not_null())\n",
    "    & (pl.col(\"text\").str.len_chars() > 10)\n",
    "    & (pl.col(\"sibling_rank\") > 0)\n",
    ")\n",
    "\n",
    "comments_df"
   ]
  },
  {
   "cell_type": "code",
   "execution_count": 7,
   "metadata": {},
   "outputs": [
    {
     "name": "stderr",
     "output_type": "stream",
     "text": [
      "Processing groups: 100%|██████████| 8212628/8212628 [00:08<00:00, 914510.30it/s]\n"
     ]
    },
    {
     "data": {
      "text/html": [
       "<div><style>\n",
       ".dataframe > thead > tr,\n",
       ".dataframe > tbody > tr {\n",
       "  text-align: right;\n",
       "  white-space: pre-wrap;\n",
       "}\n",
       "</style>\n",
       "<small>shape: (3_746_411, 2)</small><table border=\"1\" class=\"dataframe\"><thead><tr><th>chosen</th><th>rejected</th></tr><tr><td>i64</td><td>i64</td></tr></thead><tbody><tr><td>139</td><td>142</td></tr><tr><td>195</td><td>194</td></tr><tr><td>239</td><td>238</td></tr><tr><td>244</td><td>242</td></tr><tr><td>346</td><td>344</td></tr><tr><td>&hellip;</td><td>&hellip;</td></tr><tr><td>41813038</td><td>41812992</td></tr><tr><td>41812992</td><td>41813016</td></tr><tr><td>41813083</td><td>41812997</td></tr><tr><td>41812997</td><td>41813058</td></tr><tr><td>41813058</td><td>41813027</td></tr></tbody></table></div>"
      ],
      "text/plain": [
       "shape: (3_746_411, 2)\n",
       "┌──────────┬──────────┐\n",
       "│ chosen   ┆ rejected │\n",
       "│ ---      ┆ ---      │\n",
       "│ i64      ┆ i64      │\n",
       "╞══════════╪══════════╡\n",
       "│ 139      ┆ 142      │\n",
       "│ 195      ┆ 194      │\n",
       "│ 239      ┆ 238      │\n",
       "│ 244      ┆ 242      │\n",
       "│ 346      ┆ 344      │\n",
       "│ …        ┆ …        │\n",
       "│ 41813038 ┆ 41812992 │\n",
       "│ 41812992 ┆ 41813016 │\n",
       "│ 41813083 ┆ 41812997 │\n",
       "│ 41812997 ┆ 41813058 │\n",
       "│ 41813058 ┆ 41813027 │\n",
       "└──────────┴──────────┘"
      ]
     },
     "execution_count": 7,
     "metadata": {},
     "output_type": "execute_result"
    }
   ],
   "source": [
    "from tqdm import tqdm\n",
    "from typing import List, TypedDict, Dict\n",
    "from collections import defaultdict\n",
    "import datetime\n",
    "\n",
    "# Convert the 'time' column to hourly intervals\n",
    "comments_df = comments_df.with_columns(\n",
    "    pl.col(\"time\").dt.truncate(\"1h\").alias(\"hour_interval\")\n",
    ")\n",
    "\n",
    "grouped_comments = comments_df.select(\n",
    "    pl.col(\"id\"), pl.col(\"sibling_rank\"), pl.col(\"parent\"), pl.col(\"hour_interval\")\n",
    ").sort(\"hour_interval\")\n",
    "\n",
    "progress_bar = tqdm(total=len(grouped_comments), desc=\"Processing groups\")\n",
    "\n",
    "\n",
    "class GroupableComment(TypedDict):\n",
    "    hour_interval: datetime.datetime\n",
    "    parent: int\n",
    "    id: int\n",
    "    sibling_rank: int\n",
    "\n",
    "\n",
    "class RewardPair(TypedDict):\n",
    "    chosen: int  # the id of the chosen comment\n",
    "    rejected: int  # the id of the rejected comment\n",
    "\n",
    "\n",
    "def process_group(group: List[GroupableComment]) -> list[RewardPair]:\n",
    "    \"\"\"\n",
    "    The goal of this function is to create a reward dataset for Hacker News\n",
    "    comments. It takes in a dataframe containing all the comments within a given\n",
    "    hour, and then breaks them down by the parent id.\n",
    "\n",
    "    Within each parent id group, it orders the comments by sibling rank (that\n",
    "    is, their relative position in the thread). Lower sibling rank means the\n",
    "    comment is higher in the thread, which we can assume means it had more\n",
    "    upvotes and is better.\n",
    "\n",
    "    We take each comment and its directly following sibling and mark those as\n",
    "    \"chosen\" and \"rejected\", creating a pairwise dataset we can use for reward\n",
    "    modeling.\n",
    "    \"\"\"\n",
    "    if len(group) == 0:\n",
    "        return []\n",
    "\n",
    "    sorted_group = sorted(group, key=lambda x: x[\"sibling_rank\"])\n",
    "    group_reward_pairs = []\n",
    "\n",
    "    for i in range(0, len(sorted_group) - 1):\n",
    "        group_reward_pairs.append(\n",
    "            {\"chosen\": sorted_group[i][\"id\"], \"rejected\": sorted_group[i + 1][\"id\"]}\n",
    "        )\n",
    "\n",
    "    return group_reward_pairs\n",
    "\n",
    "\n",
    "reward_pairs: list[RewardPair] = []\n",
    "parent_groups: Dict[int, list[GroupableComment]] = defaultdict(list)\n",
    "current_hour = None\n",
    "\n",
    "for groupable_comment in grouped_comments.iter_rows(named=True):\n",
    "    groupable_comment = GroupableComment(**groupable_comment)\n",
    "\n",
    "    if groupable_comment[\"hour_interval\"] != current_hour:\n",
    "        for group in parent_groups.values():\n",
    "            reward_pairs.extend(process_group(group))\n",
    "\n",
    "        current_hour = groupable_comment[\"hour_interval\"]\n",
    "        parent_groups = defaultdict(list)\n",
    "\n",
    "    parent_groups[groupable_comment[\"parent\"]].append(groupable_comment)\n",
    "    progress_bar.update(1)\n",
    "\n",
    "# Close the progress bar\n",
    "progress_bar.close()\n",
    "\n",
    "pairs_df = pl.DataFrame(reward_pairs)\n",
    "\n",
    "pairs_df"
   ]
  },
  {
   "cell_type": "code",
   "execution_count": 12,
   "metadata": {},
   "outputs": [
    {
     "name": "stderr",
     "output_type": "stream",
     "text": [
      "Building prompts:   0%|          | 1/200000 [00:10<573:03:12, 10.32s/it]\n",
      "Building prompts:   0%|          | 770/200000 [00:00<01:07, 2956.12it/s]"
     ]
    },
    {
     "name": "stdout",
     "output_type": "stream",
     "text": [
      "<instructions>Your goal is to analyze the following comment and estimate how highly it will be upvoted by the Hacker News community.</instructions><comment><author>pg</author><text>Harder to say about the upper bound. The factors you mention may play a role, especially kids. I also think need for money is a factor. Most people who could make money have by 40, and once you have enough, you&apos;re less willing to endure the pain of starting a startup.&lt;p&gt;The average age of YC founders is about 25.</text><parent_chain><item><author>jmzachary</author><text>Have you discovered an upper bound? The commonly held belief is that people over X (where 30 &amp;#60; X 35?) can&apos;t start startups because they have kids and a mortgage, or they just aren&apos;t in-tune with what&apos;s hip. Curiously, that excludes people who have &amp;#34;been there and seen that&amp;#34;, the best current example being AJAX. Also, those who have taken a few more trips around the Sun also may recognize niches that 19-25 years would never see. My impression is that Y-Combinator is an attractor for the younger entrepreneur.&lt;p&gt;Full disclosure: I&apos;m in the range above, planning to start a company, and not trolling for Y-Combinator dollars.</text></item><item><author>pg</author><text>We never proposed there was no lower bound; the goal was more to discover where it was.  And we now have, I think.  Though in fact the main thing we discovered was how fuzzy it is.  &lt;p&gt;There really are people who can start a startup when they&apos;re 19. Sam Altman, the founder of Loopt, was 19.  But for most people the lower bound is about 22.  One reason is that most people need to experience what a job is like to be sufficiently motivated to avoid it.  Another is that few people are forceful enough at 19.</text></item><item><author>kf</author><text>Paul Graham has backpedaled from one of the initial goals of Y Combinator, funding companies with no lower-bound for the age of founders.\n",
      "\n",
      "With the publication of this essay, http://www.paulgraham.com/mit.html, he has backpedaled from that stance because of his personal moral culpability for encouraging people to become drop-outs. So if you are seeking Y Combinator funding and are a current undergraduate, tell Paul Graham that you are dropping out to start the company regardless of whether or not he funds you.</text></item><item><author>staunch</author><text>This has got to make PG nervous. How many people&apos;s life is he affecting? :-)\n",
      "\n",
      "He&apos;s definitely had an impact on my priorities in a very big and positive way. I hope everyone who makes changes based on his inspiration and motivation does it with a clear head and can take responsiblity for the decision and outcome.\n",
      "\n",
      "</text></item></parent_chain></comment><story><title>I Dropped Out of Grad School Today</title><url>http://octopart.com/html/blog.html</url></story>\n"
     ]
    },
    {
     "name": "stderr",
     "output_type": "stream",
     "text": [
      "Building prompts: 100%|█████████▉| 199734/200000 [00:56<00:00, 3044.43it/s]"
     ]
    },
    {
     "data": {
      "text/html": [
       "<div><style>\n",
       ".dataframe > thead > tr,\n",
       ".dataframe > tbody > tr {\n",
       "  text-align: right;\n",
       "  white-space: pre-wrap;\n",
       "}\n",
       "</style>\n",
       "<small>shape: (100_000, 4)</small><table border=\"1\" class=\"dataframe\"><thead><tr><th>chosen</th><th>rejected</th><th>chosen_prompt</th><th>rejected_prompt</th></tr><tr><td>i64</td><td>i64</td><td>str</td><td>str</td></tr></thead><tbody><tr><td>6700214</td><td>6700312</td><td>&quot;&lt;instructions&gt;Your goal is to …</td><td>&quot;&lt;instructions&gt;Your goal is to …</td></tr><tr><td>12746935</td><td>12747137</td><td>&quot;&lt;instructions&gt;Your goal is to …</td><td>&quot;&lt;instructions&gt;Your goal is to …</td></tr><tr><td>12366331</td><td>12366473</td><td>&quot;&lt;instructions&gt;Your goal is to …</td><td>&quot;&lt;instructions&gt;Your goal is to …</td></tr><tr><td>30382440</td><td>30382433</td><td>&quot;&lt;instructions&gt;Your goal is to …</td><td>&quot;&lt;instructions&gt;Your goal is to …</td></tr><tr><td>22646708</td><td>22646785</td><td>&quot;&lt;instructions&gt;Your goal is to …</td><td>&quot;&lt;instructions&gt;Your goal is to …</td></tr><tr><td>&hellip;</td><td>&hellip;</td><td>&hellip;</td><td>&hellip;</td></tr><tr><td>22045297</td><td>22045793</td><td>&quot;&lt;instructions&gt;Your goal is to …</td><td>&quot;&lt;instructions&gt;Your goal is to …</td></tr><tr><td>33001422</td><td>33001056</td><td>&quot;&lt;instructions&gt;Your goal is to …</td><td>&quot;&lt;instructions&gt;Your goal is to …</td></tr><tr><td>41157986</td><td>41157999</td><td>&quot;&lt;instructions&gt;Your goal is to …</td><td>&quot;&lt;instructions&gt;Your goal is to …</td></tr><tr><td>11593602</td><td>11593640</td><td>&quot;&lt;instructions&gt;Your goal is to …</td><td>&quot;&lt;instructions&gt;Your goal is to …</td></tr><tr><td>6910027</td><td>6910107</td><td>&quot;&lt;instructions&gt;Your goal is to …</td><td>&quot;&lt;instructions&gt;Your goal is to …</td></tr></tbody></table></div>"
      ],
      "text/plain": [
       "shape: (100_000, 4)\n",
       "┌──────────┬──────────┬─────────────────────────────────┬─────────────────────────────────┐\n",
       "│ chosen   ┆ rejected ┆ chosen_prompt                   ┆ rejected_prompt                 │\n",
       "│ ---      ┆ ---      ┆ ---                             ┆ ---                             │\n",
       "│ i64      ┆ i64      ┆ str                             ┆ str                             │\n",
       "╞══════════╪══════════╪═════════════════════════════════╪═════════════════════════════════╡\n",
       "│ 6700214  ┆ 6700312  ┆ <instructions>Your goal is to … ┆ <instructions>Your goal is to … │\n",
       "│ 12746935 ┆ 12747137 ┆ <instructions>Your goal is to … ┆ <instructions>Your goal is to … │\n",
       "│ 12366331 ┆ 12366473 ┆ <instructions>Your goal is to … ┆ <instructions>Your goal is to … │\n",
       "│ 30382440 ┆ 30382433 ┆ <instructions>Your goal is to … ┆ <instructions>Your goal is to … │\n",
       "│ 22646708 ┆ 22646785 ┆ <instructions>Your goal is to … ┆ <instructions>Your goal is to … │\n",
       "│ …        ┆ …        ┆ …                               ┆ …                               │\n",
       "│ 22045297 ┆ 22045793 ┆ <instructions>Your goal is to … ┆ <instructions>Your goal is to … │\n",
       "│ 33001422 ┆ 33001056 ┆ <instructions>Your goal is to … ┆ <instructions>Your goal is to … │\n",
       "│ 41157986 ┆ 41157999 ┆ <instructions>Your goal is to … ┆ <instructions>Your goal is to … │\n",
       "│ 11593602 ┆ 11593640 ┆ <instructions>Your goal is to … ┆ <instructions>Your goal is to … │\n",
       "│ 6910027  ┆ 6910107  ┆ <instructions>Your goal is to … ┆ <instructions>Your goal is to … │\n",
       "└──────────┴──────────┴─────────────────────────────────┴─────────────────────────────────┘"
      ]
     },
     "execution_count": 12,
     "metadata": {},
     "output_type": "execute_result"
    },
    {
     "name": "stderr",
     "output_type": "stream",
     "text": [
      "Building prompts: 200001it [01:07, 3044.43it/s]                            "
     ]
    }
   ],
   "source": [
    "# for i in range(len(df)):\n",
    "#     if df.row(i)[\"id\"] != i:\n",
    "#         print(i)\n",
    "\n",
    "sample_pairs = pairs_df.sample(n=100000, seed=42)\n",
    "\n",
    "import dicttoxml\n",
    "import json\n",
    "from xml.dom.minidom import parseString\n",
    "\n",
    "progress_bar = tqdm(total=len(sample_pairs) * 2, desc=\"Building prompts\")\n",
    "\n",
    "\n",
    "def build_prompt(comment_id: int) -> str:\n",
    "    comment = df.row(comment_id, named=True)\n",
    "    story = df.row(comment[\"top_level_parent\"], named=True)\n",
    "\n",
    "    data = {\n",
    "        \"instructions\": \"Your goal is to analyze the following comment and estimate how highly it will be upvoted by the Hacker News community.\",\n",
    "        \"comment\": {\n",
    "            \"author\": comment[\"by\"],\n",
    "            \"text\": comment[\"text\"],\n",
    "            \"parent_chain\": [],\n",
    "        },\n",
    "        \"story\": {\"title\": story[\"title\"]},\n",
    "    }\n",
    "\n",
    "    current_parent = df.row(comment[\"parent\"], named=True)\n",
    "    while current_parent[\"id\"] != story[\"id\"]:\n",
    "        data[\"comment\"][\"parent_chain\"].append(\n",
    "            {\"author\": current_parent[\"by\"], \"text\": current_parent[\"text\"]}\n",
    "        )\n",
    "        current_parent = df.row(current_parent[\"parent\"], named=True)\n",
    "\n",
    "    if story[\"url\"] is not None:\n",
    "        data[\"story\"][\"url\"] = story[\"url\"]\n",
    "    if story[\"text\"] is not None:\n",
    "        data[\"story\"][\"text\"] = story[\"text\"]\n",
    "\n",
    "    xml = dicttoxml.dicttoxml(data, attr_type=False, root=False)\n",
    "\n",
    "    progress_bar.update(1)\n",
    "    return xml.decode(\"utf-8\")\n",
    "\n",
    "\n",
    "print(build_prompt(788))\n",
    "\n",
    "sample_pairs = sample_pairs.with_columns(\n",
    "    pl.col(\"chosen\")\n",
    "    .map_elements(build_prompt, return_dtype=pl.String)\n",
    "    .alias(\"chosen_prompt\"),\n",
    "    pl.col(\"rejected\")\n",
    "    .map_elements(build_prompt, return_dtype=pl.String)\n",
    "    .alias(\"rejected_prompt\"),\n",
    ")\n",
    "\n",
    "sample_pairs\n"
   ]
  },
  {
   "cell_type": "code",
   "execution_count": 15,
   "metadata": {},
   "outputs": [],
   "source": [
    "!mkdir -p ./data\n",
    "sample_pairs.write_ndjson(\"./data/sample_pairs.jsonl\")"
   ]
  }
 ],
 "metadata": {
  "kernelspec": {
   "display_name": ".venv",
   "language": "python",
   "name": "python3"
  },
  "language_info": {
   "codemirror_mode": {
    "name": "ipython",
    "version": 3
   },
   "file_extension": ".py",
   "mimetype": "text/x-python",
   "name": "python",
   "nbconvert_exporter": "python",
   "pygments_lexer": "ipython3",
   "version": "3.10.12"
  }
 },
 "nbformat": 4,
 "nbformat_minor": 2
}
