{
 "cells": [
  {
   "cell_type": "code",
   "execution_count": 3,
   "metadata": {},
   "outputs": [],
   "source": [
    "import utils\n",
    "import polars as pl\n",
    "\n",
    "df = utils.dataset()"
   ]
  },
  {
   "cell_type": "code",
   "execution_count": 3,
   "metadata": {},
   "outputs": [
    {
     "data": {
      "text/html": [
       "<div><style>\n",
       ".dataframe > thead > tr,\n",
       ".dataframe > tbody > tr {\n",
       "  text-align: right;\n",
       "  white-space: pre-wrap;\n",
       "}\n",
       "</style>\n",
       "<small>shape: (36_323_460, 15)</small><table border=\"1\" class=\"dataframe\"><thead><tr><th>id</th><th>type</th><th>by</th><th>time</th><th>title</th><th>text</th><th>url</th><th>score</th><th>parent</th><th>top_level_parent</th><th>descendants</th><th>kids</th><th>deleted</th><th>dead</th><th>siblings_count</th></tr><tr><td>i64</td><td>str</td><td>str</td><td>datetime[μs]</td><td>str</td><td>str</td><td>str</td><td>i64</td><td>i64</td><td>i64</td><td>i64</td><td>list[i64]</td><td>bool</td><td>bool</td><td>u32</td></tr></thead><tbody><tr><td>15</td><td>&quot;comment&quot;</td><td>&quot;sama&quot;</td><td>2006-10-09 19:51:01</td><td>null</td><td>&quot;&amp;#34;the rising star of ventur…</td><td>null</td><td>null</td><td>1</td><td>1</td><td>null</td><td>[17]</td><td>null</td><td>null</td><td>4</td></tr><tr><td>17</td><td>&quot;comment&quot;</td><td>&quot;pg&quot;</td><td>2006-10-09 19:52:45</td><td>null</td><td>&quot;Is there anywhere to eat on Sa…</td><td>null</td><td>null</td><td>15</td><td>1</td><td>null</td><td>[1079]</td><td>null</td><td>null</td><td>1</td></tr><tr><td>22</td><td>&quot;comment&quot;</td><td>&quot;pg&quot;</td><td>2006-10-10 02:18:22</td><td>null</td><td>&quot;It&#x27;s kind of funny that Sevin …</td><td>null</td><td>null</td><td>21</td><td>21</td><td>null</td><td>null</td><td>null</td><td>null</td><td>1</td></tr><tr><td>23</td><td>&quot;comment&quot;</td><td>&quot;starklysnarky&quot;</td><td>2006-10-10 02:30:53</td><td>null</td><td>&quot;This is interesting, but the l…</td><td>null</td><td>null</td><td>20</td><td>20</td><td>null</td><td>null</td><td>null</td><td>null</td><td>1</td></tr><tr><td>30</td><td>&quot;comment&quot;</td><td>&quot;spez&quot;</td><td>2006-10-10 15:34:59</td><td>null</td><td>&quot;Stay tuned...&quot;</td><td>null</td><td>null</td><td>29</td><td>29</td><td>null</td><td>[31]</td><td>null</td><td>null</td><td>1</td></tr><tr><td>&hellip;</td><td>&hellip;</td><td>&hellip;</td><td>&hellip;</td><td>&hellip;</td><td>&hellip;</td><td>&hellip;</td><td>&hellip;</td><td>&hellip;</td><td>&hellip;</td><td>&hellip;</td><td>&hellip;</td><td>&hellip;</td><td>&hellip;</td><td>&hellip;</td></tr><tr><td>41813379</td><td>&quot;comment&quot;</td><td>&quot;kbolino&quot;</td><td>2024-10-11 20:26:09</td><td>null</td><td>&quot;A non-blocking send would work…</td><td>null</td><td>null</td><td>41812752</td><td>41809262</td><td>null</td><td>null</td><td>null</td><td>null</td><td>1</td></tr><tr><td>41813380</td><td>&quot;comment&quot;</td><td>&quot;slightwinder&quot;</td><td>2024-10-11 20:26:18</td><td>null</td><td>&quot;&amp;gt; It genuinely astounds me …</td><td>null</td><td>null</td><td>41810691</td><td>41808943</td><td>null</td><td>null</td><td>null</td><td>null</td><td>4</td></tr><tr><td>41813381</td><td>&quot;comment&quot;</td><td>&quot;marcosdumay&quot;</td><td>2024-10-11 20:26:21</td><td>null</td><td>&quot;Add forced sedentarism into th…</td><td>null</td><td>null</td><td>41812891</td><td>41811263</td><td>null</td><td>null</td><td>null</td><td>null</td><td>1</td></tr><tr><td>41813383</td><td>&quot;comment&quot;</td><td>&quot;davio&quot;</td><td>2024-10-11 20:26:28</td><td>null</td><td>&quot;hims sells the generic version…</td><td>null</td><td>null</td><td>41813102</td><td>41811263</td><td>null</td><td>null</td><td>null</td><td>null</td><td>1</td></tr><tr><td>41813384</td><td>&quot;comment&quot;</td><td>&quot;btilly&quot;</td><td>2024-10-11 20:26:29</td><td>null</td><td>&quot;Well, if you want a simple arg…</td><td>null</td><td>null</td><td>41812134</td><td>41808127</td><td>null</td><td>null</td><td>null</td><td>null</td><td>1</td></tr></tbody></table></div>"
      ],
      "text/plain": [
       "shape: (36_323_460, 15)\n",
       "┌──────────┬─────────┬──────────────┬──────────────┬───┬───────────┬─────────┬──────┬──────────────┐\n",
       "│ id       ┆ type    ┆ by           ┆ time         ┆ … ┆ kids      ┆ deleted ┆ dead ┆ siblings_cou │\n",
       "│ ---      ┆ ---     ┆ ---          ┆ ---          ┆   ┆ ---       ┆ ---     ┆ ---  ┆ nt           │\n",
       "│ i64      ┆ str     ┆ str          ┆ datetime[μs] ┆   ┆ list[i64] ┆ bool    ┆ bool ┆ ---          │\n",
       "│          ┆         ┆              ┆              ┆   ┆           ┆         ┆      ┆ u32          │\n",
       "╞══════════╪═════════╪══════════════╪══════════════╪═══╪═══════════╪═════════╪══════╪══════════════╡\n",
       "│ 15       ┆ comment ┆ sama         ┆ 2006-10-09   ┆ … ┆ [17]      ┆ null    ┆ null ┆ 4            │\n",
       "│          ┆         ┆              ┆ 19:51:01     ┆   ┆           ┆         ┆      ┆              │\n",
       "│ 17       ┆ comment ┆ pg           ┆ 2006-10-09   ┆ … ┆ [1079]    ┆ null    ┆ null ┆ 1            │\n",
       "│          ┆         ┆              ┆ 19:52:45     ┆   ┆           ┆         ┆      ┆              │\n",
       "│ 22       ┆ comment ┆ pg           ┆ 2006-10-10   ┆ … ┆ null      ┆ null    ┆ null ┆ 1            │\n",
       "│          ┆         ┆              ┆ 02:18:22     ┆   ┆           ┆         ┆      ┆              │\n",
       "│ 23       ┆ comment ┆ starklysnark ┆ 2006-10-10   ┆ … ┆ null      ┆ null    ┆ null ┆ 1            │\n",
       "│          ┆         ┆ y            ┆ 02:30:53     ┆   ┆           ┆         ┆      ┆              │\n",
       "│ 30       ┆ comment ┆ spez         ┆ 2006-10-10   ┆ … ┆ [31]      ┆ null    ┆ null ┆ 1            │\n",
       "│          ┆         ┆              ┆ 15:34:59     ┆   ┆           ┆         ┆      ┆              │\n",
       "│ …        ┆ …       ┆ …            ┆ …            ┆ … ┆ …         ┆ …       ┆ …    ┆ …            │\n",
       "│ 41813379 ┆ comment ┆ kbolino      ┆ 2024-10-11   ┆ … ┆ null      ┆ null    ┆ null ┆ 1            │\n",
       "│          ┆         ┆              ┆ 20:26:09     ┆   ┆           ┆         ┆      ┆              │\n",
       "│ 41813380 ┆ comment ┆ slightwinder ┆ 2024-10-11   ┆ … ┆ null      ┆ null    ┆ null ┆ 4            │\n",
       "│          ┆         ┆              ┆ 20:26:18     ┆   ┆           ┆         ┆      ┆              │\n",
       "│ 41813381 ┆ comment ┆ marcosdumay  ┆ 2024-10-11   ┆ … ┆ null      ┆ null    ┆ null ┆ 1            │\n",
       "│          ┆         ┆              ┆ 20:26:21     ┆   ┆           ┆         ┆      ┆              │\n",
       "│ 41813383 ┆ comment ┆ davio        ┆ 2024-10-11   ┆ … ┆ null      ┆ null    ┆ null ┆ 1            │\n",
       "│          ┆         ┆              ┆ 20:26:28     ┆   ┆           ┆         ┆      ┆              │\n",
       "│ 41813384 ┆ comment ┆ btilly       ┆ 2024-10-11   ┆ … ┆ null      ┆ null    ┆ null ┆ 1            │\n",
       "│          ┆         ┆              ┆ 20:26:29     ┆   ┆           ┆         ┆      ┆              │\n",
       "└──────────┴─────────┴──────────────┴──────────────┴───┴───────────┴─────────┴──────┴──────────────┘"
      ]
     },
     "execution_count": 3,
     "metadata": {},
     "output_type": "execute_result"
    }
   ],
   "source": [
    "# Ok, I want to start by limiting to comments\n",
    "comments_df = df.filter(pl.col(\"type\") == \"comment\")\n",
    "\n",
    "# add a new column siblings_count\n",
    "comments_df = comments_df.with_columns(\n",
    "    [pl.col(\"id\").count().over(\"parent\").alias(\"siblings_count\")]\n",
    ")\n",
    "comments_df"
   ]
  },
  {
   "cell_type": "code",
   "execution_count": 4,
   "metadata": {},
   "outputs": [
    {
     "data": {
      "text/html": [
       "<div><style>\n",
       ".dataframe > thead > tr,\n",
       ".dataframe > tbody > tr {\n",
       "  text-align: right;\n",
       "  white-space: pre-wrap;\n",
       "}\n",
       "</style>\n",
       "<small>shape: (24_134_648, 15)</small><table border=\"1\" class=\"dataframe\"><thead><tr><th>id</th><th>type</th><th>by</th><th>time</th><th>title</th><th>text</th><th>url</th><th>score</th><th>parent</th><th>top_level_parent</th><th>descendants</th><th>kids</th><th>deleted</th><th>dead</th><th>siblings_count</th></tr><tr><td>i64</td><td>str</td><td>str</td><td>datetime[μs]</td><td>str</td><td>str</td><td>str</td><td>i64</td><td>i64</td><td>i64</td><td>i64</td><td>list[i64]</td><td>bool</td><td>bool</td><td>u32</td></tr></thead><tbody><tr><td>194</td><td>&quot;comment&quot;</td><td>&quot;jmzachary&quot;</td><td>2007-02-20 22:33:51</td><td>null</td><td>&quot;Thanks for the rationale. I&#x27;m …</td><td>null</td><td>null</td><td>189</td><td>189</td><td>null</td><td>[205, 422, 199]</td><td>null</td><td>null</td><td>20</td></tr><tr><td>195</td><td>&quot;comment&quot;</td><td>&quot;jdroid&quot;</td><td>2007-02-20 22:36:52</td><td>null</td><td>&quot;You&#x27;ve filled a hole reddit wa…</td><td>null</td><td>null</td><td>189</td><td>189</td><td>null</td><td>[259]</td><td>null</td><td>null</td><td>20</td></tr><tr><td>199</td><td>&quot;comment&quot;</td><td>&quot;Zak&quot;</td><td>2007-02-20 22:48:33</td><td>null</td><td>&quot;I don&#x27;t think the fact that th…</td><td>null</td><td>null</td><td>194</td><td>189</td><td>null</td><td>[1644, 1897]</td><td>null</td><td>null</td><td>3</td></tr><tr><td>205</td><td>&quot;comment&quot;</td><td>&quot;ninwa&quot;</td><td>2007-02-20 23:30:23</td><td>null</td><td>&quot;Really? I was most interested …</td><td>null</td><td>null</td><td>194</td><td>189</td><td>null</td><td>[210, 209]</td><td>null</td><td>null</td><td>3</td></tr><tr><td>209</td><td>&quot;comment&quot;</td><td>&quot;ninwa&quot;</td><td>2007-02-20 23:41:34</td><td>null</td><td>&quot;This comment added through the…</td><td>null</td><td>null</td><td>205</td><td>189</td><td>null</td><td>null</td><td>null</td><td>null</td><td>2</td></tr><tr><td>&hellip;</td><td>&hellip;</td><td>&hellip;</td><td>&hellip;</td><td>&hellip;</td><td>&hellip;</td><td>&hellip;</td><td>&hellip;</td><td>&hellip;</td><td>&hellip;</td><td>&hellip;</td><td>&hellip;</td><td>&hellip;</td><td>&hellip;</td><td>&hellip;</td></tr><tr><td>41813369</td><td>&quot;comment&quot;</td><td>&quot;whall6&quot;</td><td>2024-10-11 20:25:08</td><td>null</td><td>&quot;If you truly only have 5 minut…</td><td>null</td><td>null</td><td>41812596</td><td>41811263</td><td>null</td><td>null</td><td>null</td><td>null</td><td>1</td></tr><tr><td>41813371</td><td>&quot;comment&quot;</td><td>&quot;julianeon&quot;</td><td>2024-10-11 20:25:25</td><td>null</td><td>&quot;But consider the tradeoff: it&amp;…</td><td>null</td><td>null</td><td>41811539</td><td>41811263</td><td>null</td><td>null</td><td>null</td><td>null</td><td>13</td></tr><tr><td>41813375</td><td>&quot;comment&quot;</td><td>&quot;throw0101c&quot;</td><td>2024-10-11 20:25:51</td><td>null</td><td>&quot;&amp;gt; &lt;i&gt;There is so much coal.…</td><td>null</td><td>null</td><td>41811328</td><td>41807681</td><td>null</td><td>null</td><td>null</td><td>null</td><td>1</td></tr><tr><td>41813381</td><td>&quot;comment&quot;</td><td>&quot;marcosdumay&quot;</td><td>2024-10-11 20:26:21</td><td>null</td><td>&quot;Add forced sedentarism into th…</td><td>null</td><td>null</td><td>41812891</td><td>41811263</td><td>null</td><td>null</td><td>null</td><td>null</td><td>1</td></tr><tr><td>41813383</td><td>&quot;comment&quot;</td><td>&quot;davio&quot;</td><td>2024-10-11 20:26:28</td><td>null</td><td>&quot;hims sells the generic version…</td><td>null</td><td>null</td><td>41813102</td><td>41811263</td><td>null</td><td>null</td><td>null</td><td>null</td><td>1</td></tr></tbody></table></div>"
      ],
      "text/plain": [
       "shape: (24_134_648, 15)\n",
       "┌──────────┬─────────┬─────────────┬──────────────┬───┬─────────────┬─────────┬──────┬─────────────┐\n",
       "│ id       ┆ type    ┆ by          ┆ time         ┆ … ┆ kids        ┆ deleted ┆ dead ┆ siblings_co │\n",
       "│ ---      ┆ ---     ┆ ---         ┆ ---          ┆   ┆ ---         ┆ ---     ┆ ---  ┆ unt         │\n",
       "│ i64      ┆ str     ┆ str         ┆ datetime[μs] ┆   ┆ list[i64]   ┆ bool    ┆ bool ┆ ---         │\n",
       "│          ┆         ┆             ┆              ┆   ┆             ┆         ┆      ┆ u32         │\n",
       "╞══════════╪═════════╪═════════════╪══════════════╪═══╪═════════════╪═════════╪══════╪═════════════╡\n",
       "│ 194      ┆ comment ┆ jmzachary   ┆ 2007-02-20   ┆ … ┆ [205, 422,  ┆ null    ┆ null ┆ 20          │\n",
       "│          ┆         ┆             ┆ 22:33:51     ┆   ┆ 199]        ┆         ┆      ┆             │\n",
       "│ 195      ┆ comment ┆ jdroid      ┆ 2007-02-20   ┆ … ┆ [259]       ┆ null    ┆ null ┆ 20          │\n",
       "│          ┆         ┆             ┆ 22:36:52     ┆   ┆             ┆         ┆      ┆             │\n",
       "│ 199      ┆ comment ┆ Zak         ┆ 2007-02-20   ┆ … ┆ [1644,      ┆ null    ┆ null ┆ 3           │\n",
       "│          ┆         ┆             ┆ 22:48:33     ┆   ┆ 1897]       ┆         ┆      ┆             │\n",
       "│ 205      ┆ comment ┆ ninwa       ┆ 2007-02-20   ┆ … ┆ [210, 209]  ┆ null    ┆ null ┆ 3           │\n",
       "│          ┆         ┆             ┆ 23:30:23     ┆   ┆             ┆         ┆      ┆             │\n",
       "│ 209      ┆ comment ┆ ninwa       ┆ 2007-02-20   ┆ … ┆ null        ┆ null    ┆ null ┆ 2           │\n",
       "│          ┆         ┆             ┆ 23:41:34     ┆   ┆             ┆         ┆      ┆             │\n",
       "│ …        ┆ …       ┆ …           ┆ …            ┆ … ┆ …           ┆ …       ┆ …    ┆ …           │\n",
       "│ 41813369 ┆ comment ┆ whall6      ┆ 2024-10-11   ┆ … ┆ null        ┆ null    ┆ null ┆ 1           │\n",
       "│          ┆         ┆             ┆ 20:25:08     ┆   ┆             ┆         ┆      ┆             │\n",
       "│ 41813371 ┆ comment ┆ julianeon   ┆ 2024-10-11   ┆ … ┆ null        ┆ null    ┆ null ┆ 13          │\n",
       "│          ┆         ┆             ┆ 20:25:25     ┆   ┆             ┆         ┆      ┆             │\n",
       "│ 41813375 ┆ comment ┆ throw0101c  ┆ 2024-10-11   ┆ … ┆ null        ┆ null    ┆ null ┆ 1           │\n",
       "│          ┆         ┆             ┆ 20:25:51     ┆   ┆             ┆         ┆      ┆             │\n",
       "│ 41813381 ┆ comment ┆ marcosdumay ┆ 2024-10-11   ┆ … ┆ null        ┆ null    ┆ null ┆ 1           │\n",
       "│          ┆         ┆             ┆ 20:26:21     ┆   ┆             ┆         ┆      ┆             │\n",
       "│ 41813383 ┆ comment ┆ davio       ┆ 2024-10-11   ┆ … ┆ null        ┆ null    ┆ null ┆ 1           │\n",
       "│          ┆         ┆             ┆ 20:26:28     ┆   ┆             ┆         ┆      ┆             │\n",
       "└──────────┴─────────┴─────────────┴──────────────┴───┴─────────────┴─────────┴──────┴─────────────┘"
      ]
     },
     "execution_count": 4,
     "metadata": {},
     "output_type": "execute_result"
    }
   ],
   "source": [
    "stories_with_100_points = df.filter(pl.col(\"score\") >= 100)\n",
    "\n",
    "# filter comments_df to only include comments whose top_level_parent is in the stories_with_100_points dataframe\n",
    "comments_df = comments_df.filter(\n",
    "    pl.col(\"top_level_parent\").is_in(stories_with_100_points[\"id\"])\n",
    ")\n",
    "\n",
    "comments_df"
   ]
  },
  {
   "cell_type": "code",
   "execution_count": 5,
   "metadata": {},
   "outputs": [
    {
     "name": "stdout",
     "output_type": "stream",
     "text": [
      "The maximum sibling rank is: 1810\n",
      "The number of sibling ranks is: 36315132\n"
     ]
    },
    {
     "data": {
      "text/html": [
       "<div><style>\n",
       ".dataframe > thead > tr,\n",
       ".dataframe > tbody > tr {\n",
       "  text-align: right;\n",
       "  white-space: pre-wrap;\n",
       "}\n",
       "</style>\n",
       "<small>shape: (24_134_648, 16)</small><table border=\"1\" class=\"dataframe\"><thead><tr><th>id</th><th>type</th><th>by</th><th>time</th><th>title</th><th>text</th><th>url</th><th>score</th><th>parent</th><th>top_level_parent</th><th>descendants</th><th>kids</th><th>deleted</th><th>dead</th><th>siblings_count</th><th>sibling_rank</th></tr><tr><td>i64</td><td>str</td><td>str</td><td>datetime[μs]</td><td>str</td><td>str</td><td>str</td><td>i64</td><td>i64</td><td>i64</td><td>i64</td><td>list[i64]</td><td>bool</td><td>bool</td><td>u32</td><td>i64</td></tr></thead><tbody><tr><td>194</td><td>&quot;comment&quot;</td><td>&quot;jmzachary&quot;</td><td>2007-02-20 22:33:51</td><td>null</td><td>&quot;Thanks for the rationale. I&#x27;m …</td><td>null</td><td>null</td><td>189</td><td>189</td><td>null</td><td>[205, 422, 199]</td><td>null</td><td>null</td><td>20</td><td>13</td></tr><tr><td>195</td><td>&quot;comment&quot;</td><td>&quot;jdroid&quot;</td><td>2007-02-20 22:36:52</td><td>null</td><td>&quot;You&#x27;ve filled a hole reddit wa…</td><td>null</td><td>null</td><td>189</td><td>189</td><td>null</td><td>[259]</td><td>null</td><td>null</td><td>20</td><td>3</td></tr><tr><td>199</td><td>&quot;comment&quot;</td><td>&quot;Zak&quot;</td><td>2007-02-20 22:48:33</td><td>null</td><td>&quot;I don&#x27;t think the fact that th…</td><td>null</td><td>null</td><td>194</td><td>189</td><td>null</td><td>[1644, 1897]</td><td>null</td><td>null</td><td>3</td><td>3</td></tr><tr><td>205</td><td>&quot;comment&quot;</td><td>&quot;ninwa&quot;</td><td>2007-02-20 23:30:23</td><td>null</td><td>&quot;Really? I was most interested …</td><td>null</td><td>null</td><td>194</td><td>189</td><td>null</td><td>[210, 209]</td><td>null</td><td>null</td><td>3</td><td>1</td></tr><tr><td>209</td><td>&quot;comment&quot;</td><td>&quot;ninwa&quot;</td><td>2007-02-20 23:41:34</td><td>null</td><td>&quot;This comment added through the…</td><td>null</td><td>null</td><td>205</td><td>189</td><td>null</td><td>null</td><td>null</td><td>null</td><td>2</td><td>2</td></tr><tr><td>&hellip;</td><td>&hellip;</td><td>&hellip;</td><td>&hellip;</td><td>&hellip;</td><td>&hellip;</td><td>&hellip;</td><td>&hellip;</td><td>&hellip;</td><td>&hellip;</td><td>&hellip;</td><td>&hellip;</td><td>&hellip;</td><td>&hellip;</td><td>&hellip;</td><td>&hellip;</td></tr><tr><td>41813369</td><td>&quot;comment&quot;</td><td>&quot;whall6&quot;</td><td>2024-10-11 20:25:08</td><td>null</td><td>&quot;If you truly only have 5 minut…</td><td>null</td><td>null</td><td>41812596</td><td>41811263</td><td>null</td><td>null</td><td>null</td><td>null</td><td>1</td><td>1</td></tr><tr><td>41813371</td><td>&quot;comment&quot;</td><td>&quot;julianeon&quot;</td><td>2024-10-11 20:25:25</td><td>null</td><td>&quot;But consider the tradeoff: it&amp;…</td><td>null</td><td>null</td><td>41811539</td><td>41811263</td><td>null</td><td>null</td><td>null</td><td>null</td><td>13</td><td>1</td></tr><tr><td>41813375</td><td>&quot;comment&quot;</td><td>&quot;throw0101c&quot;</td><td>2024-10-11 20:25:51</td><td>null</td><td>&quot;&amp;gt; &lt;i&gt;There is so much coal.…</td><td>null</td><td>null</td><td>41811328</td><td>41807681</td><td>null</td><td>null</td><td>null</td><td>null</td><td>1</td><td>1</td></tr><tr><td>41813381</td><td>&quot;comment&quot;</td><td>&quot;marcosdumay&quot;</td><td>2024-10-11 20:26:21</td><td>null</td><td>&quot;Add forced sedentarism into th…</td><td>null</td><td>null</td><td>41812891</td><td>41811263</td><td>null</td><td>null</td><td>null</td><td>null</td><td>1</td><td>1</td></tr><tr><td>41813383</td><td>&quot;comment&quot;</td><td>&quot;davio&quot;</td><td>2024-10-11 20:26:28</td><td>null</td><td>&quot;hims sells the generic version…</td><td>null</td><td>null</td><td>41813102</td><td>41811263</td><td>null</td><td>null</td><td>null</td><td>null</td><td>1</td><td>1</td></tr></tbody></table></div>"
      ],
      "text/plain": [
       "shape: (24_134_648, 16)\n",
       "┌──────────┬─────────┬─────────────┬──────────────┬───┬─────────┬──────┬─────────────┬─────────────┐\n",
       "│ id       ┆ type    ┆ by          ┆ time         ┆ … ┆ deleted ┆ dead ┆ siblings_co ┆ sibling_ran │\n",
       "│ ---      ┆ ---     ┆ ---         ┆ ---          ┆   ┆ ---     ┆ ---  ┆ unt         ┆ k           │\n",
       "│ i64      ┆ str     ┆ str         ┆ datetime[μs] ┆   ┆ bool    ┆ bool ┆ ---         ┆ ---         │\n",
       "│          ┆         ┆             ┆              ┆   ┆         ┆      ┆ u32         ┆ i64         │\n",
       "╞══════════╪═════════╪═════════════╪══════════════╪═══╪═════════╪══════╪═════════════╪═════════════╡\n",
       "│ 194      ┆ comment ┆ jmzachary   ┆ 2007-02-20   ┆ … ┆ null    ┆ null ┆ 20          ┆ 13          │\n",
       "│          ┆         ┆             ┆ 22:33:51     ┆   ┆         ┆      ┆             ┆             │\n",
       "│ 195      ┆ comment ┆ jdroid      ┆ 2007-02-20   ┆ … ┆ null    ┆ null ┆ 20          ┆ 3           │\n",
       "│          ┆         ┆             ┆ 22:36:52     ┆   ┆         ┆      ┆             ┆             │\n",
       "│ 199      ┆ comment ┆ Zak         ┆ 2007-02-20   ┆ … ┆ null    ┆ null ┆ 3           ┆ 3           │\n",
       "│          ┆         ┆             ┆ 22:48:33     ┆   ┆         ┆      ┆             ┆             │\n",
       "│ 205      ┆ comment ┆ ninwa       ┆ 2007-02-20   ┆ … ┆ null    ┆ null ┆ 3           ┆ 1           │\n",
       "│          ┆         ┆             ┆ 23:30:23     ┆   ┆         ┆      ┆             ┆             │\n",
       "│ 209      ┆ comment ┆ ninwa       ┆ 2007-02-20   ┆ … ┆ null    ┆ null ┆ 2           ┆ 2           │\n",
       "│          ┆         ┆             ┆ 23:41:34     ┆   ┆         ┆      ┆             ┆             │\n",
       "│ …        ┆ …       ┆ …           ┆ …            ┆ … ┆ …       ┆ …    ┆ …           ┆ …           │\n",
       "│ 41813369 ┆ comment ┆ whall6      ┆ 2024-10-11   ┆ … ┆ null    ┆ null ┆ 1           ┆ 1           │\n",
       "│          ┆         ┆             ┆ 20:25:08     ┆   ┆         ┆      ┆             ┆             │\n",
       "│ 41813371 ┆ comment ┆ julianeon   ┆ 2024-10-11   ┆ … ┆ null    ┆ null ┆ 13          ┆ 1           │\n",
       "│          ┆         ┆             ┆ 20:25:25     ┆   ┆         ┆      ┆             ┆             │\n",
       "│ 41813375 ┆ comment ┆ throw0101c  ┆ 2024-10-11   ┆ … ┆ null    ┆ null ┆ 1           ┆ 1           │\n",
       "│          ┆         ┆             ┆ 20:25:51     ┆   ┆         ┆      ┆             ┆             │\n",
       "│ 41813381 ┆ comment ┆ marcosdumay ┆ 2024-10-11   ┆ … ┆ null    ┆ null ┆ 1           ┆ 1           │\n",
       "│          ┆         ┆             ┆ 20:26:21     ┆   ┆         ┆      ┆             ┆             │\n",
       "│ 41813383 ┆ comment ┆ davio       ┆ 2024-10-11   ┆ … ┆ null    ┆ null ┆ 1           ┆ 1           │\n",
       "│          ┆         ┆             ┆ 20:26:28     ┆   ┆         ┆      ┆             ┆             │\n",
       "└──────────┴─────────┴─────────────┴──────────────┴───┴─────────┴──────┴─────────────┴─────────────┘"
      ]
     },
     "execution_count": 5,
     "metadata": {},
     "output_type": "execute_result"
    }
   ],
   "source": [
    "sibling_ranks = dict()\n",
    "\n",
    "# iterate over the rows of the dataframe\n",
    "for groupable_comment in df.select(pl.col(\"kids\")).iter_rows():\n",
    "    kids = groupable_comment[0]\n",
    "    if kids is not None:\n",
    "        for i, kid in enumerate(kids):\n",
    "            sibling_ranks[kid] = i + 1\n",
    "\n",
    "# Find the maximum value in the sibling_ranks dictionary\n",
    "max_sibling_rank = max(sibling_ranks.values())\n",
    "\n",
    "# Print the maximum value\n",
    "print(f\"The maximum sibling rank is: {max_sibling_rank}\")\n",
    "print(f\"The number of sibling ranks is: {len(sibling_ranks)}\")\n",
    "\n",
    "comments_df = comments_df.with_columns(\n",
    "    [\n",
    "        pl.col(\"id\")\n",
    "        .replace_strict(\n",
    "            list(sibling_ranks.keys()), list(sibling_ranks.values()), default=-1\n",
    "        )\n",
    "        .alias(\"sibling_rank\")\n",
    "    ]\n",
    ")\n",
    "del sibling_ranks\n",
    "\n",
    "comments_df"
   ]
  },
  {
   "cell_type": "code",
   "execution_count": 6,
   "metadata": {},
   "outputs": [
    {
     "name": "stdout",
     "output_type": "stream",
     "text": [
      "Iteration 1, current length: 533314\n",
      "Iteration 2, current length: 1614377\n",
      "Iteration 3, current length: 2828828\n",
      "Iteration 4, current length: 3874258\n",
      "Iteration 5, current length: 4636895\n",
      "Iteration 6, current length: 5139157\n"
     ]
    },
    {
     "data": {
      "text/html": [
       "<div><style>\n",
       ".dataframe > thead > tr,\n",
       ".dataframe > tbody > tr {\n",
       "  text-align: right;\n",
       "  white-space: pre-wrap;\n",
       "}\n",
       "</style>\n",
       "<small>shape: (5_445_792, 16)</small><table border=\"1\" class=\"dataframe\"><thead><tr><th>id</th><th>type</th><th>by</th><th>time</th><th>title</th><th>text</th><th>url</th><th>score</th><th>parent</th><th>top_level_parent</th><th>descendants</th><th>kids</th><th>deleted</th><th>dead</th><th>siblings_count</th><th>sibling_rank</th></tr><tr><td>i64</td><td>str</td><td>str</td><td>datetime[μs]</td><td>str</td><td>str</td><td>str</td><td>i64</td><td>i64</td><td>i64</td><td>i64</td><td>list[i64]</td><td>bool</td><td>bool</td><td>u32</td><td>i64</td></tr></thead><tbody><tr><td>195</td><td>&quot;comment&quot;</td><td>&quot;jdroid&quot;</td><td>2007-02-20 22:36:52</td><td>null</td><td>&quot;You&#x27;ve filled a hole reddit wa…</td><td>null</td><td>null</td><td>189</td><td>189</td><td>null</td><td>[259]</td><td>null</td><td>null</td><td>20</td><td>3</td></tr><tr><td>259</td><td>&quot;comment&quot;</td><td>&quot;whatsreal&quot;</td><td>2007-02-21 06:18:50</td><td>null</td><td>&quot;HaHa!  Yes thank you Paul, I w…</td><td>null</td><td>null</td><td>195</td><td>189</td><td>null</td><td>[453, 7198]</td><td>null</td><td>null</td><td>1</td><td>1</td></tr><tr><td>287</td><td>&quot;comment&quot;</td><td>&quot;ced&quot;</td><td>2007-02-21 09:08:16</td><td>null</td><td>&quot;Since community-building is pa…</td><td>null</td><td>null</td><td>189</td><td>189</td><td>null</td><td>[365]</td><td>null</td><td>null</td><td>20</td><td>2</td></tr><tr><td>353</td><td>&quot;comment&quot;</td><td>&quot;jhenzie&quot;</td><td>2007-02-21 18:47:34</td><td>null</td><td>&quot;Paul, \r\n",
       "\r\n",
       "can we play with arc…</td><td>null</td><td>null</td><td>189</td><td>189</td><td>null</td><td>[7199]</td><td>null</td><td>null</td><td>20</td><td>1</td></tr><tr><td>365</td><td>&quot;comment&quot;</td><td>&quot;jdroid&quot;</td><td>2007-02-21 19:25:14</td><td>null</td><td>&quot;If I bought yspace.com would y…</td><td>null</td><td>null</td><td>287</td><td>189</td><td>null</td><td>null</td><td>null</td><td>null</td><td>1</td><td>1</td></tr><tr><td>&hellip;</td><td>&hellip;</td><td>&hellip;</td><td>&hellip;</td><td>&hellip;</td><td>&hellip;</td><td>&hellip;</td><td>&hellip;</td><td>&hellip;</td><td>&hellip;</td><td>&hellip;</td><td>&hellip;</td><td>&hellip;</td><td>&hellip;</td><td>&hellip;</td><td>&hellip;</td></tr><tr><td>41813352</td><td>&quot;comment&quot;</td><td>&quot;dullcrisp&quot;</td><td>2024-10-11 20:22:59</td><td>null</td><td>&quot;A &lt;i&gt;scrappy&lt;/i&gt; marketing tea…</td><td>null</td><td>null</td><td>41813266</td><td>41811263</td><td>null</td><td>null</td><td>null</td><td>null</td><td>1</td><td>1</td></tr><tr><td>41813354</td><td>&quot;comment&quot;</td><td>&quot;ragnese&quot;</td><td>2024-10-11 20:23:06</td><td>null</td><td>&quot;It was only true that Chrome w…</td><td>null</td><td>null</td><td>41813112</td><td>41809698</td><td>null</td><td>null</td><td>null</td><td>null</td><td>1</td><td>1</td></tr><tr><td>41813362</td><td>&quot;comment&quot;</td><td>&quot;layer8&quot;</td><td>2024-10-11 20:23:58</td><td>null</td><td>&quot;It’s not simply a limitation i…</td><td>null</td><td>null</td><td>41812523</td><td>41812523</td><td>null</td><td>null</td><td>null</td><td>null</td><td>31</td><td>3</td></tr><tr><td>41813363</td><td>&quot;comment&quot;</td><td>&quot;nightski&quot;</td><td>2024-10-11 20:24:07</td><td>null</td><td>&quot;Nothing &amp;quot;needs&amp;quot; to h…</td><td>null</td><td>null</td><td>41812696</td><td>41811263</td><td>null</td><td>null</td><td>null</td><td>null</td><td>1</td><td>1</td></tr><tr><td>41813368</td><td>&quot;comment&quot;</td><td>null</td><td>2024-10-11 20:24:58</td><td>null</td><td>null</td><td>null</td><td>null</td><td>41813116</td><td>41811263</td><td>null</td><td>null</td><td>true</td><td>null</td><td>1</td><td>1</td></tr></tbody></table></div>"
      ],
      "text/plain": [
       "shape: (5_445_792, 16)\n",
       "┌──────────┬─────────┬───────────┬──────────────┬───┬─────────┬──────┬──────────────┬──────────────┐\n",
       "│ id       ┆ type    ┆ by        ┆ time         ┆ … ┆ deleted ┆ dead ┆ siblings_cou ┆ sibling_rank │\n",
       "│ ---      ┆ ---     ┆ ---       ┆ ---          ┆   ┆ ---     ┆ ---  ┆ nt           ┆ ---          │\n",
       "│ i64      ┆ str     ┆ str       ┆ datetime[μs] ┆   ┆ bool    ┆ bool ┆ ---          ┆ i64          │\n",
       "│          ┆         ┆           ┆              ┆   ┆         ┆      ┆ u32          ┆              │\n",
       "╞══════════╪═════════╪═══════════╪══════════════╪═══╪═════════╪══════╪══════════════╪══════════════╡\n",
       "│ 195      ┆ comment ┆ jdroid    ┆ 2007-02-20   ┆ … ┆ null    ┆ null ┆ 20           ┆ 3            │\n",
       "│          ┆         ┆           ┆ 22:36:52     ┆   ┆         ┆      ┆              ┆              │\n",
       "│ 259      ┆ comment ┆ whatsreal ┆ 2007-02-21   ┆ … ┆ null    ┆ null ┆ 1            ┆ 1            │\n",
       "│          ┆         ┆           ┆ 06:18:50     ┆   ┆         ┆      ┆              ┆              │\n",
       "│ 287      ┆ comment ┆ ced       ┆ 2007-02-21   ┆ … ┆ null    ┆ null ┆ 20           ┆ 2            │\n",
       "│          ┆         ┆           ┆ 09:08:16     ┆   ┆         ┆      ┆              ┆              │\n",
       "│ 353      ┆ comment ┆ jhenzie   ┆ 2007-02-21   ┆ … ┆ null    ┆ null ┆ 20           ┆ 1            │\n",
       "│          ┆         ┆           ┆ 18:47:34     ┆   ┆         ┆      ┆              ┆              │\n",
       "│ 365      ┆ comment ┆ jdroid    ┆ 2007-02-21   ┆ … ┆ null    ┆ null ┆ 1            ┆ 1            │\n",
       "│          ┆         ┆           ┆ 19:25:14     ┆   ┆         ┆      ┆              ┆              │\n",
       "│ …        ┆ …       ┆ …         ┆ …            ┆ … ┆ …       ┆ …    ┆ …            ┆ …            │\n",
       "│ 41813352 ┆ comment ┆ dullcrisp ┆ 2024-10-11   ┆ … ┆ null    ┆ null ┆ 1            ┆ 1            │\n",
       "│          ┆         ┆           ┆ 20:22:59     ┆   ┆         ┆      ┆              ┆              │\n",
       "│ 41813354 ┆ comment ┆ ragnese   ┆ 2024-10-11   ┆ … ┆ null    ┆ null ┆ 1            ┆ 1            │\n",
       "│          ┆         ┆           ┆ 20:23:06     ┆   ┆         ┆      ┆              ┆              │\n",
       "│ 41813362 ┆ comment ┆ layer8    ┆ 2024-10-11   ┆ … ┆ null    ┆ null ┆ 31           ┆ 3            │\n",
       "│          ┆         ┆           ┆ 20:23:58     ┆   ┆         ┆      ┆              ┆              │\n",
       "│ 41813363 ┆ comment ┆ nightski  ┆ 2024-10-11   ┆ … ┆ null    ┆ null ┆ 1            ┆ 1            │\n",
       "│          ┆         ┆           ┆ 20:24:07     ┆   ┆         ┆      ┆              ┆              │\n",
       "│ 41813368 ┆ comment ┆ null      ┆ 2024-10-11   ┆ … ┆ true    ┆ null ┆ 1            ┆ 1            │\n",
       "│          ┆         ┆           ┆ 20:24:58     ┆   ┆         ┆      ┆              ┆              │\n",
       "└──────────┴─────────┴───────────┴──────────────┴───┴─────────┴──────┴──────────────┴──────────────┘"
      ]
     },
     "execution_count": 6,
     "metadata": {},
     "output_type": "execute_result"
    }
   ],
   "source": [
    "# Let's limit to comments for which all of their parents have a sibling rank <=\n",
    "# 3. If a comment isn't in the top 3 of its parent it's less likely to have been\n",
    "# read and upvoted by enough people to form a representative sample.\n",
    "\n",
    "# We'll iteratively add comments with sibling_rank <= 3 up to 6 iterations.\n",
    "\n",
    "filtered_comments_df = comments_df.filter(\n",
    "    (pl.col(\"sibling_rank\") <= 3) & (pl.col(\"parent\").eq(pl.col(\"top_level_parent\")))\n",
    ")\n",
    "\n",
    "for iteration in range(6):\n",
    "    print(f\"Iteration {iteration + 1}, current length: {len(filtered_comments_df)}\")\n",
    "    new_filtered_comments_df = comments_df.filter(\n",
    "        (\n",
    "            (pl.col(\"sibling_rank\") <= 3)\n",
    "            & (pl.col(\"parent\").is_in(filtered_comments_df[\"id\"]))\n",
    "        )\n",
    "        | (pl.col(\"id\").is_in(filtered_comments_df[\"id\"]))\n",
    "    )\n",
    "\n",
    "    if len(new_filtered_comments_df) == len(filtered_comments_df):\n",
    "        break\n",
    "\n",
    "    filtered_comments_df = new_filtered_comments_df\n",
    "\n",
    "comments_df = filtered_comments_df\n",
    "\n",
    "del filtered_comments_df\n",
    "comments_df"
   ]
  },
  {
   "cell_type": "code",
   "execution_count": 7,
   "metadata": {},
   "outputs": [
    {
     "data": {
      "text/html": [
       "<div><style>\n",
       ".dataframe > thead > tr,\n",
       ".dataframe > tbody > tr {\n",
       "  text-align: right;\n",
       "  white-space: pre-wrap;\n",
       "}\n",
       "</style>\n",
       "<small>shape: (1_109_206, 16)</small><table border=\"1\" class=\"dataframe\"><thead><tr><th>id</th><th>type</th><th>by</th><th>time</th><th>title</th><th>text</th><th>url</th><th>score</th><th>parent</th><th>top_level_parent</th><th>descendants</th><th>kids</th><th>deleted</th><th>dead</th><th>siblings_count</th><th>sibling_rank</th></tr><tr><td>i64</td><td>str</td><td>str</td><td>datetime[μs]</td><td>str</td><td>str</td><td>str</td><td>i64</td><td>i64</td><td>i64</td><td>i64</td><td>list[i64]</td><td>bool</td><td>bool</td><td>u32</td><td>i64</td></tr></thead><tbody><tr><td>195</td><td>&quot;comment&quot;</td><td>&quot;jdroid&quot;</td><td>2007-02-20 22:36:52</td><td>null</td><td>&quot;You&#x27;ve filled a hole reddit wa…</td><td>null</td><td>null</td><td>189</td><td>189</td><td>null</td><td>[259]</td><td>null</td><td>null</td><td>20</td><td>3</td></tr><tr><td>287</td><td>&quot;comment&quot;</td><td>&quot;ced&quot;</td><td>2007-02-21 09:08:16</td><td>null</td><td>&quot;Since community-building is pa…</td><td>null</td><td>null</td><td>189</td><td>189</td><td>null</td><td>[365]</td><td>null</td><td>null</td><td>20</td><td>2</td></tr><tr><td>353</td><td>&quot;comment&quot;</td><td>&quot;jhenzie&quot;</td><td>2007-02-21 18:47:34</td><td>null</td><td>&quot;Paul, \r\n",
       "\r\n",
       "can we play with arc…</td><td>null</td><td>null</td><td>189</td><td>189</td><td>null</td><td>[7199]</td><td>null</td><td>null</td><td>20</td><td>1</td></tr><tr><td>27552</td><td>&quot;comment&quot;</td><td>&quot;pg&quot;</td><td>2007-06-12 19:02:46</td><td>null</td><td>&quot;Don&#x27;t worry, I&#x27;m not going to …</td><td>null</td><td>null</td><td>27550</td><td>27550</td><td>null</td><td>[28315, 27559, … 28523]</td><td>null</td><td>null</td><td>7</td><td>1</td></tr><tr><td>27560</td><td>&quot;comment&quot;</td><td>&quot;danielha&quot;</td><td>2007-06-12 19:15:56</td><td>null</td><td>&quot;Prediction: this submission re…</td><td>null</td><td>null</td><td>27550</td><td>27550</td><td>null</td><td>[28098]</td><td>null</td><td>null</td><td>7</td><td>2</td></tr><tr><td>&hellip;</td><td>&hellip;</td><td>&hellip;</td><td>&hellip;</td><td>&hellip;</td><td>&hellip;</td><td>&hellip;</td><td>&hellip;</td><td>&hellip;</td><td>&hellip;</td><td>&hellip;</td><td>&hellip;</td><td>&hellip;</td><td>&hellip;</td><td>&hellip;</td><td>&hellip;</td></tr><tr><td>41812977</td><td>&quot;comment&quot;</td><td>&quot;shadowgovt&quot;</td><td>2024-10-11 19:50:42</td><td>null</td><td>&quot;Their incentive is really to m…</td><td>null</td><td>null</td><td>41810118</td><td>41809698</td><td>null</td><td>null</td><td>null</td><td>null</td><td>7</td><td>-1</td></tr><tr><td>41813078</td><td>&quot;comment&quot;</td><td>&quot;itronitron&quot;</td><td>2024-10-11 19:59:06</td><td>null</td><td>&quot;This is the type of comment th…</td><td>null</td><td>null</td><td>41812493</td><td>41811263</td><td>null</td><td>[41813116, 41813266]</td><td>null</td><td>null</td><td>9</td><td>3</td></tr><tr><td>41813079</td><td>&quot;comment&quot;</td><td>&quot;ragnese&quot;</td><td>2024-10-11 19:59:16</td><td>null</td><td>&quot;The vast, &lt;i&gt;vast&lt;/i&gt;, majorit…</td><td>null</td><td>null</td><td>41809962</td><td>41809698</td><td>null</td><td>null</td><td>null</td><td>null</td><td>12</td><td>-1</td></tr><tr><td>41813239</td><td>&quot;comment&quot;</td><td>&quot;glenstein&quot;</td><td>2024-10-11 20:13:25</td><td>null</td><td>&quot;I think this is such a helpful…</td><td>null</td><td>null</td><td>41812493</td><td>41811263</td><td>null</td><td>null</td><td>null</td><td>null</td><td>9</td><td>2</td></tr><tr><td>41813277</td><td>&quot;comment&quot;</td><td>&quot;ohples&quot;</td><td>2024-10-11 20:16:05</td><td>null</td><td>&quot;But will it support Login.gov?&quot;</td><td>null</td><td>null</td><td>41737653</td><td>41737653</td><td>null</td><td>null</td><td>null</td><td>null</td><td>11</td><td>-1</td></tr></tbody></table></div>"
      ],
      "text/plain": [
       "shape: (1_109_206, 16)\n",
       "┌──────────┬─────────┬────────────┬──────────────┬───┬─────────┬──────┬──────────────┬─────────────┐\n",
       "│ id       ┆ type    ┆ by         ┆ time         ┆ … ┆ deleted ┆ dead ┆ siblings_cou ┆ sibling_ran │\n",
       "│ ---      ┆ ---     ┆ ---        ┆ ---          ┆   ┆ ---     ┆ ---  ┆ nt           ┆ k           │\n",
       "│ i64      ┆ str     ┆ str        ┆ datetime[μs] ┆   ┆ bool    ┆ bool ┆ ---          ┆ ---         │\n",
       "│          ┆         ┆            ┆              ┆   ┆         ┆      ┆ u32          ┆ i64         │\n",
       "╞══════════╪═════════╪════════════╪══════════════╪═══╪═════════╪══════╪══════════════╪═════════════╡\n",
       "│ 195      ┆ comment ┆ jdroid     ┆ 2007-02-20   ┆ … ┆ null    ┆ null ┆ 20           ┆ 3           │\n",
       "│          ┆         ┆            ┆ 22:36:52     ┆   ┆         ┆      ┆              ┆             │\n",
       "│ 287      ┆ comment ┆ ced        ┆ 2007-02-21   ┆ … ┆ null    ┆ null ┆ 20           ┆ 2           │\n",
       "│          ┆         ┆            ┆ 09:08:16     ┆   ┆         ┆      ┆              ┆             │\n",
       "│ 353      ┆ comment ┆ jhenzie    ┆ 2007-02-21   ┆ … ┆ null    ┆ null ┆ 20           ┆ 1           │\n",
       "│          ┆         ┆            ┆ 18:47:34     ┆   ┆         ┆      ┆              ┆             │\n",
       "│ 27552    ┆ comment ┆ pg         ┆ 2007-06-12   ┆ … ┆ null    ┆ null ┆ 7            ┆ 1           │\n",
       "│          ┆         ┆            ┆ 19:02:46     ┆   ┆         ┆      ┆              ┆             │\n",
       "│ 27560    ┆ comment ┆ danielha   ┆ 2007-06-12   ┆ … ┆ null    ┆ null ┆ 7            ┆ 2           │\n",
       "│          ┆         ┆            ┆ 19:15:56     ┆   ┆         ┆      ┆              ┆             │\n",
       "│ …        ┆ …       ┆ …          ┆ …            ┆ … ┆ …       ┆ …    ┆ …            ┆ …           │\n",
       "│ 41812977 ┆ comment ┆ shadowgovt ┆ 2024-10-11   ┆ … ┆ null    ┆ null ┆ 7            ┆ -1          │\n",
       "│          ┆         ┆            ┆ 19:50:42     ┆   ┆         ┆      ┆              ┆             │\n",
       "│ 41813078 ┆ comment ┆ itronitron ┆ 2024-10-11   ┆ … ┆ null    ┆ null ┆ 9            ┆ 3           │\n",
       "│          ┆         ┆            ┆ 19:59:06     ┆   ┆         ┆      ┆              ┆             │\n",
       "│ 41813079 ┆ comment ┆ ragnese    ┆ 2024-10-11   ┆ … ┆ null    ┆ null ┆ 12           ┆ -1          │\n",
       "│          ┆         ┆            ┆ 19:59:16     ┆   ┆         ┆      ┆              ┆             │\n",
       "│ 41813239 ┆ comment ┆ glenstein  ┆ 2024-10-11   ┆ … ┆ null    ┆ null ┆ 9            ┆ 2           │\n",
       "│          ┆         ┆            ┆ 20:13:25     ┆   ┆         ┆      ┆              ┆             │\n",
       "│ 41813277 ┆ comment ┆ ohples     ┆ 2024-10-11   ┆ … ┆ null    ┆ null ┆ 11           ┆ -1          │\n",
       "│          ┆         ┆            ┆ 20:16:05     ┆   ┆         ┆      ┆              ┆             │\n",
       "└──────────┴─────────┴────────────┴──────────────┴───┴─────────┴──────┴──────────────┴─────────────┘"
      ]
     },
     "execution_count": 7,
     "metadata": {},
     "output_type": "execute_result"
    }
   ],
   "source": [
    "# limit all comments to ones that have at least 5 siblings and fewer than 25\n",
    "# siblings. If there are more than 25 I don't trust the peoples' votes since\n",
    "# they probably haven't had time to read all of them.\n",
    "comments_df = comments_df.filter(\n",
    "    (pl.col(\"siblings_count\") >= 5) & (pl.col(\"siblings_count\") < 25)\n",
    ")\n",
    "\n",
    "comments_df"
   ]
  },
  {
   "cell_type": "code",
   "execution_count": 8,
   "metadata": {},
   "outputs": [
    {
     "data": {
      "text/html": [
       "<div><style>\n",
       ".dataframe > thead > tr,\n",
       ".dataframe > tbody > tr {\n",
       "  text-align: right;\n",
       "  white-space: pre-wrap;\n",
       "}\n",
       "</style>\n",
       "<small>shape: (1_104_098, 16)</small><table border=\"1\" class=\"dataframe\"><thead><tr><th>id</th><th>type</th><th>by</th><th>time</th><th>title</th><th>text</th><th>url</th><th>score</th><th>parent</th><th>top_level_parent</th><th>descendants</th><th>kids</th><th>deleted</th><th>dead</th><th>siblings_count</th><th>sibling_rank</th></tr><tr><td>i64</td><td>str</td><td>str</td><td>datetime[μs]</td><td>str</td><td>str</td><td>str</td><td>i64</td><td>i64</td><td>i64</td><td>i64</td><td>list[i64]</td><td>bool</td><td>bool</td><td>u32</td><td>i64</td></tr></thead><tbody><tr><td>195</td><td>&quot;comment&quot;</td><td>&quot;jdroid&quot;</td><td>2007-02-20 22:36:52</td><td>null</td><td>&quot;You&#x27;ve filled a hole reddit wa…</td><td>null</td><td>null</td><td>189</td><td>189</td><td>null</td><td>[259]</td><td>null</td><td>null</td><td>20</td><td>3</td></tr><tr><td>287</td><td>&quot;comment&quot;</td><td>&quot;ced&quot;</td><td>2007-02-21 09:08:16</td><td>null</td><td>&quot;Since community-building is pa…</td><td>null</td><td>null</td><td>189</td><td>189</td><td>null</td><td>[365]</td><td>null</td><td>null</td><td>20</td><td>2</td></tr><tr><td>353</td><td>&quot;comment&quot;</td><td>&quot;jhenzie&quot;</td><td>2007-02-21 18:47:34</td><td>null</td><td>&quot;Paul, \r\n",
       "\r\n",
       "can we play with arc…</td><td>null</td><td>null</td><td>189</td><td>189</td><td>null</td><td>[7199]</td><td>null</td><td>null</td><td>20</td><td>1</td></tr><tr><td>27552</td><td>&quot;comment&quot;</td><td>&quot;pg&quot;</td><td>2007-06-12 19:02:46</td><td>null</td><td>&quot;Don&#x27;t worry, I&#x27;m not going to …</td><td>null</td><td>null</td><td>27550</td><td>27550</td><td>null</td><td>[28315, 27559, … 28523]</td><td>null</td><td>null</td><td>7</td><td>1</td></tr><tr><td>27560</td><td>&quot;comment&quot;</td><td>&quot;danielha&quot;</td><td>2007-06-12 19:15:56</td><td>null</td><td>&quot;Prediction: this submission re…</td><td>null</td><td>null</td><td>27550</td><td>27550</td><td>null</td><td>[28098]</td><td>null</td><td>null</td><td>7</td><td>2</td></tr><tr><td>&hellip;</td><td>&hellip;</td><td>&hellip;</td><td>&hellip;</td><td>&hellip;</td><td>&hellip;</td><td>&hellip;</td><td>&hellip;</td><td>&hellip;</td><td>&hellip;</td><td>&hellip;</td><td>&hellip;</td><td>&hellip;</td><td>&hellip;</td><td>&hellip;</td><td>&hellip;</td></tr><tr><td>41812565</td><td>&quot;comment&quot;</td><td>&quot;vessenes&quot;</td><td>2024-10-11 19:14:29</td><td>null</td><td>&quot;Tirzepatide and Semaglutide ar…</td><td>null</td><td>null</td><td>41812493</td><td>41811263</td><td>null</td><td>[41812815]</td><td>null</td><td>null</td><td>9</td><td>1</td></tr><tr><td>41812643</td><td>&quot;comment&quot;</td><td>&quot;squidlogic&quot;</td><td>2024-10-11 19:23:13</td><td>null</td><td>&quot;In my experience fitness is le…</td><td>null</td><td>null</td><td>41812339</td><td>41811263</td><td>null</td><td>[41812886, 41812696, … 41813092]</td><td>null</td><td>null</td><td>6</td><td>1</td></tr><tr><td>41812717</td><td>&quot;comment&quot;</td><td>&quot;jrflowers&quot;</td><td>2024-10-11 19:29:53</td><td>null</td><td>&quot;&amp;gt; People in the 50s weren&amp;#…</td><td>null</td><td>null</td><td>41812339</td><td>41811263</td><td>null</td><td>[41813315, 41812727]</td><td>null</td><td>null</td><td>6</td><td>3</td></tr><tr><td>41813078</td><td>&quot;comment&quot;</td><td>&quot;itronitron&quot;</td><td>2024-10-11 19:59:06</td><td>null</td><td>&quot;This is the type of comment th…</td><td>null</td><td>null</td><td>41812493</td><td>41811263</td><td>null</td><td>[41813116, 41813266]</td><td>null</td><td>null</td><td>9</td><td>3</td></tr><tr><td>41813239</td><td>&quot;comment&quot;</td><td>&quot;glenstein&quot;</td><td>2024-10-11 20:13:25</td><td>null</td><td>&quot;I think this is such a helpful…</td><td>null</td><td>null</td><td>41812493</td><td>41811263</td><td>null</td><td>null</td><td>null</td><td>null</td><td>9</td><td>2</td></tr></tbody></table></div>"
      ],
      "text/plain": [
       "shape: (1_104_098, 16)\n",
       "┌──────────┬─────────┬────────────┬──────────────┬───┬─────────┬──────┬──────────────┬─────────────┐\n",
       "│ id       ┆ type    ┆ by         ┆ time         ┆ … ┆ deleted ┆ dead ┆ siblings_cou ┆ sibling_ran │\n",
       "│ ---      ┆ ---     ┆ ---        ┆ ---          ┆   ┆ ---     ┆ ---  ┆ nt           ┆ k           │\n",
       "│ i64      ┆ str     ┆ str        ┆ datetime[μs] ┆   ┆ bool    ┆ bool ┆ ---          ┆ ---         │\n",
       "│          ┆         ┆            ┆              ┆   ┆         ┆      ┆ u32          ┆ i64         │\n",
       "╞══════════╪═════════╪════════════╪══════════════╪═══╪═════════╪══════╪══════════════╪═════════════╡\n",
       "│ 195      ┆ comment ┆ jdroid     ┆ 2007-02-20   ┆ … ┆ null    ┆ null ┆ 20           ┆ 3           │\n",
       "│          ┆         ┆            ┆ 22:36:52     ┆   ┆         ┆      ┆              ┆             │\n",
       "│ 287      ┆ comment ┆ ced        ┆ 2007-02-21   ┆ … ┆ null    ┆ null ┆ 20           ┆ 2           │\n",
       "│          ┆         ┆            ┆ 09:08:16     ┆   ┆         ┆      ┆              ┆             │\n",
       "│ 353      ┆ comment ┆ jhenzie    ┆ 2007-02-21   ┆ … ┆ null    ┆ null ┆ 20           ┆ 1           │\n",
       "│          ┆         ┆            ┆ 18:47:34     ┆   ┆         ┆      ┆              ┆             │\n",
       "│ 27552    ┆ comment ┆ pg         ┆ 2007-06-12   ┆ … ┆ null    ┆ null ┆ 7            ┆ 1           │\n",
       "│          ┆         ┆            ┆ 19:02:46     ┆   ┆         ┆      ┆              ┆             │\n",
       "│ 27560    ┆ comment ┆ danielha   ┆ 2007-06-12   ┆ … ┆ null    ┆ null ┆ 7            ┆ 2           │\n",
       "│          ┆         ┆            ┆ 19:15:56     ┆   ┆         ┆      ┆              ┆             │\n",
       "│ …        ┆ …       ┆ …          ┆ …            ┆ … ┆ …       ┆ …    ┆ …            ┆ …           │\n",
       "│ 41812565 ┆ comment ┆ vessenes   ┆ 2024-10-11   ┆ … ┆ null    ┆ null ┆ 9            ┆ 1           │\n",
       "│          ┆         ┆            ┆ 19:14:29     ┆   ┆         ┆      ┆              ┆             │\n",
       "│ 41812643 ┆ comment ┆ squidlogic ┆ 2024-10-11   ┆ … ┆ null    ┆ null ┆ 6            ┆ 1           │\n",
       "│          ┆         ┆            ┆ 19:23:13     ┆   ┆         ┆      ┆              ┆             │\n",
       "│ 41812717 ┆ comment ┆ jrflowers  ┆ 2024-10-11   ┆ … ┆ null    ┆ null ┆ 6            ┆ 3           │\n",
       "│          ┆         ┆            ┆ 19:29:53     ┆   ┆         ┆      ┆              ┆             │\n",
       "│ 41813078 ┆ comment ┆ itronitron ┆ 2024-10-11   ┆ … ┆ null    ┆ null ┆ 9            ┆ 3           │\n",
       "│          ┆         ┆            ┆ 19:59:06     ┆   ┆         ┆      ┆              ┆             │\n",
       "│ 41813239 ┆ comment ┆ glenstein  ┆ 2024-10-11   ┆ … ┆ null    ┆ null ┆ 9            ┆ 2           │\n",
       "│          ┆         ┆            ┆ 20:13:25     ┆   ┆         ┆      ┆              ┆             │\n",
       "└──────────┴─────────┴────────────┴──────────────┴───┴─────────┴──────┴──────────────┴─────────────┘"
      ]
     },
     "execution_count": 8,
     "metadata": {},
     "output_type": "execute_result"
    }
   ],
   "source": [
    "# filter comments that have non-null text and text length > 10\n",
    "comments_df = comments_df.filter(\n",
    "    (pl.col(\"text\").is_not_null())\n",
    "    & (pl.col(\"text\").str.len_chars() > 10)\n",
    "    & (pl.col(\"sibling_rank\") > 0)\n",
    ")\n",
    "\n",
    "comments_df"
   ]
  },
  {
   "cell_type": "code",
   "execution_count": 9,
   "metadata": {},
   "outputs": [
    {
     "name": "stderr",
     "output_type": "stream",
     "text": [
      "Processing groups: 100%|██████████| 1104098/1104098 [00:02<00:00, 476074.83it/s]\n"
     ]
    },
    {
     "data": {
      "text/html": [
       "<div><style>\n",
       ".dataframe > thead > tr,\n",
       ".dataframe > tbody > tr {\n",
       "  text-align: right;\n",
       "  white-space: pre-wrap;\n",
       "}\n",
       "</style>\n",
       "<small>shape: (371_415, 5)</small><table border=\"1\" class=\"dataframe\"><thead><tr><th>chosen</th><th>rejected</th><th>chosen_rank</th><th>rejected_rank</th><th>top_level_parent</th></tr><tr><td>i64</td><td>i64</td><td>i64</td><td>i64</td><td>i64</td></tr></thead><tbody><tr><td>353</td><td>287</td><td>1</td><td>2</td><td>189</td></tr><tr><td>353</td><td>195</td><td>1</td><td>3</td><td>189</td></tr><tr><td>27552</td><td>27560</td><td>1</td><td>2</td><td>27550</td></tr><tr><td>77373</td><td>77337</td><td>1</td><td>2</td><td>77246</td></tr><tr><td>77666</td><td>77438</td><td>1</td><td>2</td><td>77246</td></tr><tr><td>&hellip;</td><td>&hellip;</td><td>&hellip;</td><td>&hellip;</td><td>&hellip;</td></tr><tr><td>41812258</td><td>41812168</td><td>1</td><td>3</td><td>41811263</td></tr><tr><td>41812339</td><td>41812380</td><td>1</td><td>2</td><td>41811263</td></tr><tr><td>41812339</td><td>41812405</td><td>1</td><td>3</td><td>41811263</td></tr><tr><td>41812643</td><td>41812457</td><td>1</td><td>2</td><td>41811263</td></tr><tr><td>41812643</td><td>41812717</td><td>1</td><td>3</td><td>41811263</td></tr></tbody></table></div>"
      ],
      "text/plain": [
       "shape: (371_415, 5)\n",
       "┌──────────┬──────────┬─────────────┬───────────────┬──────────────────┐\n",
       "│ chosen   ┆ rejected ┆ chosen_rank ┆ rejected_rank ┆ top_level_parent │\n",
       "│ ---      ┆ ---      ┆ ---         ┆ ---           ┆ ---              │\n",
       "│ i64      ┆ i64      ┆ i64         ┆ i64           ┆ i64              │\n",
       "╞══════════╪══════════╪═════════════╪═══════════════╪══════════════════╡\n",
       "│ 353      ┆ 287      ┆ 1           ┆ 2             ┆ 189              │\n",
       "│ 353      ┆ 195      ┆ 1           ┆ 3             ┆ 189              │\n",
       "│ 27552    ┆ 27560    ┆ 1           ┆ 2             ┆ 27550            │\n",
       "│ 77373    ┆ 77337    ┆ 1           ┆ 2             ┆ 77246            │\n",
       "│ 77666    ┆ 77438    ┆ 1           ┆ 2             ┆ 77246            │\n",
       "│ …        ┆ …        ┆ …           ┆ …             ┆ …                │\n",
       "│ 41812258 ┆ 41812168 ┆ 1           ┆ 3             ┆ 41811263         │\n",
       "│ 41812339 ┆ 41812380 ┆ 1           ┆ 2             ┆ 41811263         │\n",
       "│ 41812339 ┆ 41812405 ┆ 1           ┆ 3             ┆ 41811263         │\n",
       "│ 41812643 ┆ 41812457 ┆ 1           ┆ 2             ┆ 41811263         │\n",
       "│ 41812643 ┆ 41812717 ┆ 1           ┆ 3             ┆ 41811263         │\n",
       "└──────────┴──────────┴─────────────┴───────────────┴──────────────────┘"
      ]
     },
     "execution_count": 9,
     "metadata": {},
     "output_type": "execute_result"
    }
   ],
   "source": [
    "from tqdm import tqdm\n",
    "from typing import List, TypedDict, Dict\n",
    "from collections import defaultdict\n",
    "import datetime\n",
    "\n",
    "\n",
    "progress_bar = tqdm(total=len(comments_df), desc=\"Processing groups\")\n",
    "\n",
    "\n",
    "class GroupableComment(TypedDict):\n",
    "    id: int\n",
    "    parent: int\n",
    "    time: datetime.datetime\n",
    "    sibling_rank: int\n",
    "    top_level_parent: int\n",
    "\n",
    "\n",
    "class RewardPair(TypedDict):\n",
    "    chosen: int  # the id of the chosen comment\n",
    "    rejected: int  # the id of the rejected comment\n",
    "    chosen_rank: int\n",
    "    rejected_rank: int\n",
    "    top_level_parent: int\n",
    "\n",
    "\n",
    "def process_group(group: List[GroupableComment]) -> list[RewardPair]:\n",
    "    \"\"\"\n",
    "    The goal of this function is to create a reward dataset for Hacker News\n",
    "    comments. It takes in a dataframe containing all the comments within a given\n",
    "    hour, and then breaks them down by the parent id.\n",
    "\n",
    "    Within each parent id group, it orders the comments by sibling rank (that\n",
    "    is, their relative position in the thread). Lower sibling rank means the\n",
    "    comment is higher in the thread, which we can assume means it had more\n",
    "    upvotes and is better.\n",
    "\n",
    "    We take each comment and its directly following sibling and mark those as\n",
    "    \"chosen\" and \"rejected\", creating a pairwise dataset we can use for reward\n",
    "    modeling.\n",
    "    \"\"\"\n",
    "    if len(group) == 0:\n",
    "        return []\n",
    "\n",
    "    sorted_group = sorted(group, key=lambda x: x[\"sibling_rank\"])\n",
    "\n",
    "    top_comment = sorted_group[0]\n",
    "    other_comments = sorted_group[1:]\n",
    "\n",
    "    group_reward_pairs = []\n",
    "\n",
    "    for other_comment in other_comments:\n",
    "        # Make sure the comments were posted within 30 minutes of each other. If\n",
    "        # they were too far apart, they likely aren't comparable since the older\n",
    "        # one is likely to win.\n",
    "        if (other_comment[\"time\"] - top_comment[\"time\"]).total_seconds() > 1800:\n",
    "            break\n",
    "\n",
    "        group_reward_pairs.append(\n",
    "            {\n",
    "                \"chosen\": top_comment[\"id\"],\n",
    "                \"rejected\": other_comment[\"id\"],\n",
    "                \"chosen_rank\": top_comment[\"sibling_rank\"],\n",
    "                \"rejected_rank\": other_comment[\"sibling_rank\"],\n",
    "                \"top_level_parent\": top_comment[\"top_level_parent\"],\n",
    "            }\n",
    "        )\n",
    "\n",
    "    return group_reward_pairs\n",
    "\n",
    "\n",
    "reward_pairs: list[RewardPair] = []\n",
    "parent_group: list[GroupableComment] = []\n",
    "current_parent = None\n",
    "\n",
    "sorted_by_parent = comments_df.select(\n",
    "    pl.col(\"id\"),\n",
    "    pl.col(\"sibling_rank\"),\n",
    "    pl.col(\"parent\"),\n",
    "    pl.col(\"time\"),\n",
    "    pl.col(\"top_level_parent\"),\n",
    ").sort(\"parent\")\n",
    "\n",
    "for comment in sorted_by_parent.iter_rows(named=True):\n",
    "    comment = GroupableComment(**comment)\n",
    "\n",
    "    # We already sorted by parent, so if the current comment's parent isn't the\n",
    "    # same as the previous one, we know we've moved on to a new parent and can\n",
    "    # process the previous set of comments.\n",
    "    if comment[\"parent\"] != current_parent:\n",
    "        reward_pairs.extend(process_group(parent_group))\n",
    "\n",
    "        parent_group = []\n",
    "        current_parent = comment[\"parent\"]\n",
    "\n",
    "    parent_group.append(comment)\n",
    "    progress_bar.update(1)\n",
    "\n",
    "# Close the progress bar\n",
    "progress_bar.close()\n",
    "\n",
    "pairs_df = pl.DataFrame(reward_pairs)\n",
    "\n",
    "pairs_df"
   ]
  },
  {
   "cell_type": "code",
   "execution_count": 10,
   "metadata": {},
   "outputs": [
    {
     "name": "stdout",
     "output_type": "stream",
     "text": [
      "Split counts:\n",
      "shape: (3, 2)\n",
      "┌───────┬────────┐\n",
      "│ split ┆ count  │\n",
      "│ ---   ┆ ---    │\n",
      "│ str   ┆ u32    │\n",
      "╞═══════╪════════╡\n",
      "│ train ┆ 297780 │\n",
      "│ test  ┆ 37610  │\n",
      "│ val   ┆ 36025  │\n",
      "└───────┴────────┘\n",
      "\n",
      "Split percentages:\n",
      "shape: (3,)\n",
      "Series: 'count' [f64]\n",
      "[\n",
      "\t80.17\n",
      "\t10.13\n",
      "\t9.7\n",
      "]\n"
     ]
    }
   ],
   "source": [
    "import numpy as np\n",
    "\n",
    "# Get unique top_level_parent values\n",
    "unique_parents = pairs_df[\"top_level_parent\"].unique()\n",
    "\n",
    "# Randomly assign splits\n",
    "np.random.seed(42)  # for reproducibility\n",
    "split_assignments = np.random.choice(\n",
    "    [\"train\", \"test\", \"val\"], size=len(unique_parents), p=[0.8, 0.1, 0.1]\n",
    ")\n",
    "\n",
    "# Create a dictionary mapping top_level_parent to split\n",
    "parent_to_split = dict(zip(unique_parents, split_assignments))\n",
    "\n",
    "# Add the new 'split' column\n",
    "pairs_df = pairs_df.with_columns(\n",
    "    pl.col(\"top_level_parent\").replace_strict(parent_to_split).alias(\"split\")\n",
    ")\n",
    "\n",
    "# Verify the split proportions\n",
    "split_counts = pairs_df[\"split\"].value_counts().sort(\"count\", descending=True)\n",
    "print(\"Split counts:\")\n",
    "print(split_counts)\n",
    "\n",
    "# Calculate percentages\n",
    "total = split_counts[\"count\"].sum()\n",
    "percentages = (split_counts[\"count\"] / total * 100).round(2)\n",
    "print(\"\\nSplit percentages:\")\n",
    "print(percentages)"
   ]
  },
  {
   "cell_type": "code",
   "execution_count": 11,
   "metadata": {},
   "outputs": [
    {
     "name": "stdout",
     "output_type": "stream",
     "text": [
      "<instructions>Your goal is to analyze the following comment and estimate how highly it will be upvoted by the Hacker News community.</instructions><story><title>I Dropped Out of Grad School Today</title><url>http://octopart.com/html/blog.html</url></story><parent_chain><item><author>jmzachary</author><text>Have you discovered an upper bound? The commonly held belief is that people over X (where 30 &amp;#60; X 35?) can&apos;t start startups because they have kids and a mortgage, or they just aren&apos;t in-tune with what&apos;s hip. Curiously, that excludes people who have &amp;#34;been there and seen that&amp;#34;, the best current example being AJAX. Also, those who have taken a few more trips around the Sun also may recognize niches that 19-25 years would never see. My impression is that Y-Combinator is an attractor for the younger entrepreneur.&lt;p&gt;Full disclosure: I&apos;m in the range above, planning to start a company, and not trolling for Y-Combinator dollars.</text></item><item><author>pg</author><text>We never proposed there was no lower bound; the goal was more to discover where it was.  And we now have, I think.  Though in fact the main thing we discovered was how fuzzy it is.  &lt;p&gt;There really are people who can start a startup when they&apos;re 19. Sam Altman, the founder of Loopt, was 19.  But for most people the lower bound is about 22.  One reason is that most people need to experience what a job is like to be sufficiently motivated to avoid it.  Another is that few people are forceful enough at 19.</text></item><item><author>kf</author><text>Paul Graham has backpedaled from one of the initial goals of Y Combinator, funding companies with no lower-bound for the age of founders.\n",
      "\n",
      "With the publication of this essay, http://www.paulgraham.com/mit.html, he has backpedaled from that stance because of his personal moral culpability for encouraging people to become drop-outs. So if you are seeking Y Combinator funding and are a current undergraduate, tell Paul Graham that you are dropping out to start the company regardless of whether or not he funds you.</text></item><item><author>staunch</author><text>This has got to make PG nervous. How many people&apos;s life is he affecting? :-)\n",
      "\n",
      "He&apos;s definitely had an impact on my priorities in a very big and positive way. I hope everyone who makes changes based on his inspiration and motivation does it with a clear head and can take responsiblity for the decision and outcome.\n",
      "\n",
      "</text></item></parent_chain><comment><author>pg</author><text>Harder to say about the upper bound. The factors you mention may play a role, especially kids. I also think need for money is a factor. Most people who could make money have by 40, and once you have enough, you&apos;re less willing to endure the pain of starting a startup.&lt;p&gt;The average age of YC founders is about 25.</text></comment>\n"
     ]
    }
   ],
   "source": [
    "import dicttoxml\n",
    "from utils import build_prompt\n",
    "\n",
    "sample_pairs = pairs_df.sample(n=100000, seed=42)\n",
    "\n",
    "print(build_prompt(788))"
   ]
  },
  {
   "cell_type": "code",
   "execution_count": 12,
   "metadata": {},
   "outputs": [
    {
     "name": "stderr",
     "output_type": "stream",
     "text": [
      "Building prompts: 100%|█████████▉| 199952/200000 [06:10<00:00, 2200.05it/s]"
     ]
    },
    {
     "data": {
      "text/html": [
       "<div><style>\n",
       ".dataframe > thead > tr,\n",
       ".dataframe > tbody > tr {\n",
       "  text-align: right;\n",
       "  white-space: pre-wrap;\n",
       "}\n",
       "</style>\n",
       "<small>shape: (100_000, 8)</small><table border=\"1\" class=\"dataframe\"><thead><tr><th>chosen</th><th>rejected</th><th>chosen_rank</th><th>rejected_rank</th><th>top_level_parent</th><th>split</th><th>chosen_prompt</th><th>rejected_prompt</th></tr><tr><td>i64</td><td>i64</td><td>i64</td><td>i64</td><td>i64</td><td>str</td><td>str</td><td>str</td></tr></thead><tbody><tr><td>8880111</td><td>8879128</td><td>1</td><td>2</td><td>8876929</td><td>&quot;train&quot;</td><td>&quot;&lt;instructions&gt;Your goal is to …</td><td>&quot;&lt;instructions&gt;Your goal is to …</td></tr><tr><td>14535547</td><td>14533965</td><td>1</td><td>2</td><td>14532751</td><td>&quot;train&quot;</td><td>&quot;&lt;instructions&gt;Your goal is to …</td><td>&quot;&lt;instructions&gt;Your goal is to …</td></tr><tr><td>14224460</td><td>14222513</td><td>1</td><td>2</td><td>14221501</td><td>&quot;train&quot;</td><td>&quot;&lt;instructions&gt;Your goal is to …</td><td>&quot;&lt;instructions&gt;Your goal is to …</td></tr><tr><td>30012706</td><td>30012750</td><td>1</td><td>3</td><td>30011655</td><td>&quot;train&quot;</td><td>&quot;&lt;instructions&gt;Your goal is to …</td><td>&quot;&lt;instructions&gt;Your goal is to …</td></tr><tr><td>22838384</td><td>22837692</td><td>1</td><td>2</td><td>22832914</td><td>&quot;train&quot;</td><td>&quot;&lt;instructions&gt;Your goal is to …</td><td>&quot;&lt;instructions&gt;Your goal is to …</td></tr><tr><td>&hellip;</td><td>&hellip;</td><td>&hellip;</td><td>&hellip;</td><td>&hellip;</td><td>&hellip;</td><td>&hellip;</td><td>&hellip;</td></tr><tr><td>7115125</td><td>7114742</td><td>1</td><td>2</td><td>7114182</td><td>&quot;train&quot;</td><td>&quot;&lt;instructions&gt;Your goal is to …</td><td>&quot;&lt;instructions&gt;Your goal is to …</td></tr><tr><td>27181597</td><td>27180717</td><td>1</td><td>2</td><td>27180063</td><td>&quot;test&quot;</td><td>&quot;&lt;instructions&gt;Your goal is to …</td><td>&quot;&lt;instructions&gt;Your goal is to …</td></tr><tr><td>15768010</td><td>15767499</td><td>1</td><td>2</td><td>15765575</td><td>&quot;val&quot;</td><td>&quot;&lt;instructions&gt;Your goal is to …</td><td>&quot;&lt;instructions&gt;Your goal is to …</td></tr><tr><td>10657940</td><td>10657776</td><td>1</td><td>2</td><td>10657769</td><td>&quot;val&quot;</td><td>&quot;&lt;instructions&gt;Your goal is to …</td><td>&quot;&lt;instructions&gt;Your goal is to …</td></tr><tr><td>1713954</td><td>1713880</td><td>1</td><td>3</td><td>1713685</td><td>&quot;train&quot;</td><td>&quot;&lt;instructions&gt;Your goal is to …</td><td>&quot;&lt;instructions&gt;Your goal is to …</td></tr></tbody></table></div>"
      ],
      "text/plain": [
       "shape: (100_000, 8)\n",
       "┌──────────┬──────────┬─────────────┬─────────────┬─────────────┬───────┬─────────────┬────────────┐\n",
       "│ chosen   ┆ rejected ┆ chosen_rank ┆ rejected_ra ┆ top_level_p ┆ split ┆ chosen_prom ┆ rejected_p │\n",
       "│ ---      ┆ ---      ┆ ---         ┆ nk          ┆ arent       ┆ ---   ┆ pt          ┆ rompt      │\n",
       "│ i64      ┆ i64      ┆ i64         ┆ ---         ┆ ---         ┆ str   ┆ ---         ┆ ---        │\n",
       "│          ┆          ┆             ┆ i64         ┆ i64         ┆       ┆ str         ┆ str        │\n",
       "╞══════════╪══════════╪═════════════╪═════════════╪═════════════╪═══════╪═════════════╪════════════╡\n",
       "│ 8880111  ┆ 8879128  ┆ 1           ┆ 2           ┆ 8876929     ┆ train ┆ <instructio ┆ <instructi │\n",
       "│          ┆          ┆             ┆             ┆             ┆       ┆ ns>Your     ┆ ons>Your   │\n",
       "│          ┆          ┆             ┆             ┆             ┆       ┆ goal is to  ┆ goal is to │\n",
       "│          ┆          ┆             ┆             ┆             ┆       ┆ …           ┆ …          │\n",
       "│ 14535547 ┆ 14533965 ┆ 1           ┆ 2           ┆ 14532751    ┆ train ┆ <instructio ┆ <instructi │\n",
       "│          ┆          ┆             ┆             ┆             ┆       ┆ ns>Your     ┆ ons>Your   │\n",
       "│          ┆          ┆             ┆             ┆             ┆       ┆ goal is to  ┆ goal is to │\n",
       "│          ┆          ┆             ┆             ┆             ┆       ┆ …           ┆ …          │\n",
       "│ 14224460 ┆ 14222513 ┆ 1           ┆ 2           ┆ 14221501    ┆ train ┆ <instructio ┆ <instructi │\n",
       "│          ┆          ┆             ┆             ┆             ┆       ┆ ns>Your     ┆ ons>Your   │\n",
       "│          ┆          ┆             ┆             ┆             ┆       ┆ goal is to  ┆ goal is to │\n",
       "│          ┆          ┆             ┆             ┆             ┆       ┆ …           ┆ …          │\n",
       "│ 30012706 ┆ 30012750 ┆ 1           ┆ 3           ┆ 30011655    ┆ train ┆ <instructio ┆ <instructi │\n",
       "│          ┆          ┆             ┆             ┆             ┆       ┆ ns>Your     ┆ ons>Your   │\n",
       "│          ┆          ┆             ┆             ┆             ┆       ┆ goal is to  ┆ goal is to │\n",
       "│          ┆          ┆             ┆             ┆             ┆       ┆ …           ┆ …          │\n",
       "│ 22838384 ┆ 22837692 ┆ 1           ┆ 2           ┆ 22832914    ┆ train ┆ <instructio ┆ <instructi │\n",
       "│          ┆          ┆             ┆             ┆             ┆       ┆ ns>Your     ┆ ons>Your   │\n",
       "│          ┆          ┆             ┆             ┆             ┆       ┆ goal is to  ┆ goal is to │\n",
       "│          ┆          ┆             ┆             ┆             ┆       ┆ …           ┆ …          │\n",
       "│ …        ┆ …        ┆ …           ┆ …           ┆ …           ┆ …     ┆ …           ┆ …          │\n",
       "│ 7115125  ┆ 7114742  ┆ 1           ┆ 2           ┆ 7114182     ┆ train ┆ <instructio ┆ <instructi │\n",
       "│          ┆          ┆             ┆             ┆             ┆       ┆ ns>Your     ┆ ons>Your   │\n",
       "│          ┆          ┆             ┆             ┆             ┆       ┆ goal is to  ┆ goal is to │\n",
       "│          ┆          ┆             ┆             ┆             ┆       ┆ …           ┆ …          │\n",
       "│ 27181597 ┆ 27180717 ┆ 1           ┆ 2           ┆ 27180063    ┆ test  ┆ <instructio ┆ <instructi │\n",
       "│          ┆          ┆             ┆             ┆             ┆       ┆ ns>Your     ┆ ons>Your   │\n",
       "│          ┆          ┆             ┆             ┆             ┆       ┆ goal is to  ┆ goal is to │\n",
       "│          ┆          ┆             ┆             ┆             ┆       ┆ …           ┆ …          │\n",
       "│ 15768010 ┆ 15767499 ┆ 1           ┆ 2           ┆ 15765575    ┆ val   ┆ <instructio ┆ <instructi │\n",
       "│          ┆          ┆             ┆             ┆             ┆       ┆ ns>Your     ┆ ons>Your   │\n",
       "│          ┆          ┆             ┆             ┆             ┆       ┆ goal is to  ┆ goal is to │\n",
       "│          ┆          ┆             ┆             ┆             ┆       ┆ …           ┆ …          │\n",
       "│ 10657940 ┆ 10657776 ┆ 1           ┆ 2           ┆ 10657769    ┆ val   ┆ <instructio ┆ <instructi │\n",
       "│          ┆          ┆             ┆             ┆             ┆       ┆ ns>Your     ┆ ons>Your   │\n",
       "│          ┆          ┆             ┆             ┆             ┆       ┆ goal is to  ┆ goal is to │\n",
       "│          ┆          ┆             ┆             ┆             ┆       ┆ …           ┆ …          │\n",
       "│ 1713954  ┆ 1713880  ┆ 1           ┆ 3           ┆ 1713685     ┆ train ┆ <instructio ┆ <instructi │\n",
       "│          ┆          ┆             ┆             ┆             ┆       ┆ ns>Your     ┆ ons>Your   │\n",
       "│          ┆          ┆             ┆             ┆             ┆       ┆ goal is to  ┆ goal is to │\n",
       "│          ┆          ┆             ┆             ┆             ┆       ┆ …           ┆ …          │\n",
       "└──────────┴──────────┴─────────────┴─────────────┴─────────────┴───────┴─────────────┴────────────┘"
      ]
     },
     "execution_count": 12,
     "metadata": {},
     "output_type": "execute_result"
    }
   ],
   "source": [
    "progress_bar = tqdm(total=len(sample_pairs) * 2, desc=\"Building prompts\")\n",
    "\n",
    "\n",
    "def build_prompt_with_progress(comment_id: int) -> str:\n",
    "    progress_bar.update(1)\n",
    "    return build_prompt(comment_id)\n",
    "\n",
    "\n",
    "sample_pairs = sample_pairs.with_columns(\n",
    "    pl.col(\"chosen\")\n",
    "    .map_elements(build_prompt_with_progress, return_dtype=pl.String)\n",
    "    .alias(\"chosen_prompt\"),\n",
    "    pl.col(\"rejected\")\n",
    "    .map_elements(build_prompt_with_progress, return_dtype=pl.String)\n",
    "    .alias(\"rejected_prompt\"),\n",
    ")\n",
    "\n",
    "sample_pairs\n"
   ]
  },
  {
   "cell_type": "code",
   "execution_count": 13,
   "metadata": {},
   "outputs": [
    {
     "data": {
      "application/vnd.jupyter.widget-view+json": {
       "model_id": "40dc67c6fc614f8c902c060477c50fb3",
       "version_major": 2,
       "version_minor": 0
      },
      "text/plain": [
       "Saving the dataset (0/1 shards):   0%|          | 0/30000 [00:00<?, ? examples/s]"
      ]
     },
     "metadata": {},
     "output_type": "display_data"
    },
    {
     "data": {
      "application/vnd.jupyter.widget-view+json": {
       "model_id": "ef15381bfb274f31959314642636c786",
       "version_major": 2,
       "version_minor": 0
      },
      "text/plain": [
       "Saving the dataset (0/1 shards):   0%|          | 0/500 [00:00<?, ? examples/s]"
      ]
     },
     "metadata": {},
     "output_type": "display_data"
    },
    {
     "data": {
      "application/vnd.jupyter.widget-view+json": {
       "model_id": "3da2397bdae54c31bd692ac4e7a483cb",
       "version_major": 2,
       "version_minor": 0
      },
      "text/plain": [
       "Saving the dataset (0/1 shards):   0%|          | 0/1000 [00:00<?, ? examples/s]"
      ]
     },
     "metadata": {},
     "output_type": "display_data"
    }
   ],
   "source": [
    "import numpy as np\n",
    "from datasets import Dataset, DatasetDict\n",
    "\n",
    "train_df = sample_pairs.filter(pl.col(\"split\") == \"train\")\n",
    "validation_df = sample_pairs.filter(pl.col(\"split\") == \"val\")\n",
    "test_df = sample_pairs.filter(pl.col(\"split\") == \"test\")\n",
    "\n",
    "\n",
    "# Create a DatasetDict to hold all splits\n",
    "dataset_dict = DatasetDict(\n",
    "    {\n",
    "        \"train\": Dataset.from_polars(train_df.sample(n=30000, seed=42)),\n",
    "        \"validation\": Dataset.from_polars(validation_df.sample(n=500, seed=42)),\n",
    "        \"test\": Dataset.from_polars(test_df.sample(n=1000, seed=42)),\n",
    "    }\n",
    ")\n",
    "\n",
    "dataset_dict.save_to_disk(\"./data/sample_pairs\")"
   ]
  },
  {
   "cell_type": "code",
   "execution_count": 14,
   "metadata": {},
   "outputs": [
    {
     "data": {
      "application/vnd.jupyter.widget-view+json": {
       "model_id": "6071dc9949d94b8480d42d4534965203",
       "version_major": 2,
       "version_minor": 0
      },
      "text/plain": [
       "Uploading the dataset shards:   0%|          | 0/1 [00:00<?, ?it/s]"
      ]
     },
     "metadata": {},
     "output_type": "display_data"
    },
    {
     "data": {
      "application/vnd.jupyter.widget-view+json": {
       "model_id": "7d1c2a9eda964dacb467e897a4e0214b",
       "version_major": 2,
       "version_minor": 0
      },
      "text/plain": [
       "Creating parquet from Arrow format:   0%|          | 0/30 [00:00<?, ?ba/s]"
      ]
     },
     "metadata": {},
     "output_type": "display_data"
    },
    {
     "data": {
      "application/vnd.jupyter.widget-view+json": {
       "model_id": "f732decaedc44c1fb09ffe70e6df6b89",
       "version_major": 2,
       "version_minor": 0
      },
      "text/plain": [
       "  0%|          | 0/1 [00:00<?, ?it/s]"
      ]
     },
     "metadata": {},
     "output_type": "display_data"
    },
    {
     "name": "stderr",
     "output_type": "stream",
     "text": [
      "/workspace/best-hn/.venv/lib/python3.12/site-packages/huggingface_hub/lfs.py:336: UserWarning: hf_transfer is enabled but does not support uploading from bytes or BinaryIO, falling back to regular upload\n",
      "  warnings.warn(\n"
     ]
    },
    {
     "data": {
      "application/vnd.jupyter.widget-view+json": {
       "model_id": "fa356d9648b744d981102cd7e5879620",
       "version_major": 2,
       "version_minor": 0
      },
      "text/plain": [
       "Uploading the dataset shards:   0%|          | 0/1 [00:00<?, ?it/s]"
      ]
     },
     "metadata": {},
     "output_type": "display_data"
    },
    {
     "data": {
      "application/vnd.jupyter.widget-view+json": {
       "model_id": "ebc4e542eb8546d885a25d1bed0760bc",
       "version_major": 2,
       "version_minor": 0
      },
      "text/plain": [
       "Creating parquet from Arrow format:   0%|          | 0/1 [00:00<?, ?ba/s]"
      ]
     },
     "metadata": {},
     "output_type": "display_data"
    },
    {
     "data": {
      "application/vnd.jupyter.widget-view+json": {
       "model_id": "301674c2a084434988161d3f30664f6e",
       "version_major": 2,
       "version_minor": 0
      },
      "text/plain": [
       "  0%|          | 0/1 [00:00<?, ?it/s]"
      ]
     },
     "metadata": {},
     "output_type": "display_data"
    },
    {
     "data": {
      "application/vnd.jupyter.widget-view+json": {
       "model_id": "36c1cca031ea4af696df4307dcefa9cf",
       "version_major": 2,
       "version_minor": 0
      },
      "text/plain": [
       "Uploading the dataset shards:   0%|          | 0/1 [00:00<?, ?it/s]"
      ]
     },
     "metadata": {},
     "output_type": "display_data"
    },
    {
     "data": {
      "application/vnd.jupyter.widget-view+json": {
       "model_id": "8b3d630f6c2a4fba80805c2f49d3bb74",
       "version_major": 2,
       "version_minor": 0
      },
      "text/plain": [
       "Creating parquet from Arrow format:   0%|          | 0/1 [00:00<?, ?ba/s]"
      ]
     },
     "metadata": {},
     "output_type": "display_data"
    },
    {
     "data": {
      "application/vnd.jupyter.widget-view+json": {
       "model_id": "921dcb1634dd424e96eb0ce5000f99bf",
       "version_major": 2,
       "version_minor": 0
      },
      "text/plain": [
       "  0%|          | 0/1 [00:00<?, ?it/s]"
      ]
     },
     "metadata": {},
     "output_type": "display_data"
    },
    {
     "data": {
      "text/plain": [
       "CommitInfo(commit_url='https://huggingface.co/datasets/OpenPipe/best-hn-comment-pairs/commit/a5901b24e668d1b78695816097f806cc4ee1c4fa', commit_message='Upload dataset', commit_description='', oid='a5901b24e668d1b78695816097f806cc4ee1c4fa', pr_url=None, repo_url=RepoUrl('https://huggingface.co/datasets/OpenPipe/best-hn-comment-pairs', endpoint='https://huggingface.co', repo_type='dataset', repo_id='OpenPipe/best-hn-comment-pairs'), pr_revision=None, pr_num=None)"
      ]
     },
     "execution_count": 14,
     "metadata": {},
     "output_type": "execute_result"
    }
   ],
   "source": [
    "from dotenv import load_dotenv\n",
    "\n",
    "load_dotenv(\"/workspace/.env\")\n",
    "\n",
    "dataset_dict.push_to_hub(\"OpenPipe/best-hn-comment-pairs\")\n"
   ]
  },
  {
   "cell_type": "code",
   "execution_count": 16,
   "metadata": {},
   "outputs": [
    {
     "data": {
      "text/plain": [
       "Dataset({\n",
       "    features: ['chosen', 'rejected', 'chosen_rank', 'rejected_rank', 'top_level_parent', 'split', 'chosen_prompt', 'rejected_prompt'],\n",
       "    num_rows: 30000\n",
       "})"
      ]
     },
     "execution_count": 16,
     "metadata": {},
     "output_type": "execute_result"
    },
    {
     "name": "stderr",
     "output_type": "stream",
     "text": []
    }
   ],
   "source": [
    "dataset_dict[\"train\"]"
   ]
  },
  {
   "cell_type": "code",
   "execution_count": 23,
   "metadata": {},
   "outputs": [
    {
     "name": "stderr",
     "output_type": "stream",
     "text": [
      "Building prompts:   0%|          | 0/94661 [00:11<?, ?it/s]"
     ]
    },
    {
     "name": "stderr",
     "output_type": "stream",
     "text": [
      "\n"
     ]
    },
    {
     "data": {
      "text/html": [
       "<div><style>\n",
       ".dataframe > thead > tr,\n",
       ".dataframe > tbody > tr {\n",
       "  text-align: right;\n",
       "  white-space: pre-wrap;\n",
       "}\n",
       "</style>\n",
       "<small>shape: (94_661, 17)</small><table border=\"1\" class=\"dataframe\"><thead><tr><th>id</th><th>type</th><th>by</th><th>time</th><th>title</th><th>text</th><th>url</th><th>score</th><th>parent</th><th>top_level_parent</th><th>descendants</th><th>kids</th><th>deleted</th><th>dead</th><th>siblings_count</th><th>sibling_rank</th><th>prompt</th></tr><tr><td>i64</td><td>str</td><td>str</td><td>datetime[μs]</td><td>str</td><td>str</td><td>str</td><td>i64</td><td>i64</td><td>i64</td><td>i64</td><td>list[i64]</td><td>bool</td><td>bool</td><td>u32</td><td>i64</td><td>str</td></tr></thead><tbody><tr><td>14641579</td><td>&quot;comment&quot;</td><td>&quot;i2shar&quot;</td><td>2017-06-27 00:23:18</td><td>null</td><td>&quot;I am also a fan of this very p…</td><td>null</td><td>null</td><td>14634529</td><td>14634529</td><td>null</td><td>[14643463]</td><td>null</td><td>null</td><td>13</td><td>3</td><td>&quot;&lt;instructions&gt;Your goal is to …</td></tr><tr><td>14333528</td><td>&quot;comment&quot;</td><td>&quot;Oddstrider&quot;</td><td>2017-05-13 23:39:16</td><td>null</td><td>&quot;The nations mentioned are some…</td><td>null</td><td>null</td><td>14332206</td><td>14332206</td><td>null</td><td>[14333701, 14334768, 14337271]</td><td>null</td><td>null</td><td>21</td><td>1</td><td>&quot;&lt;instructions&gt;Your goal is to …</td></tr><tr><td>22941820</td><td>&quot;comment&quot;</td><td>&quot;a-ve&quot;</td><td>2020-04-22 03:31:54</td><td>null</td><td>&quot;This is bad.&lt;p&gt;One executive a…</td><td>null</td><td>null</td><td>22941489</td><td>22941489</td><td>null</td><td>[22942990, 22942156, … 22942353]</td><td>null</td><td>null</td><td>17</td><td>1</td><td>&quot;&lt;instructions&gt;Your goal is to …</td></tr><tr><td>8609652</td><td>&quot;comment&quot;</td><td>&quot;ezequiel-garzon&quot;</td><td>2014-11-14 21:40:03</td><td>null</td><td>&quot;Now that BIND has been removed…</td><td>null</td><td>null</td><td>8608903</td><td>8608903</td><td>null</td><td>[8610230, 8609697]</td><td>null</td><td>null</td><td>12</td><td>2</td><td>&quot;&lt;instructions&gt;Your goal is to …</td></tr><tr><td>15162205</td><td>&quot;comment&quot;</td><td>&quot;cknight&quot;</td><td>2017-09-03 16:17:20</td><td>null</td><td>&quot;So one of the things I did for…</td><td>null</td><td>null</td><td>15155298</td><td>15155298</td><td>null</td><td>[15162855, 15162361, … 15163805]</td><td>null</td><td>null</td><td>10</td><td>1</td><td>&quot;&lt;instructions&gt;Your goal is to …</td></tr><tr><td>&hellip;</td><td>&hellip;</td><td>&hellip;</td><td>&hellip;</td><td>&hellip;</td><td>&hellip;</td><td>&hellip;</td><td>&hellip;</td><td>&hellip;</td><td>&hellip;</td><td>&hellip;</td><td>&hellip;</td><td>&hellip;</td><td>&hellip;</td><td>&hellip;</td><td>&hellip;</td><td>&hellip;</td></tr><tr><td>40143741</td><td>&quot;comment&quot;</td><td>&quot;helsinkiandrew&quot;</td><td>2024-04-24 12:49:57</td><td>null</td><td>&quot;&amp;gt; I think one should attrib…</td><td>null</td><td>null</td><td>40143097</td><td>40142374</td><td>null</td><td>[40161019, 40143794]</td><td>null</td><td>null</td><td>7</td><td>2</td><td>&quot;&lt;instructions&gt;Your goal is to …</td></tr><tr><td>17445567</td><td>&quot;comment&quot;</td><td>&quot;mehrdadn&quot;</td><td>2018-07-02 21:42:47</td><td>null</td><td>&quot;Exactly. I wonder how people w…</td><td>null</td><td>null</td><td>17445450</td><td>17445210</td><td>null</td><td>[17445816]</td><td>null</td><td>null</td><td>5</td><td>3</td><td>&quot;&lt;instructions&gt;Your goal is to …</td></tr><tr><td>32500806</td><td>&quot;comment&quot;</td><td>&quot;neodypsis&quot;</td><td>2022-08-17 19:41:35</td><td>null</td><td>&quot;Cool write-up. I&amp;#x27;m curren…</td><td>null</td><td>null</td><td>32497564</td><td>32497564</td><td>null</td><td>[32501494]</td><td>null</td><td>null</td><td>5</td><td>2</td><td>&quot;&lt;instructions&gt;Your goal is to …</td></tr><tr><td>9446192</td><td>&quot;comment&quot;</td><td>&quot;th0br0&quot;</td><td>2015-04-27 13:43:49</td><td>null</td><td>&quot;In general, the EU is _very_ s…</td><td>null</td><td>null</td><td>9446059</td><td>9445831</td><td>null</td><td>[9446207, 9446872]</td><td>null</td><td>null</td><td>7</td><td>2</td><td>&quot;&lt;instructions&gt;Your goal is to …</td></tr><tr><td>29824728</td><td>&quot;comment&quot;</td><td>&quot;edem&quot;</td><td>2022-01-06 15:28:01</td><td>null</td><td>&quot;If you&amp;#x27;re not into Python…</td><td>null</td><td>null</td><td>29823957</td><td>29823957</td><td>null</td><td>[29826373]</td><td>null</td><td>null</td><td>10</td><td>3</td><td>&quot;&lt;instructions&gt;Your goal is to …</td></tr></tbody></table></div>"
      ],
      "text/plain": [
       "shape: (94_661, 17)\n",
       "┌──────────┬─────────┬─────────────┬─────────────┬───┬──────┬────────────┬────────────┬────────────┐\n",
       "│ id       ┆ type    ┆ by          ┆ time        ┆ … ┆ dead ┆ siblings_c ┆ sibling_ra ┆ prompt     │\n",
       "│ ---      ┆ ---     ┆ ---         ┆ ---         ┆   ┆ ---  ┆ ount       ┆ nk         ┆ ---        │\n",
       "│ i64      ┆ str     ┆ str         ┆ datetime[μs ┆   ┆ bool ┆ ---        ┆ ---        ┆ str        │\n",
       "│          ┆         ┆             ┆ ]           ┆   ┆      ┆ u32        ┆ i64        ┆            │\n",
       "╞══════════╪═════════╪═════════════╪═════════════╪═══╪══════╪════════════╪════════════╪════════════╡\n",
       "│ 14641579 ┆ comment ┆ i2shar      ┆ 2017-06-27  ┆ … ┆ null ┆ 13         ┆ 3          ┆ <instructi │\n",
       "│          ┆         ┆             ┆ 00:23:18    ┆   ┆      ┆            ┆            ┆ ons>Your   │\n",
       "│          ┆         ┆             ┆             ┆   ┆      ┆            ┆            ┆ goal is to │\n",
       "│          ┆         ┆             ┆             ┆   ┆      ┆            ┆            ┆ …          │\n",
       "│ 14333528 ┆ comment ┆ Oddstrider  ┆ 2017-05-13  ┆ … ┆ null ┆ 21         ┆ 1          ┆ <instructi │\n",
       "│          ┆         ┆             ┆ 23:39:16    ┆   ┆      ┆            ┆            ┆ ons>Your   │\n",
       "│          ┆         ┆             ┆             ┆   ┆      ┆            ┆            ┆ goal is to │\n",
       "│          ┆         ┆             ┆             ┆   ┆      ┆            ┆            ┆ …          │\n",
       "│ 22941820 ┆ comment ┆ a-ve        ┆ 2020-04-22  ┆ … ┆ null ┆ 17         ┆ 1          ┆ <instructi │\n",
       "│          ┆         ┆             ┆ 03:31:54    ┆   ┆      ┆            ┆            ┆ ons>Your   │\n",
       "│          ┆         ┆             ┆             ┆   ┆      ┆            ┆            ┆ goal is to │\n",
       "│          ┆         ┆             ┆             ┆   ┆      ┆            ┆            ┆ …          │\n",
       "│ 8609652  ┆ comment ┆ ezequiel-ga ┆ 2014-11-14  ┆ … ┆ null ┆ 12         ┆ 2          ┆ <instructi │\n",
       "│          ┆         ┆ rzon        ┆ 21:40:03    ┆   ┆      ┆            ┆            ┆ ons>Your   │\n",
       "│          ┆         ┆             ┆             ┆   ┆      ┆            ┆            ┆ goal is to │\n",
       "│          ┆         ┆             ┆             ┆   ┆      ┆            ┆            ┆ …          │\n",
       "│ 15162205 ┆ comment ┆ cknight     ┆ 2017-09-03  ┆ … ┆ null ┆ 10         ┆ 1          ┆ <instructi │\n",
       "│          ┆         ┆             ┆ 16:17:20    ┆   ┆      ┆            ┆            ┆ ons>Your   │\n",
       "│          ┆         ┆             ┆             ┆   ┆      ┆            ┆            ┆ goal is to │\n",
       "│          ┆         ┆             ┆             ┆   ┆      ┆            ┆            ┆ …          │\n",
       "│ …        ┆ …       ┆ …           ┆ …           ┆ … ┆ …    ┆ …          ┆ …          ┆ …          │\n",
       "│ 40143741 ┆ comment ┆ helsinkiand ┆ 2024-04-24  ┆ … ┆ null ┆ 7          ┆ 2          ┆ <instructi │\n",
       "│          ┆         ┆ rew         ┆ 12:49:57    ┆   ┆      ┆            ┆            ┆ ons>Your   │\n",
       "│          ┆         ┆             ┆             ┆   ┆      ┆            ┆            ┆ goal is to │\n",
       "│          ┆         ┆             ┆             ┆   ┆      ┆            ┆            ┆ …          │\n",
       "│ 17445567 ┆ comment ┆ mehrdadn    ┆ 2018-07-02  ┆ … ┆ null ┆ 5          ┆ 3          ┆ <instructi │\n",
       "│          ┆         ┆             ┆ 21:42:47    ┆   ┆      ┆            ┆            ┆ ons>Your   │\n",
       "│          ┆         ┆             ┆             ┆   ┆      ┆            ┆            ┆ goal is to │\n",
       "│          ┆         ┆             ┆             ┆   ┆      ┆            ┆            ┆ …          │\n",
       "│ 32500806 ┆ comment ┆ neodypsis   ┆ 2022-08-17  ┆ … ┆ null ┆ 5          ┆ 2          ┆ <instructi │\n",
       "│          ┆         ┆             ┆ 19:41:35    ┆   ┆      ┆            ┆            ┆ ons>Your   │\n",
       "│          ┆         ┆             ┆             ┆   ┆      ┆            ┆            ┆ goal is to │\n",
       "│          ┆         ┆             ┆             ┆   ┆      ┆            ┆            ┆ …          │\n",
       "│ 9446192  ┆ comment ┆ th0br0      ┆ 2015-04-27  ┆ … ┆ null ┆ 7          ┆ 2          ┆ <instructi │\n",
       "│          ┆         ┆             ┆ 13:43:49    ┆   ┆      ┆            ┆            ┆ ons>Your   │\n",
       "│          ┆         ┆             ┆             ┆   ┆      ┆            ┆            ┆ goal is to │\n",
       "│          ┆         ┆             ┆             ┆   ┆      ┆            ┆            ┆ …          │\n",
       "│ 29824728 ┆ comment ┆ edem        ┆ 2022-01-06  ┆ … ┆ null ┆ 10         ┆ 3          ┆ <instructi │\n",
       "│          ┆         ┆             ┆ 15:28:01    ┆   ┆      ┆            ┆            ┆ ons>Your   │\n",
       "│          ┆         ┆             ┆             ┆   ┆      ┆            ┆            ┆ goal is to │\n",
       "│          ┆         ┆             ┆             ┆   ┆      ┆            ┆            ┆ …          │\n",
       "└──────────┴─────────┴─────────────┴─────────────┴───┴──────┴────────────┴────────────┴────────────┘"
      ]
     },
     "execution_count": 23,
     "metadata": {},
     "output_type": "execute_result"
    },
    {
     "name": "stderr",
     "output_type": "stream",
     "text": []
    }
   ],
   "source": [
    "with_prompts = comments_df.sample(n=100000, seed=42)\n",
    "with_prompts = with_prompts.filter(\n",
    "    (pl.col(\"id\").is_in(dataset_dict[\"train\"][\"chosen\"]).not_())\n",
    "    & (pl.col(\"id\").is_in(dataset_dict[\"train\"][\"rejected\"]).not_())\n",
    ")\n",
    "\n",
    "progress_bar = tqdm(total=len(with_prompts), desc=\"Building prompts\")\n",
    "\n",
    "\n",
    "def build_prompt_with_progress(comment_id: int) -> str:\n",
    "    progress_bar.update(1)\n",
    "    return build_prompt(comment_id)\n",
    "\n",
    "\n",
    "with_prompts = with_prompts.with_columns(\n",
    "    pl.col(\"id\")\n",
    "    .map_elements(build_prompt_with_progress, return_dtype=pl.String)\n",
    "    .alias(\"prompt\")\n",
    ")\n",
    "\n",
    "with_prompts"
   ]
  },
  {
   "cell_type": "code",
   "execution_count": 29,
   "metadata": {},
   "outputs": [],
   "source": [
    "with_prompts.write_parquet(\"./data/sample_comments.parquet\")"
   ]
  },
  {
   "cell_type": "code",
   "execution_count": 30,
   "metadata": {},
   "outputs": [
    {
     "name": "stderr",
     "output_type": "stream",
     "text": [
      "Building prompts: 100%|██████████| 94661/94661 [22:42<00:00, 69.45it/s]  "
     ]
    },
    {
     "name": "stderr",
     "output_type": "stream",
     "text": [
      "\n",
      "Building prompts: 100%|█████████▉| 340556/340688 [02:43<00:00, 2140.03it/s]"
     ]
    },
    {
     "name": "stderr",
     "output_type": "stream",
     "text": [
      "Building prompts: 100%|██████████| 340688/340688 [02:54<00:00, 2140.03it/s]"
     ]
    }
   ],
   "source": [
    "top_comments = comments_df.filter(pl.col(\"sibling_rank\") == 1).filter(\n",
    "    (pl.col(\"id\").is_in(dataset_dict[\"train\"][\"chosen\"]).not_())\n",
    "    & (pl.col(\"id\").is_in(dataset_dict[\"train\"][\"rejected\"]).not_())\n",
    ")\n",
    "\n",
    "progress_bar = tqdm(total=len(top_comments), desc=\"Building prompts\")\n",
    "\n",
    "\n",
    "def build_prompt_with_progress(comment_id: int) -> str:\n",
    "    progress_bar.update(1)\n",
    "    return build_prompt(comment_id)\n",
    "\n",
    "\n",
    "top_comments = top_comments.with_columns(\n",
    "    pl.col(\"id\")\n",
    "    .map_elements(build_prompt_with_progress, return_dtype=pl.String)\n",
    "    .alias(\"prompt\")\n",
    ")\n",
    "\n",
    "top_comments.write_parquet(\"./data/top_comments.parquet\")\n"
   ]
  },
  {
   "cell_type": "code",
   "execution_count": 34,
   "metadata": {},
   "outputs": [],
   "source": [
    "df.filter(pl.col(\"type\") == \"story\").write_parquet(\"./data/stories.parquet\")"
   ]
  }
 ],
 "metadata": {
  "kernelspec": {
   "display_name": ".venv",
   "language": "python",
   "name": "python3"
  },
  "language_info": {
   "codemirror_mode": {
    "name": "ipython",
    "version": 3
   },
   "file_extension": ".py",
   "mimetype": "text/x-python",
   "name": "python",
   "nbconvert_exporter": "python",
   "pygments_lexer": "ipython3",
   "version": "3.12.5"
  }
 },
 "nbformat": 4,
 "nbformat_minor": 2
}
