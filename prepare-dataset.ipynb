{
 "cells": [
  {
   "cell_type": "code",
   "execution_count": 1,
   "metadata": {},
   "outputs": [
    {
     "data": {
      "application/vnd.jupyter.widget-view+json": {
       "model_id": "c01ad9ae61214506950b3deed85c5c03",
       "version_major": 2,
       "version_minor": 0
      },
      "text/plain": [
       "README.md:   0%|          | 0.00/885 [00:00<?, ?B/s]"
      ]
     },
     "metadata": {},
     "output_type": "display_data"
    },
    {
     "data": {
      "application/vnd.jupyter.widget-view+json": {
       "model_id": "b777636ab7c64785b49e9726d94c68f6",
       "version_major": 2,
       "version_minor": 0
      },
      "text/plain": [
       "Resolving data files:   0%|          | 0/39 [00:00<?, ?it/s]"
      ]
     },
     "metadata": {},
     "output_type": "display_data"
    },
    {
     "data": {
      "application/vnd.jupyter.widget-view+json": {
       "model_id": "6ed7926a07ce4ea28b61cab06ad6515b",
       "version_major": 2,
       "version_minor": 0
      },
      "text/plain": [
       "Resolving data files:   0%|          | 0/39 [00:00<?, ?it/s]"
      ]
     },
     "metadata": {},
     "output_type": "display_data"
    },
    {
     "data": {
      "application/vnd.jupyter.widget-view+json": {
       "model_id": "a560b0ab806d4fa6bf1c1d10e56f1e58",
       "version_major": 2,
       "version_minor": 0
      },
      "text/plain": [
       "Downloading data:   0%|          | 0/39 [00:00<?, ?files/s]"
      ]
     },
     "metadata": {},
     "output_type": "display_data"
    },
    {
     "data": {
      "application/vnd.jupyter.widget-view+json": {
       "model_id": "ad26471323c4478d94a710225900c24c",
       "version_major": 2,
       "version_minor": 0
      },
      "text/plain": [
       "train-00000-of-00039.parquet:   0%|          | 0.00/255M [00:00<?, ?B/s]"
      ]
     },
     "metadata": {},
     "output_type": "display_data"
    },
    {
     "data": {
      "application/vnd.jupyter.widget-view+json": {
       "model_id": "3f40373280554b9e824a23775233842b",
       "version_major": 2,
       "version_minor": 0
      },
      "text/plain": [
       "train-00001-of-00039.parquet:   0%|          | 0.00/267M [00:00<?, ?B/s]"
      ]
     },
     "metadata": {},
     "output_type": "display_data"
    },
    {
     "data": {
      "application/vnd.jupyter.widget-view+json": {
       "model_id": "d53d7b44b344406e9ab513c51da6b4d3",
       "version_major": 2,
       "version_minor": 0
      },
      "text/plain": [
       "train-00002-of-00039.parquet:   0%|          | 0.00/261M [00:00<?, ?B/s]"
      ]
     },
     "metadata": {},
     "output_type": "display_data"
    },
    {
     "data": {
      "application/vnd.jupyter.widget-view+json": {
       "model_id": "eb1f0e7f8fea4fabbd19c232c7655067",
       "version_major": 2,
       "version_minor": 0
      },
      "text/plain": [
       "train-00003-of-00039.parquet:   0%|          | 0.00/268M [00:00<?, ?B/s]"
      ]
     },
     "metadata": {},
     "output_type": "display_data"
    },
    {
     "data": {
      "application/vnd.jupyter.widget-view+json": {
       "model_id": "a1c61993122f4305b377b813a87529e9",
       "version_major": 2,
       "version_minor": 0
      },
      "text/plain": [
       "train-00004-of-00039.parquet:   0%|          | 0.00/270M [00:00<?, ?B/s]"
      ]
     },
     "metadata": {},
     "output_type": "display_data"
    },
    {
     "data": {
      "application/vnd.jupyter.widget-view+json": {
       "model_id": "ffa46209ad504eb985f08c3e71f58cd2",
       "version_major": 2,
       "version_minor": 0
      },
      "text/plain": [
       "train-00005-of-00039.parquet:   0%|          | 0.00/273M [00:00<?, ?B/s]"
      ]
     },
     "metadata": {},
     "output_type": "display_data"
    },
    {
     "data": {
      "application/vnd.jupyter.widget-view+json": {
       "model_id": "ca0f30040f0e4c22b92087d198629724",
       "version_major": 2,
       "version_minor": 0
      },
      "text/plain": [
       "train-00006-of-00039.parquet:   0%|          | 0.00/273M [00:00<?, ?B/s]"
      ]
     },
     "metadata": {},
     "output_type": "display_data"
    },
    {
     "data": {
      "application/vnd.jupyter.widget-view+json": {
       "model_id": "1e09f483f6b34e4eba15d05a5c3611ea",
       "version_major": 2,
       "version_minor": 0
      },
      "text/plain": [
       "train-00007-of-00039.parquet:   0%|          | 0.00/279M [00:00<?, ?B/s]"
      ]
     },
     "metadata": {},
     "output_type": "display_data"
    },
    {
     "data": {
      "application/vnd.jupyter.widget-view+json": {
       "model_id": "f121c05bcccf4275b9ac762de39c7407",
       "version_major": 2,
       "version_minor": 0
      },
      "text/plain": [
       "train-00008-of-00039.parquet:   0%|          | 0.00/283M [00:00<?, ?B/s]"
      ]
     },
     "metadata": {},
     "output_type": "display_data"
    },
    {
     "data": {
      "application/vnd.jupyter.widget-view+json": {
       "model_id": "efab2746c56848619ffb153f1604cfa2",
       "version_major": 2,
       "version_minor": 0
      },
      "text/plain": [
       "train-00009-of-00039.parquet:   0%|          | 0.00/280M [00:00<?, ?B/s]"
      ]
     },
     "metadata": {},
     "output_type": "display_data"
    },
    {
     "data": {
      "application/vnd.jupyter.widget-view+json": {
       "model_id": "2e3e81597d554888af773d14d7eb314b",
       "version_major": 2,
       "version_minor": 0
      },
      "text/plain": [
       "train-00010-of-00039.parquet:   0%|          | 0.00/280M [00:00<?, ?B/s]"
      ]
     },
     "metadata": {},
     "output_type": "display_data"
    },
    {
     "data": {
      "application/vnd.jupyter.widget-view+json": {
       "model_id": "00c121229577444b87ba905a0109f39c",
       "version_major": 2,
       "version_minor": 0
      },
      "text/plain": [
       "train-00011-of-00039.parquet:   0%|          | 0.00/282M [00:00<?, ?B/s]"
      ]
     },
     "metadata": {},
     "output_type": "display_data"
    },
    {
     "data": {
      "application/vnd.jupyter.widget-view+json": {
       "model_id": "dca8f802a89c4d6e85f69578774af102",
       "version_major": 2,
       "version_minor": 0
      },
      "text/plain": [
       "train-00012-of-00039.parquet:   0%|          | 0.00/283M [00:00<?, ?B/s]"
      ]
     },
     "metadata": {},
     "output_type": "display_data"
    },
    {
     "data": {
      "application/vnd.jupyter.widget-view+json": {
       "model_id": "eca4ede48c7644b3817591ed83232660",
       "version_major": 2,
       "version_minor": 0
      },
      "text/plain": [
       "train-00013-of-00039.parquet:   0%|          | 0.00/280M [00:00<?, ?B/s]"
      ]
     },
     "metadata": {},
     "output_type": "display_data"
    },
    {
     "data": {
      "application/vnd.jupyter.widget-view+json": {
       "model_id": "f73a5bd1cd6a4210b95e3a620db6d00d",
       "version_major": 2,
       "version_minor": 0
      },
      "text/plain": [
       "train-00014-of-00039.parquet:   0%|          | 0.00/280M [00:00<?, ?B/s]"
      ]
     },
     "metadata": {},
     "output_type": "display_data"
    },
    {
     "data": {
      "application/vnd.jupyter.widget-view+json": {
       "model_id": "53bd87be5dde4d4abf2572ee1b7f5c1a",
       "version_major": 2,
       "version_minor": 0
      },
      "text/plain": [
       "train-00015-of-00039.parquet:   0%|          | 0.00/281M [00:00<?, ?B/s]"
      ]
     },
     "metadata": {},
     "output_type": "display_data"
    },
    {
     "data": {
      "application/vnd.jupyter.widget-view+json": {
       "model_id": "c3fcdea224184ee8938ae00362114906",
       "version_major": 2,
       "version_minor": 0
      },
      "text/plain": [
       "train-00016-of-00039.parquet:   0%|          | 0.00/284M [00:00<?, ?B/s]"
      ]
     },
     "metadata": {},
     "output_type": "display_data"
    },
    {
     "data": {
      "application/vnd.jupyter.widget-view+json": {
       "model_id": "31a5a220bc9449d28ca42fb9eec76b24",
       "version_major": 2,
       "version_minor": 0
      },
      "text/plain": [
       "train-00017-of-00039.parquet:   0%|          | 0.00/284M [00:00<?, ?B/s]"
      ]
     },
     "metadata": {},
     "output_type": "display_data"
    },
    {
     "data": {
      "application/vnd.jupyter.widget-view+json": {
       "model_id": "6e34b4d6d9db43e186b3acf012a8ed82",
       "version_major": 2,
       "version_minor": 0
      },
      "text/plain": [
       "train-00018-of-00039.parquet:   0%|          | 0.00/283M [00:00<?, ?B/s]"
      ]
     },
     "metadata": {},
     "output_type": "display_data"
    },
    {
     "data": {
      "application/vnd.jupyter.widget-view+json": {
       "model_id": "0713e3f3a9a64efaaf63d00ed743d376",
       "version_major": 2,
       "version_minor": 0
      },
      "text/plain": [
       "train-00019-of-00039.parquet:   0%|          | 0.00/283M [00:00<?, ?B/s]"
      ]
     },
     "metadata": {},
     "output_type": "display_data"
    },
    {
     "data": {
      "application/vnd.jupyter.widget-view+json": {
       "model_id": "e1a789a88505461782304c89a14b4e17",
       "version_major": 2,
       "version_minor": 0
      },
      "text/plain": [
       "train-00020-of-00039.parquet:   0%|          | 0.00/284M [00:00<?, ?B/s]"
      ]
     },
     "metadata": {},
     "output_type": "display_data"
    },
    {
     "data": {
      "application/vnd.jupyter.widget-view+json": {
       "model_id": "4e3c468ef42d4633894e7d8d12b0f929",
       "version_major": 2,
       "version_minor": 0
      },
      "text/plain": [
       "train-00021-of-00039.parquet:   0%|          | 0.00/283M [00:00<?, ?B/s]"
      ]
     },
     "metadata": {},
     "output_type": "display_data"
    },
    {
     "data": {
      "application/vnd.jupyter.widget-view+json": {
       "model_id": "54f6969e65e9464fa97d4eb0fe880a28",
       "version_major": 2,
       "version_minor": 0
      },
      "text/plain": [
       "train-00022-of-00039.parquet:   0%|          | 0.00/288M [00:00<?, ?B/s]"
      ]
     },
     "metadata": {},
     "output_type": "display_data"
    },
    {
     "data": {
      "application/vnd.jupyter.widget-view+json": {
       "model_id": "6554b15c005d4803ba46960e4ff00a06",
       "version_major": 2,
       "version_minor": 0
      },
      "text/plain": [
       "train-00023-of-00039.parquet:   0%|          | 0.00/287M [00:00<?, ?B/s]"
      ]
     },
     "metadata": {},
     "output_type": "display_data"
    },
    {
     "data": {
      "application/vnd.jupyter.widget-view+json": {
       "model_id": "360297b179534330b5bfa9e64944882a",
       "version_major": 2,
       "version_minor": 0
      },
      "text/plain": [
       "train-00024-of-00039.parquet:   0%|          | 0.00/289M [00:00<?, ?B/s]"
      ]
     },
     "metadata": {},
     "output_type": "display_data"
    },
    {
     "data": {
      "application/vnd.jupyter.widget-view+json": {
       "model_id": "1bb665738c64404699a07756eb696c0f",
       "version_major": 2,
       "version_minor": 0
      },
      "text/plain": [
       "train-00025-of-00039.parquet:   0%|          | 0.00/288M [00:00<?, ?B/s]"
      ]
     },
     "metadata": {},
     "output_type": "display_data"
    },
    {
     "data": {
      "application/vnd.jupyter.widget-view+json": {
       "model_id": "eef4fb47bce4490c99769c1c4a7f616e",
       "version_major": 2,
       "version_minor": 0
      },
      "text/plain": [
       "train-00026-of-00039.parquet:   0%|          | 0.00/291M [00:00<?, ?B/s]"
      ]
     },
     "metadata": {},
     "output_type": "display_data"
    },
    {
     "data": {
      "application/vnd.jupyter.widget-view+json": {
       "model_id": "a7fed344dbc940559068375ebf48bfde",
       "version_major": 2,
       "version_minor": 0
      },
      "text/plain": [
       "train-00027-of-00039.parquet:   0%|          | 0.00/292M [00:00<?, ?B/s]"
      ]
     },
     "metadata": {},
     "output_type": "display_data"
    },
    {
     "data": {
      "application/vnd.jupyter.widget-view+json": {
       "model_id": "eaa6f5a3e47249da97ed8866c8cb1bdd",
       "version_major": 2,
       "version_minor": 0
      },
      "text/plain": [
       "train-00028-of-00039.parquet:   0%|          | 0.00/287M [00:00<?, ?B/s]"
      ]
     },
     "metadata": {},
     "output_type": "display_data"
    },
    {
     "data": {
      "application/vnd.jupyter.widget-view+json": {
       "model_id": "91d3880ab03c41dd91a5f5775a35ee82",
       "version_major": 2,
       "version_minor": 0
      },
      "text/plain": [
       "train-00029-of-00039.parquet:   0%|          | 0.00/285M [00:00<?, ?B/s]"
      ]
     },
     "metadata": {},
     "output_type": "display_data"
    },
    {
     "data": {
      "application/vnd.jupyter.widget-view+json": {
       "model_id": "8fce5a21186d47e4aff357d10358578d",
       "version_major": 2,
       "version_minor": 0
      },
      "text/plain": [
       "train-00030-of-00039.parquet:   0%|          | 0.00/281M [00:00<?, ?B/s]"
      ]
     },
     "metadata": {},
     "output_type": "display_data"
    },
    {
     "data": {
      "application/vnd.jupyter.widget-view+json": {
       "model_id": "b4fe2764c2d049fe83b1acf1ca7ac409",
       "version_major": 2,
       "version_minor": 0
      },
      "text/plain": [
       "train-00031-of-00039.parquet:   0%|          | 0.00/279M [00:00<?, ?B/s]"
      ]
     },
     "metadata": {},
     "output_type": "display_data"
    },
    {
     "data": {
      "application/vnd.jupyter.widget-view+json": {
       "model_id": "bb0f8e7dcccb485ba684a16984880146",
       "version_major": 2,
       "version_minor": 0
      },
      "text/plain": [
       "train-00032-of-00039.parquet:   0%|          | 0.00/278M [00:00<?, ?B/s]"
      ]
     },
     "metadata": {},
     "output_type": "display_data"
    },
    {
     "data": {
      "application/vnd.jupyter.widget-view+json": {
       "model_id": "901919d0e5bd4d2493169b314abd1f69",
       "version_major": 2,
       "version_minor": 0
      },
      "text/plain": [
       "train-00033-of-00039.parquet:   0%|          | 0.00/275M [00:00<?, ?B/s]"
      ]
     },
     "metadata": {},
     "output_type": "display_data"
    },
    {
     "data": {
      "application/vnd.jupyter.widget-view+json": {
       "model_id": "945fe139002b41ba9f732acae9bd6c2d",
       "version_major": 2,
       "version_minor": 0
      },
      "text/plain": [
       "train-00034-of-00039.parquet:   0%|          | 0.00/277M [00:00<?, ?B/s]"
      ]
     },
     "metadata": {},
     "output_type": "display_data"
    },
    {
     "data": {
      "application/vnd.jupyter.widget-view+json": {
       "model_id": "e2fc4fda26e042e684a7d62c8ca26aca",
       "version_major": 2,
       "version_minor": 0
      },
      "text/plain": [
       "train-00035-of-00039.parquet:   0%|          | 0.00/270M [00:00<?, ?B/s]"
      ]
     },
     "metadata": {},
     "output_type": "display_data"
    },
    {
     "data": {
      "application/vnd.jupyter.widget-view+json": {
       "model_id": "f67558bd04344a169505bdaaeb1eb6fb",
       "version_major": 2,
       "version_minor": 0
      },
      "text/plain": [
       "train-00036-of-00039.parquet:   0%|          | 0.00/273M [00:00<?, ?B/s]"
      ]
     },
     "metadata": {},
     "output_type": "display_data"
    },
    {
     "data": {
      "application/vnd.jupyter.widget-view+json": {
       "model_id": "16abc993ea7e4755ad61267771efbfc4",
       "version_major": 2,
       "version_minor": 0
      },
      "text/plain": [
       "train-00037-of-00039.parquet:   0%|          | 0.00/268M [00:00<?, ?B/s]"
      ]
     },
     "metadata": {},
     "output_type": "display_data"
    },
    {
     "data": {
      "application/vnd.jupyter.widget-view+json": {
       "model_id": "c29024f6235f403a898070c48637f4d6",
       "version_major": 2,
       "version_minor": 0
      },
      "text/plain": [
       "train-00038-of-00039.parquet:   0%|          | 0.00/269M [00:00<?, ?B/s]"
      ]
     },
     "metadata": {},
     "output_type": "display_data"
    },
    {
     "data": {
      "application/vnd.jupyter.widget-view+json": {
       "model_id": "e5415ebb028f4eee945a202f2e3e9531",
       "version_major": 2,
       "version_minor": 0
      },
      "text/plain": [
       "Generating train split:   0%|          | 0/41813385 [00:00<?, ? examples/s]"
      ]
     },
     "metadata": {},
     "output_type": "display_data"
    },
    {
     "data": {
      "application/vnd.jupyter.widget-view+json": {
       "model_id": "4d9ad2e9b7454ae8a2604b3d878b6cb0",
       "version_major": 2,
       "version_minor": 0
      },
      "text/plain": [
       "Loading dataset shards:   0%|          | 0/39 [00:00<?, ?it/s]"
      ]
     },
     "metadata": {},
     "output_type": "display_data"
    },
    {
     "data": {
      "text/html": [
       "<div><style>\n",
       ".dataframe > thead > tr,\n",
       ".dataframe > tbody > tr {\n",
       "  text-align: right;\n",
       "  white-space: pre-wrap;\n",
       "}\n",
       "</style>\n",
       "<small>shape: (41_813_385, 14)</small><table border=\"1\" class=\"dataframe\"><thead><tr><th>id</th><th>type</th><th>by</th><th>time</th><th>title</th><th>text</th><th>url</th><th>score</th><th>parent</th><th>top_level_parent</th><th>descendants</th><th>kids</th><th>deleted</th><th>dead</th></tr><tr><td>i64</td><td>str</td><td>str</td><td>datetime[μs]</td><td>str</td><td>str</td><td>str</td><td>i64</td><td>i64</td><td>i64</td><td>i64</td><td>list[i64]</td><td>bool</td><td>bool</td></tr></thead><tbody><tr><td>0</td><td>null</td><td>null</td><td>null</td><td>null</td><td>null</td><td>null</td><td>null</td><td>null</td><td>0</td><td>null</td><td>null</td><td>true</td><td>null</td></tr><tr><td>1</td><td>&quot;story&quot;</td><td>&quot;pg&quot;</td><td>2006-10-09 18:21:51</td><td>&quot;Y Combinator&quot;</td><td>null</td><td>&quot;http://ycombinator.com&quot;</td><td>57</td><td>null</td><td>1</td><td>15</td><td>[15, 234509, … 82729]</td><td>null</td><td>null</td></tr><tr><td>2</td><td>&quot;story&quot;</td><td>&quot;phyllis&quot;</td><td>2006-10-09 18:30:28</td><td>&quot;A Student&#x27;s Guide to Startups&quot;</td><td>null</td><td>&quot;http://www.paulgraham.com/mit.…</td><td>16</td><td>null</td><td>2</td><td>0</td><td>null</td><td>null</td><td>null</td></tr><tr><td>3</td><td>&quot;story&quot;</td><td>&quot;phyllis&quot;</td><td>2006-10-09 18:40:33</td><td>&quot;Woz Interview: the early days …</td><td>null</td><td>&quot;http://www.foundersatwork.com/…</td><td>7</td><td>null</td><td>3</td><td>0</td><td>[531602]</td><td>null</td><td>null</td></tr><tr><td>4</td><td>&quot;story&quot;</td><td>&quot;onebeerdave&quot;</td><td>2006-10-09 18:47:42</td><td>&quot;NYC Developer Dilemma&quot;</td><td>null</td><td>&quot;http://avc.blogs.com/a_vc/2006…</td><td>5</td><td>null</td><td>4</td><td>0</td><td>null</td><td>null</td><td>null</td></tr><tr><td>&hellip;</td><td>&hellip;</td><td>&hellip;</td><td>&hellip;</td><td>&hellip;</td><td>&hellip;</td><td>&hellip;</td><td>&hellip;</td><td>&hellip;</td><td>&hellip;</td><td>&hellip;</td><td>&hellip;</td><td>&hellip;</td><td>&hellip;</td></tr><tr><td>41813380</td><td>&quot;comment&quot;</td><td>&quot;slightwinder&quot;</td><td>2024-10-11 20:26:18</td><td>null</td><td>&quot;&amp;gt; It genuinely astounds me …</td><td>null</td><td>null</td><td>41810691</td><td>41808943</td><td>null</td><td>null</td><td>null</td><td>null</td></tr><tr><td>41813381</td><td>&quot;comment&quot;</td><td>&quot;marcosdumay&quot;</td><td>2024-10-11 20:26:21</td><td>null</td><td>&quot;Add forced sedentarism into th…</td><td>null</td><td>null</td><td>41812891</td><td>41811263</td><td>null</td><td>null</td><td>null</td><td>null</td></tr><tr><td>41813382</td><td>&quot;story&quot;</td><td>&quot;turkeynecks&quot;</td><td>2024-10-11 20:26:24</td><td>&quot;Mini DOOM-like FPS in BooBoo p…</td><td>null</td><td>&quot;https://www.indiedb.com/games/…</td><td>1</td><td>null</td><td>41813382</td><td>0</td><td>null</td><td>null</td><td>null</td></tr><tr><td>41813383</td><td>&quot;comment&quot;</td><td>&quot;davio&quot;</td><td>2024-10-11 20:26:28</td><td>null</td><td>&quot;hims sells the generic version…</td><td>null</td><td>null</td><td>41813102</td><td>41811263</td><td>null</td><td>null</td><td>null</td><td>null</td></tr><tr><td>41813384</td><td>&quot;comment&quot;</td><td>&quot;btilly&quot;</td><td>2024-10-11 20:26:29</td><td>null</td><td>&quot;Well, if you want a simple arg…</td><td>null</td><td>null</td><td>41812134</td><td>41808127</td><td>null</td><td>null</td><td>null</td><td>null</td></tr></tbody></table></div>"
      ],
      "text/plain": [
       "shape: (41_813_385, 14)\n",
       "┌──────────┬─────────┬──────────────┬─────────────┬───┬─────────────┬─────────────┬─────────┬──────┐\n",
       "│ id       ┆ type    ┆ by           ┆ time        ┆ … ┆ descendants ┆ kids        ┆ deleted ┆ dead │\n",
       "│ ---      ┆ ---     ┆ ---          ┆ ---         ┆   ┆ ---         ┆ ---         ┆ ---     ┆ ---  │\n",
       "│ i64      ┆ str     ┆ str          ┆ datetime[μs ┆   ┆ i64         ┆ list[i64]   ┆ bool    ┆ bool │\n",
       "│          ┆         ┆              ┆ ]           ┆   ┆             ┆             ┆         ┆      │\n",
       "╞══════════╪═════════╪══════════════╪═════════════╪═══╪═════════════╪═════════════╪═════════╪══════╡\n",
       "│ 0        ┆ null    ┆ null         ┆ null        ┆ … ┆ null        ┆ null        ┆ true    ┆ null │\n",
       "│ 1        ┆ story   ┆ pg           ┆ 2006-10-09  ┆ … ┆ 15          ┆ [15,        ┆ null    ┆ null │\n",
       "│          ┆         ┆              ┆ 18:21:51    ┆   ┆             ┆ 234509, …   ┆         ┆      │\n",
       "│          ┆         ┆              ┆             ┆   ┆             ┆ 82729]      ┆         ┆      │\n",
       "│ 2        ┆ story   ┆ phyllis      ┆ 2006-10-09  ┆ … ┆ 0           ┆ null        ┆ null    ┆ null │\n",
       "│          ┆         ┆              ┆ 18:30:28    ┆   ┆             ┆             ┆         ┆      │\n",
       "│ 3        ┆ story   ┆ phyllis      ┆ 2006-10-09  ┆ … ┆ 0           ┆ [531602]    ┆ null    ┆ null │\n",
       "│          ┆         ┆              ┆ 18:40:33    ┆   ┆             ┆             ┆         ┆      │\n",
       "│ 4        ┆ story   ┆ onebeerdave  ┆ 2006-10-09  ┆ … ┆ 0           ┆ null        ┆ null    ┆ null │\n",
       "│          ┆         ┆              ┆ 18:47:42    ┆   ┆             ┆             ┆         ┆      │\n",
       "│ …        ┆ …       ┆ …            ┆ …           ┆ … ┆ …           ┆ …           ┆ …       ┆ …    │\n",
       "│ 41813380 ┆ comment ┆ slightwinder ┆ 2024-10-11  ┆ … ┆ null        ┆ null        ┆ null    ┆ null │\n",
       "│          ┆         ┆              ┆ 20:26:18    ┆   ┆             ┆             ┆         ┆      │\n",
       "│ 41813381 ┆ comment ┆ marcosdumay  ┆ 2024-10-11  ┆ … ┆ null        ┆ null        ┆ null    ┆ null │\n",
       "│          ┆         ┆              ┆ 20:26:21    ┆   ┆             ┆             ┆         ┆      │\n",
       "│ 41813382 ┆ story   ┆ turkeynecks  ┆ 2024-10-11  ┆ … ┆ 0           ┆ null        ┆ null    ┆ null │\n",
       "│          ┆         ┆              ┆ 20:26:24    ┆   ┆             ┆             ┆         ┆      │\n",
       "│ 41813383 ┆ comment ┆ davio        ┆ 2024-10-11  ┆ … ┆ null        ┆ null        ┆ null    ┆ null │\n",
       "│          ┆         ┆              ┆ 20:26:28    ┆   ┆             ┆             ┆         ┆      │\n",
       "│ 41813384 ┆ comment ┆ btilly       ┆ 2024-10-11  ┆ … ┆ null        ┆ null        ┆ null    ┆ null │\n",
       "│          ┆         ┆              ┆ 20:26:29    ┆   ┆             ┆             ┆         ┆      │\n",
       "└──────────┴─────────┴──────────────┴─────────────┴───┴─────────────┴─────────────┴─────────┴──────┘"
      ]
     },
     "execution_count": 1,
     "metadata": {},
     "output_type": "execute_result"
    }
   ],
   "source": [
    "import polars as pl\n",
    "from datasets import load_dataset, Dataset\n",
    "\n",
    "# Load the dataset from Huggingface\n",
    "dataset: Dataset = load_dataset(\"OpenPipe/hacker-news\", split=\"train\")\n",
    "\n",
    "# Convert the dataset to a Polars DataFrame\n",
    "df: pl.DataFrame = dataset.to_polars()\n",
    "\n",
    "del dataset\n",
    "\n",
    "df"
   ]
  },
  {
   "cell_type": "code",
   "execution_count": 2,
   "metadata": {},
   "outputs": [
    {
     "data": {
      "text/html": [
       "<div><style>\n",
       ".dataframe > thead > tr,\n",
       ".dataframe > tbody > tr {\n",
       "  text-align: right;\n",
       "  white-space: pre-wrap;\n",
       "}\n",
       "</style>\n",
       "<small>shape: (36_323_460, 15)</small><table border=\"1\" class=\"dataframe\"><thead><tr><th>id</th><th>type</th><th>by</th><th>time</th><th>title</th><th>text</th><th>url</th><th>score</th><th>parent</th><th>top_level_parent</th><th>descendants</th><th>kids</th><th>deleted</th><th>dead</th><th>siblings_count</th></tr><tr><td>i64</td><td>str</td><td>str</td><td>datetime[μs]</td><td>str</td><td>str</td><td>str</td><td>i64</td><td>i64</td><td>i64</td><td>i64</td><td>list[i64]</td><td>bool</td><td>bool</td><td>u32</td></tr></thead><tbody><tr><td>15</td><td>&quot;comment&quot;</td><td>&quot;sama&quot;</td><td>2006-10-09 19:51:01</td><td>null</td><td>&quot;&amp;#34;the rising star of ventur…</td><td>null</td><td>null</td><td>1</td><td>1</td><td>null</td><td>[17]</td><td>null</td><td>null</td><td>4</td></tr><tr><td>17</td><td>&quot;comment&quot;</td><td>&quot;pg&quot;</td><td>2006-10-09 19:52:45</td><td>null</td><td>&quot;Is there anywhere to eat on Sa…</td><td>null</td><td>null</td><td>15</td><td>1</td><td>null</td><td>[1079]</td><td>null</td><td>null</td><td>1</td></tr><tr><td>22</td><td>&quot;comment&quot;</td><td>&quot;pg&quot;</td><td>2006-10-10 02:18:22</td><td>null</td><td>&quot;It&#x27;s kind of funny that Sevin …</td><td>null</td><td>null</td><td>21</td><td>21</td><td>null</td><td>null</td><td>null</td><td>null</td><td>1</td></tr><tr><td>23</td><td>&quot;comment&quot;</td><td>&quot;starklysnarky&quot;</td><td>2006-10-10 02:30:53</td><td>null</td><td>&quot;This is interesting, but the l…</td><td>null</td><td>null</td><td>20</td><td>20</td><td>null</td><td>null</td><td>null</td><td>null</td><td>1</td></tr><tr><td>30</td><td>&quot;comment&quot;</td><td>&quot;spez&quot;</td><td>2006-10-10 15:34:59</td><td>null</td><td>&quot;Stay tuned...&quot;</td><td>null</td><td>null</td><td>29</td><td>29</td><td>null</td><td>[31]</td><td>null</td><td>null</td><td>1</td></tr><tr><td>&hellip;</td><td>&hellip;</td><td>&hellip;</td><td>&hellip;</td><td>&hellip;</td><td>&hellip;</td><td>&hellip;</td><td>&hellip;</td><td>&hellip;</td><td>&hellip;</td><td>&hellip;</td><td>&hellip;</td><td>&hellip;</td><td>&hellip;</td><td>&hellip;</td></tr><tr><td>41813379</td><td>&quot;comment&quot;</td><td>&quot;kbolino&quot;</td><td>2024-10-11 20:26:09</td><td>null</td><td>&quot;A non-blocking send would work…</td><td>null</td><td>null</td><td>41812752</td><td>41809262</td><td>null</td><td>null</td><td>null</td><td>null</td><td>1</td></tr><tr><td>41813380</td><td>&quot;comment&quot;</td><td>&quot;slightwinder&quot;</td><td>2024-10-11 20:26:18</td><td>null</td><td>&quot;&amp;gt; It genuinely astounds me …</td><td>null</td><td>null</td><td>41810691</td><td>41808943</td><td>null</td><td>null</td><td>null</td><td>null</td><td>4</td></tr><tr><td>41813381</td><td>&quot;comment&quot;</td><td>&quot;marcosdumay&quot;</td><td>2024-10-11 20:26:21</td><td>null</td><td>&quot;Add forced sedentarism into th…</td><td>null</td><td>null</td><td>41812891</td><td>41811263</td><td>null</td><td>null</td><td>null</td><td>null</td><td>1</td></tr><tr><td>41813383</td><td>&quot;comment&quot;</td><td>&quot;davio&quot;</td><td>2024-10-11 20:26:28</td><td>null</td><td>&quot;hims sells the generic version…</td><td>null</td><td>null</td><td>41813102</td><td>41811263</td><td>null</td><td>null</td><td>null</td><td>null</td><td>1</td></tr><tr><td>41813384</td><td>&quot;comment&quot;</td><td>&quot;btilly&quot;</td><td>2024-10-11 20:26:29</td><td>null</td><td>&quot;Well, if you want a simple arg…</td><td>null</td><td>null</td><td>41812134</td><td>41808127</td><td>null</td><td>null</td><td>null</td><td>null</td><td>1</td></tr></tbody></table></div>"
      ],
      "text/plain": [
       "shape: (36_323_460, 15)\n",
       "┌──────────┬─────────┬──────────────┬──────────────┬───┬───────────┬─────────┬──────┬──────────────┐\n",
       "│ id       ┆ type    ┆ by           ┆ time         ┆ … ┆ kids      ┆ deleted ┆ dead ┆ siblings_cou │\n",
       "│ ---      ┆ ---     ┆ ---          ┆ ---          ┆   ┆ ---       ┆ ---     ┆ ---  ┆ nt           │\n",
       "│ i64      ┆ str     ┆ str          ┆ datetime[μs] ┆   ┆ list[i64] ┆ bool    ┆ bool ┆ ---          │\n",
       "│          ┆         ┆              ┆              ┆   ┆           ┆         ┆      ┆ u32          │\n",
       "╞══════════╪═════════╪══════════════╪══════════════╪═══╪═══════════╪═════════╪══════╪══════════════╡\n",
       "│ 15       ┆ comment ┆ sama         ┆ 2006-10-09   ┆ … ┆ [17]      ┆ null    ┆ null ┆ 4            │\n",
       "│          ┆         ┆              ┆ 19:51:01     ┆   ┆           ┆         ┆      ┆              │\n",
       "│ 17       ┆ comment ┆ pg           ┆ 2006-10-09   ┆ … ┆ [1079]    ┆ null    ┆ null ┆ 1            │\n",
       "│          ┆         ┆              ┆ 19:52:45     ┆   ┆           ┆         ┆      ┆              │\n",
       "│ 22       ┆ comment ┆ pg           ┆ 2006-10-10   ┆ … ┆ null      ┆ null    ┆ null ┆ 1            │\n",
       "│          ┆         ┆              ┆ 02:18:22     ┆   ┆           ┆         ┆      ┆              │\n",
       "│ 23       ┆ comment ┆ starklysnark ┆ 2006-10-10   ┆ … ┆ null      ┆ null    ┆ null ┆ 1            │\n",
       "│          ┆         ┆ y            ┆ 02:30:53     ┆   ┆           ┆         ┆      ┆              │\n",
       "│ 30       ┆ comment ┆ spez         ┆ 2006-10-10   ┆ … ┆ [31]      ┆ null    ┆ null ┆ 1            │\n",
       "│          ┆         ┆              ┆ 15:34:59     ┆   ┆           ┆         ┆      ┆              │\n",
       "│ …        ┆ …       ┆ …            ┆ …            ┆ … ┆ …         ┆ …       ┆ …    ┆ …            │\n",
       "│ 41813379 ┆ comment ┆ kbolino      ┆ 2024-10-11   ┆ … ┆ null      ┆ null    ┆ null ┆ 1            │\n",
       "│          ┆         ┆              ┆ 20:26:09     ┆   ┆           ┆         ┆      ┆              │\n",
       "│ 41813380 ┆ comment ┆ slightwinder ┆ 2024-10-11   ┆ … ┆ null      ┆ null    ┆ null ┆ 4            │\n",
       "│          ┆         ┆              ┆ 20:26:18     ┆   ┆           ┆         ┆      ┆              │\n",
       "│ 41813381 ┆ comment ┆ marcosdumay  ┆ 2024-10-11   ┆ … ┆ null      ┆ null    ┆ null ┆ 1            │\n",
       "│          ┆         ┆              ┆ 20:26:21     ┆   ┆           ┆         ┆      ┆              │\n",
       "│ 41813383 ┆ comment ┆ davio        ┆ 2024-10-11   ┆ … ┆ null      ┆ null    ┆ null ┆ 1            │\n",
       "│          ┆         ┆              ┆ 20:26:28     ┆   ┆           ┆         ┆      ┆              │\n",
       "│ 41813384 ┆ comment ┆ btilly       ┆ 2024-10-11   ┆ … ┆ null      ┆ null    ┆ null ┆ 1            │\n",
       "│          ┆         ┆              ┆ 20:26:29     ┆   ┆           ┆         ┆      ┆              │\n",
       "└──────────┴─────────┴──────────────┴──────────────┴───┴───────────┴─────────┴──────┴──────────────┘"
      ]
     },
     "execution_count": 2,
     "metadata": {},
     "output_type": "execute_result"
    }
   ],
   "source": [
    "# Ok, I want to start by limiting to comments\n",
    "comments_df = df.filter(pl.col(\"type\") == \"comment\")\n",
    "\n",
    "\n",
    "# add a new column siblings_count\n",
    "comments_df = comments_df.with_columns(\n",
    "    [pl.col(\"id\").count().over(\"parent\").alias(\"siblings_count\")]\n",
    ")\n",
    "comments_df"
   ]
  },
  {
   "cell_type": "code",
   "execution_count": 3,
   "metadata": {},
   "outputs": [
    {
     "data": {
      "text/html": [
       "<div><style>\n",
       ".dataframe > thead > tr,\n",
       ".dataframe > tbody > tr {\n",
       "  text-align: right;\n",
       "  white-space: pre-wrap;\n",
       "}\n",
       "</style>\n",
       "<small>shape: (24_134_648, 15)</small><table border=\"1\" class=\"dataframe\"><thead><tr><th>id</th><th>type</th><th>by</th><th>time</th><th>title</th><th>text</th><th>url</th><th>score</th><th>parent</th><th>top_level_parent</th><th>descendants</th><th>kids</th><th>deleted</th><th>dead</th><th>siblings_count</th></tr><tr><td>i64</td><td>str</td><td>str</td><td>datetime[μs]</td><td>str</td><td>str</td><td>str</td><td>i64</td><td>i64</td><td>i64</td><td>i64</td><td>list[i64]</td><td>bool</td><td>bool</td><td>u32</td></tr></thead><tbody><tr><td>194</td><td>&quot;comment&quot;</td><td>&quot;jmzachary&quot;</td><td>2007-02-20 22:33:51</td><td>null</td><td>&quot;Thanks for the rationale. I&#x27;m …</td><td>null</td><td>null</td><td>189</td><td>189</td><td>null</td><td>[205, 422, 199]</td><td>null</td><td>null</td><td>20</td></tr><tr><td>195</td><td>&quot;comment&quot;</td><td>&quot;jdroid&quot;</td><td>2007-02-20 22:36:52</td><td>null</td><td>&quot;You&#x27;ve filled a hole reddit wa…</td><td>null</td><td>null</td><td>189</td><td>189</td><td>null</td><td>[259]</td><td>null</td><td>null</td><td>20</td></tr><tr><td>199</td><td>&quot;comment&quot;</td><td>&quot;Zak&quot;</td><td>2007-02-20 22:48:33</td><td>null</td><td>&quot;I don&#x27;t think the fact that th…</td><td>null</td><td>null</td><td>194</td><td>189</td><td>null</td><td>[1644, 1897]</td><td>null</td><td>null</td><td>3</td></tr><tr><td>205</td><td>&quot;comment&quot;</td><td>&quot;ninwa&quot;</td><td>2007-02-20 23:30:23</td><td>null</td><td>&quot;Really? I was most interested …</td><td>null</td><td>null</td><td>194</td><td>189</td><td>null</td><td>[210, 209]</td><td>null</td><td>null</td><td>3</td></tr><tr><td>209</td><td>&quot;comment&quot;</td><td>&quot;ninwa&quot;</td><td>2007-02-20 23:41:34</td><td>null</td><td>&quot;This comment added through the…</td><td>null</td><td>null</td><td>205</td><td>189</td><td>null</td><td>null</td><td>null</td><td>null</td><td>2</td></tr><tr><td>&hellip;</td><td>&hellip;</td><td>&hellip;</td><td>&hellip;</td><td>&hellip;</td><td>&hellip;</td><td>&hellip;</td><td>&hellip;</td><td>&hellip;</td><td>&hellip;</td><td>&hellip;</td><td>&hellip;</td><td>&hellip;</td><td>&hellip;</td><td>&hellip;</td></tr><tr><td>41813369</td><td>&quot;comment&quot;</td><td>&quot;whall6&quot;</td><td>2024-10-11 20:25:08</td><td>null</td><td>&quot;If you truly only have 5 minut…</td><td>null</td><td>null</td><td>41812596</td><td>41811263</td><td>null</td><td>null</td><td>null</td><td>null</td><td>1</td></tr><tr><td>41813371</td><td>&quot;comment&quot;</td><td>&quot;julianeon&quot;</td><td>2024-10-11 20:25:25</td><td>null</td><td>&quot;But consider the tradeoff: it&amp;…</td><td>null</td><td>null</td><td>41811539</td><td>41811263</td><td>null</td><td>null</td><td>null</td><td>null</td><td>13</td></tr><tr><td>41813375</td><td>&quot;comment&quot;</td><td>&quot;throw0101c&quot;</td><td>2024-10-11 20:25:51</td><td>null</td><td>&quot;&amp;gt; &lt;i&gt;There is so much coal.…</td><td>null</td><td>null</td><td>41811328</td><td>41807681</td><td>null</td><td>null</td><td>null</td><td>null</td><td>1</td></tr><tr><td>41813381</td><td>&quot;comment&quot;</td><td>&quot;marcosdumay&quot;</td><td>2024-10-11 20:26:21</td><td>null</td><td>&quot;Add forced sedentarism into th…</td><td>null</td><td>null</td><td>41812891</td><td>41811263</td><td>null</td><td>null</td><td>null</td><td>null</td><td>1</td></tr><tr><td>41813383</td><td>&quot;comment&quot;</td><td>&quot;davio&quot;</td><td>2024-10-11 20:26:28</td><td>null</td><td>&quot;hims sells the generic version…</td><td>null</td><td>null</td><td>41813102</td><td>41811263</td><td>null</td><td>null</td><td>null</td><td>null</td><td>1</td></tr></tbody></table></div>"
      ],
      "text/plain": [
       "shape: (24_134_648, 15)\n",
       "┌──────────┬─────────┬─────────────┬──────────────┬───┬─────────────┬─────────┬──────┬─────────────┐\n",
       "│ id       ┆ type    ┆ by          ┆ time         ┆ … ┆ kids        ┆ deleted ┆ dead ┆ siblings_co │\n",
       "│ ---      ┆ ---     ┆ ---         ┆ ---          ┆   ┆ ---         ┆ ---     ┆ ---  ┆ unt         │\n",
       "│ i64      ┆ str     ┆ str         ┆ datetime[μs] ┆   ┆ list[i64]   ┆ bool    ┆ bool ┆ ---         │\n",
       "│          ┆         ┆             ┆              ┆   ┆             ┆         ┆      ┆ u32         │\n",
       "╞══════════╪═════════╪═════════════╪══════════════╪═══╪═════════════╪═════════╪══════╪═════════════╡\n",
       "│ 194      ┆ comment ┆ jmzachary   ┆ 2007-02-20   ┆ … ┆ [205, 422,  ┆ null    ┆ null ┆ 20          │\n",
       "│          ┆         ┆             ┆ 22:33:51     ┆   ┆ 199]        ┆         ┆      ┆             │\n",
       "│ 195      ┆ comment ┆ jdroid      ┆ 2007-02-20   ┆ … ┆ [259]       ┆ null    ┆ null ┆ 20          │\n",
       "│          ┆         ┆             ┆ 22:36:52     ┆   ┆             ┆         ┆      ┆             │\n",
       "│ 199      ┆ comment ┆ Zak         ┆ 2007-02-20   ┆ … ┆ [1644,      ┆ null    ┆ null ┆ 3           │\n",
       "│          ┆         ┆             ┆ 22:48:33     ┆   ┆ 1897]       ┆         ┆      ┆             │\n",
       "│ 205      ┆ comment ┆ ninwa       ┆ 2007-02-20   ┆ … ┆ [210, 209]  ┆ null    ┆ null ┆ 3           │\n",
       "│          ┆         ┆             ┆ 23:30:23     ┆   ┆             ┆         ┆      ┆             │\n",
       "│ 209      ┆ comment ┆ ninwa       ┆ 2007-02-20   ┆ … ┆ null        ┆ null    ┆ null ┆ 2           │\n",
       "│          ┆         ┆             ┆ 23:41:34     ┆   ┆             ┆         ┆      ┆             │\n",
       "│ …        ┆ …       ┆ …           ┆ …            ┆ … ┆ …           ┆ …       ┆ …    ┆ …           │\n",
       "│ 41813369 ┆ comment ┆ whall6      ┆ 2024-10-11   ┆ … ┆ null        ┆ null    ┆ null ┆ 1           │\n",
       "│          ┆         ┆             ┆ 20:25:08     ┆   ┆             ┆         ┆      ┆             │\n",
       "│ 41813371 ┆ comment ┆ julianeon   ┆ 2024-10-11   ┆ … ┆ null        ┆ null    ┆ null ┆ 13          │\n",
       "│          ┆         ┆             ┆ 20:25:25     ┆   ┆             ┆         ┆      ┆             │\n",
       "│ 41813375 ┆ comment ┆ throw0101c  ┆ 2024-10-11   ┆ … ┆ null        ┆ null    ┆ null ┆ 1           │\n",
       "│          ┆         ┆             ┆ 20:25:51     ┆   ┆             ┆         ┆      ┆             │\n",
       "│ 41813381 ┆ comment ┆ marcosdumay ┆ 2024-10-11   ┆ … ┆ null        ┆ null    ┆ null ┆ 1           │\n",
       "│          ┆         ┆             ┆ 20:26:21     ┆   ┆             ┆         ┆      ┆             │\n",
       "│ 41813383 ┆ comment ┆ davio       ┆ 2024-10-11   ┆ … ┆ null        ┆ null    ┆ null ┆ 1           │\n",
       "│          ┆         ┆             ┆ 20:26:28     ┆   ┆             ┆         ┆      ┆             │\n",
       "└──────────┴─────────┴─────────────┴──────────────┴───┴─────────────┴─────────┴──────┴─────────────┘"
      ]
     },
     "execution_count": 3,
     "metadata": {},
     "output_type": "execute_result"
    }
   ],
   "source": [
    "stories_with_100_points = df.filter(pl.col(\"score\") >= 100)\n",
    "\n",
    "# filter comments_df to only include comments whose top_level_parent is in the stories_with_100_points dataframe\n",
    "comments_df = comments_df.filter(\n",
    "    pl.col(\"top_level_parent\").is_in(stories_with_100_points[\"id\"])\n",
    ")\n",
    "\n",
    "comments_df"
   ]
  },
  {
   "cell_type": "code",
   "execution_count": 4,
   "metadata": {},
   "outputs": [
    {
     "name": "stdout",
     "output_type": "stream",
     "text": [
      "The maximum sibling rank is: 1810\n",
      "The number of sibling ranks is: 36315132\n"
     ]
    },
    {
     "data": {
      "text/html": [
       "<div><style>\n",
       ".dataframe > thead > tr,\n",
       ".dataframe > tbody > tr {\n",
       "  text-align: right;\n",
       "  white-space: pre-wrap;\n",
       "}\n",
       "</style>\n",
       "<small>shape: (24_134_648, 16)</small><table border=\"1\" class=\"dataframe\"><thead><tr><th>id</th><th>type</th><th>by</th><th>time</th><th>title</th><th>text</th><th>url</th><th>score</th><th>parent</th><th>top_level_parent</th><th>descendants</th><th>kids</th><th>deleted</th><th>dead</th><th>siblings_count</th><th>sibling_rank</th></tr><tr><td>i64</td><td>str</td><td>str</td><td>datetime[μs]</td><td>str</td><td>str</td><td>str</td><td>i64</td><td>i64</td><td>i64</td><td>i64</td><td>list[i64]</td><td>bool</td><td>bool</td><td>u32</td><td>i64</td></tr></thead><tbody><tr><td>194</td><td>&quot;comment&quot;</td><td>&quot;jmzachary&quot;</td><td>2007-02-20 22:33:51</td><td>null</td><td>&quot;Thanks for the rationale. I&#x27;m …</td><td>null</td><td>null</td><td>189</td><td>189</td><td>null</td><td>[205, 422, 199]</td><td>null</td><td>null</td><td>20</td><td>13</td></tr><tr><td>195</td><td>&quot;comment&quot;</td><td>&quot;jdroid&quot;</td><td>2007-02-20 22:36:52</td><td>null</td><td>&quot;You&#x27;ve filled a hole reddit wa…</td><td>null</td><td>null</td><td>189</td><td>189</td><td>null</td><td>[259]</td><td>null</td><td>null</td><td>20</td><td>3</td></tr><tr><td>199</td><td>&quot;comment&quot;</td><td>&quot;Zak&quot;</td><td>2007-02-20 22:48:33</td><td>null</td><td>&quot;I don&#x27;t think the fact that th…</td><td>null</td><td>null</td><td>194</td><td>189</td><td>null</td><td>[1644, 1897]</td><td>null</td><td>null</td><td>3</td><td>3</td></tr><tr><td>205</td><td>&quot;comment&quot;</td><td>&quot;ninwa&quot;</td><td>2007-02-20 23:30:23</td><td>null</td><td>&quot;Really? I was most interested …</td><td>null</td><td>null</td><td>194</td><td>189</td><td>null</td><td>[210, 209]</td><td>null</td><td>null</td><td>3</td><td>1</td></tr><tr><td>209</td><td>&quot;comment&quot;</td><td>&quot;ninwa&quot;</td><td>2007-02-20 23:41:34</td><td>null</td><td>&quot;This comment added through the…</td><td>null</td><td>null</td><td>205</td><td>189</td><td>null</td><td>null</td><td>null</td><td>null</td><td>2</td><td>2</td></tr><tr><td>&hellip;</td><td>&hellip;</td><td>&hellip;</td><td>&hellip;</td><td>&hellip;</td><td>&hellip;</td><td>&hellip;</td><td>&hellip;</td><td>&hellip;</td><td>&hellip;</td><td>&hellip;</td><td>&hellip;</td><td>&hellip;</td><td>&hellip;</td><td>&hellip;</td><td>&hellip;</td></tr><tr><td>41813369</td><td>&quot;comment&quot;</td><td>&quot;whall6&quot;</td><td>2024-10-11 20:25:08</td><td>null</td><td>&quot;If you truly only have 5 minut…</td><td>null</td><td>null</td><td>41812596</td><td>41811263</td><td>null</td><td>null</td><td>null</td><td>null</td><td>1</td><td>1</td></tr><tr><td>41813371</td><td>&quot;comment&quot;</td><td>&quot;julianeon&quot;</td><td>2024-10-11 20:25:25</td><td>null</td><td>&quot;But consider the tradeoff: it&amp;…</td><td>null</td><td>null</td><td>41811539</td><td>41811263</td><td>null</td><td>null</td><td>null</td><td>null</td><td>13</td><td>1</td></tr><tr><td>41813375</td><td>&quot;comment&quot;</td><td>&quot;throw0101c&quot;</td><td>2024-10-11 20:25:51</td><td>null</td><td>&quot;&amp;gt; &lt;i&gt;There is so much coal.…</td><td>null</td><td>null</td><td>41811328</td><td>41807681</td><td>null</td><td>null</td><td>null</td><td>null</td><td>1</td><td>1</td></tr><tr><td>41813381</td><td>&quot;comment&quot;</td><td>&quot;marcosdumay&quot;</td><td>2024-10-11 20:26:21</td><td>null</td><td>&quot;Add forced sedentarism into th…</td><td>null</td><td>null</td><td>41812891</td><td>41811263</td><td>null</td><td>null</td><td>null</td><td>null</td><td>1</td><td>1</td></tr><tr><td>41813383</td><td>&quot;comment&quot;</td><td>&quot;davio&quot;</td><td>2024-10-11 20:26:28</td><td>null</td><td>&quot;hims sells the generic version…</td><td>null</td><td>null</td><td>41813102</td><td>41811263</td><td>null</td><td>null</td><td>null</td><td>null</td><td>1</td><td>1</td></tr></tbody></table></div>"
      ],
      "text/plain": [
       "shape: (24_134_648, 16)\n",
       "┌──────────┬─────────┬─────────────┬──────────────┬───┬─────────┬──────┬─────────────┬─────────────┐\n",
       "│ id       ┆ type    ┆ by          ┆ time         ┆ … ┆ deleted ┆ dead ┆ siblings_co ┆ sibling_ran │\n",
       "│ ---      ┆ ---     ┆ ---         ┆ ---          ┆   ┆ ---     ┆ ---  ┆ unt         ┆ k           │\n",
       "│ i64      ┆ str     ┆ str         ┆ datetime[μs] ┆   ┆ bool    ┆ bool ┆ ---         ┆ ---         │\n",
       "│          ┆         ┆             ┆              ┆   ┆         ┆      ┆ u32         ┆ i64         │\n",
       "╞══════════╪═════════╪═════════════╪══════════════╪═══╪═════════╪══════╪═════════════╪═════════════╡\n",
       "│ 194      ┆ comment ┆ jmzachary   ┆ 2007-02-20   ┆ … ┆ null    ┆ null ┆ 20          ┆ 13          │\n",
       "│          ┆         ┆             ┆ 22:33:51     ┆   ┆         ┆      ┆             ┆             │\n",
       "│ 195      ┆ comment ┆ jdroid      ┆ 2007-02-20   ┆ … ┆ null    ┆ null ┆ 20          ┆ 3           │\n",
       "│          ┆         ┆             ┆ 22:36:52     ┆   ┆         ┆      ┆             ┆             │\n",
       "│ 199      ┆ comment ┆ Zak         ┆ 2007-02-20   ┆ … ┆ null    ┆ null ┆ 3           ┆ 3           │\n",
       "│          ┆         ┆             ┆ 22:48:33     ┆   ┆         ┆      ┆             ┆             │\n",
       "│ 205      ┆ comment ┆ ninwa       ┆ 2007-02-20   ┆ … ┆ null    ┆ null ┆ 3           ┆ 1           │\n",
       "│          ┆         ┆             ┆ 23:30:23     ┆   ┆         ┆      ┆             ┆             │\n",
       "│ 209      ┆ comment ┆ ninwa       ┆ 2007-02-20   ┆ … ┆ null    ┆ null ┆ 2           ┆ 2           │\n",
       "│          ┆         ┆             ┆ 23:41:34     ┆   ┆         ┆      ┆             ┆             │\n",
       "│ …        ┆ …       ┆ …           ┆ …            ┆ … ┆ …       ┆ …    ┆ …           ┆ …           │\n",
       "│ 41813369 ┆ comment ┆ whall6      ┆ 2024-10-11   ┆ … ┆ null    ┆ null ┆ 1           ┆ 1           │\n",
       "│          ┆         ┆             ┆ 20:25:08     ┆   ┆         ┆      ┆             ┆             │\n",
       "│ 41813371 ┆ comment ┆ julianeon   ┆ 2024-10-11   ┆ … ┆ null    ┆ null ┆ 13          ┆ 1           │\n",
       "│          ┆         ┆             ┆ 20:25:25     ┆   ┆         ┆      ┆             ┆             │\n",
       "│ 41813375 ┆ comment ┆ throw0101c  ┆ 2024-10-11   ┆ … ┆ null    ┆ null ┆ 1           ┆ 1           │\n",
       "│          ┆         ┆             ┆ 20:25:51     ┆   ┆         ┆      ┆             ┆             │\n",
       "│ 41813381 ┆ comment ┆ marcosdumay ┆ 2024-10-11   ┆ … ┆ null    ┆ null ┆ 1           ┆ 1           │\n",
       "│          ┆         ┆             ┆ 20:26:21     ┆   ┆         ┆      ┆             ┆             │\n",
       "│ 41813383 ┆ comment ┆ davio       ┆ 2024-10-11   ┆ … ┆ null    ┆ null ┆ 1           ┆ 1           │\n",
       "│          ┆         ┆             ┆ 20:26:28     ┆   ┆         ┆      ┆             ┆             │\n",
       "└──────────┴─────────┴─────────────┴──────────────┴───┴─────────┴──────┴─────────────┴─────────────┘"
      ]
     },
     "execution_count": 4,
     "metadata": {},
     "output_type": "execute_result"
    }
   ],
   "source": [
    "sibling_ranks = dict()\n",
    "\n",
    "# iterate over the rows of the dataframe\n",
    "for groupable_comment in df.select(pl.col(\"kids\")).iter_rows():\n",
    "    kids = groupable_comment[0]\n",
    "    if kids is not None:\n",
    "        for i, kid in enumerate(kids):\n",
    "            sibling_ranks[kid] = i + 1\n",
    "\n",
    "# Find the maximum value in the sibling_ranks dictionary\n",
    "max_sibling_rank = max(sibling_ranks.values())\n",
    "\n",
    "# Print the maximum value\n",
    "print(f\"The maximum sibling rank is: {max_sibling_rank}\")\n",
    "print(f\"The number of sibling ranks is: {len(sibling_ranks)}\")\n",
    "\n",
    "comments_df = comments_df.with_columns(\n",
    "    [\n",
    "        pl.col(\"id\")\n",
    "        .replace_strict(\n",
    "            list(sibling_ranks.keys()), list(sibling_ranks.values()), default=-1\n",
    "        )\n",
    "        .alias(\"sibling_rank\")\n",
    "    ]\n",
    ")\n",
    "del sibling_ranks\n",
    "\n",
    "comments_df"
   ]
  },
  {
   "cell_type": "code",
   "execution_count": 5,
   "metadata": {},
   "outputs": [
    {
     "name": "stdout",
     "output_type": "stream",
     "text": [
      "Iteration 1, current length: 533314\n",
      "Iteration 2, current length: 1614377\n",
      "Iteration 3, current length: 2828828\n",
      "Iteration 4, current length: 3874258\n",
      "Iteration 5, current length: 4636895\n",
      "Iteration 6, current length: 5139157\n"
     ]
    },
    {
     "data": {
      "text/html": [
       "<div><style>\n",
       ".dataframe > thead > tr,\n",
       ".dataframe > tbody > tr {\n",
       "  text-align: right;\n",
       "  white-space: pre-wrap;\n",
       "}\n",
       "</style>\n",
       "<small>shape: (5_445_792, 16)</small><table border=\"1\" class=\"dataframe\"><thead><tr><th>id</th><th>type</th><th>by</th><th>time</th><th>title</th><th>text</th><th>url</th><th>score</th><th>parent</th><th>top_level_parent</th><th>descendants</th><th>kids</th><th>deleted</th><th>dead</th><th>siblings_count</th><th>sibling_rank</th></tr><tr><td>i64</td><td>str</td><td>str</td><td>datetime[μs]</td><td>str</td><td>str</td><td>str</td><td>i64</td><td>i64</td><td>i64</td><td>i64</td><td>list[i64]</td><td>bool</td><td>bool</td><td>u32</td><td>i64</td></tr></thead><tbody><tr><td>195</td><td>&quot;comment&quot;</td><td>&quot;jdroid&quot;</td><td>2007-02-20 22:36:52</td><td>null</td><td>&quot;You&#x27;ve filled a hole reddit wa…</td><td>null</td><td>null</td><td>189</td><td>189</td><td>null</td><td>[259]</td><td>null</td><td>null</td><td>20</td><td>3</td></tr><tr><td>259</td><td>&quot;comment&quot;</td><td>&quot;whatsreal&quot;</td><td>2007-02-21 06:18:50</td><td>null</td><td>&quot;HaHa!  Yes thank you Paul, I w…</td><td>null</td><td>null</td><td>195</td><td>189</td><td>null</td><td>[453, 7198]</td><td>null</td><td>null</td><td>1</td><td>1</td></tr><tr><td>287</td><td>&quot;comment&quot;</td><td>&quot;ced&quot;</td><td>2007-02-21 09:08:16</td><td>null</td><td>&quot;Since community-building is pa…</td><td>null</td><td>null</td><td>189</td><td>189</td><td>null</td><td>[365]</td><td>null</td><td>null</td><td>20</td><td>2</td></tr><tr><td>353</td><td>&quot;comment&quot;</td><td>&quot;jhenzie&quot;</td><td>2007-02-21 18:47:34</td><td>null</td><td>&quot;Paul, \r\n",
       "\r\n",
       "can we play with arc…</td><td>null</td><td>null</td><td>189</td><td>189</td><td>null</td><td>[7199]</td><td>null</td><td>null</td><td>20</td><td>1</td></tr><tr><td>365</td><td>&quot;comment&quot;</td><td>&quot;jdroid&quot;</td><td>2007-02-21 19:25:14</td><td>null</td><td>&quot;If I bought yspace.com would y…</td><td>null</td><td>null</td><td>287</td><td>189</td><td>null</td><td>null</td><td>null</td><td>null</td><td>1</td><td>1</td></tr><tr><td>&hellip;</td><td>&hellip;</td><td>&hellip;</td><td>&hellip;</td><td>&hellip;</td><td>&hellip;</td><td>&hellip;</td><td>&hellip;</td><td>&hellip;</td><td>&hellip;</td><td>&hellip;</td><td>&hellip;</td><td>&hellip;</td><td>&hellip;</td><td>&hellip;</td><td>&hellip;</td></tr><tr><td>41813352</td><td>&quot;comment&quot;</td><td>&quot;dullcrisp&quot;</td><td>2024-10-11 20:22:59</td><td>null</td><td>&quot;A &lt;i&gt;scrappy&lt;/i&gt; marketing tea…</td><td>null</td><td>null</td><td>41813266</td><td>41811263</td><td>null</td><td>null</td><td>null</td><td>null</td><td>1</td><td>1</td></tr><tr><td>41813354</td><td>&quot;comment&quot;</td><td>&quot;ragnese&quot;</td><td>2024-10-11 20:23:06</td><td>null</td><td>&quot;It was only true that Chrome w…</td><td>null</td><td>null</td><td>41813112</td><td>41809698</td><td>null</td><td>null</td><td>null</td><td>null</td><td>1</td><td>1</td></tr><tr><td>41813362</td><td>&quot;comment&quot;</td><td>&quot;layer8&quot;</td><td>2024-10-11 20:23:58</td><td>null</td><td>&quot;It’s not simply a limitation i…</td><td>null</td><td>null</td><td>41812523</td><td>41812523</td><td>null</td><td>null</td><td>null</td><td>null</td><td>31</td><td>3</td></tr><tr><td>41813363</td><td>&quot;comment&quot;</td><td>&quot;nightski&quot;</td><td>2024-10-11 20:24:07</td><td>null</td><td>&quot;Nothing &amp;quot;needs&amp;quot; to h…</td><td>null</td><td>null</td><td>41812696</td><td>41811263</td><td>null</td><td>null</td><td>null</td><td>null</td><td>1</td><td>1</td></tr><tr><td>41813368</td><td>&quot;comment&quot;</td><td>null</td><td>2024-10-11 20:24:58</td><td>null</td><td>null</td><td>null</td><td>null</td><td>41813116</td><td>41811263</td><td>null</td><td>null</td><td>true</td><td>null</td><td>1</td><td>1</td></tr></tbody></table></div>"
      ],
      "text/plain": [
       "shape: (5_445_792, 16)\n",
       "┌──────────┬─────────┬───────────┬──────────────┬───┬─────────┬──────┬──────────────┬──────────────┐\n",
       "│ id       ┆ type    ┆ by        ┆ time         ┆ … ┆ deleted ┆ dead ┆ siblings_cou ┆ sibling_rank │\n",
       "│ ---      ┆ ---     ┆ ---       ┆ ---          ┆   ┆ ---     ┆ ---  ┆ nt           ┆ ---          │\n",
       "│ i64      ┆ str     ┆ str       ┆ datetime[μs] ┆   ┆ bool    ┆ bool ┆ ---          ┆ i64          │\n",
       "│          ┆         ┆           ┆              ┆   ┆         ┆      ┆ u32          ┆              │\n",
       "╞══════════╪═════════╪═══════════╪══════════════╪═══╪═════════╪══════╪══════════════╪══════════════╡\n",
       "│ 195      ┆ comment ┆ jdroid    ┆ 2007-02-20   ┆ … ┆ null    ┆ null ┆ 20           ┆ 3            │\n",
       "│          ┆         ┆           ┆ 22:36:52     ┆   ┆         ┆      ┆              ┆              │\n",
       "│ 259      ┆ comment ┆ whatsreal ┆ 2007-02-21   ┆ … ┆ null    ┆ null ┆ 1            ┆ 1            │\n",
       "│          ┆         ┆           ┆ 06:18:50     ┆   ┆         ┆      ┆              ┆              │\n",
       "│ 287      ┆ comment ┆ ced       ┆ 2007-02-21   ┆ … ┆ null    ┆ null ┆ 20           ┆ 2            │\n",
       "│          ┆         ┆           ┆ 09:08:16     ┆   ┆         ┆      ┆              ┆              │\n",
       "│ 353      ┆ comment ┆ jhenzie   ┆ 2007-02-21   ┆ … ┆ null    ┆ null ┆ 20           ┆ 1            │\n",
       "│          ┆         ┆           ┆ 18:47:34     ┆   ┆         ┆      ┆              ┆              │\n",
       "│ 365      ┆ comment ┆ jdroid    ┆ 2007-02-21   ┆ … ┆ null    ┆ null ┆ 1            ┆ 1            │\n",
       "│          ┆         ┆           ┆ 19:25:14     ┆   ┆         ┆      ┆              ┆              │\n",
       "│ …        ┆ …       ┆ …         ┆ …            ┆ … ┆ …       ┆ …    ┆ …            ┆ …            │\n",
       "│ 41813352 ┆ comment ┆ dullcrisp ┆ 2024-10-11   ┆ … ┆ null    ┆ null ┆ 1            ┆ 1            │\n",
       "│          ┆         ┆           ┆ 20:22:59     ┆   ┆         ┆      ┆              ┆              │\n",
       "│ 41813354 ┆ comment ┆ ragnese   ┆ 2024-10-11   ┆ … ┆ null    ┆ null ┆ 1            ┆ 1            │\n",
       "│          ┆         ┆           ┆ 20:23:06     ┆   ┆         ┆      ┆              ┆              │\n",
       "│ 41813362 ┆ comment ┆ layer8    ┆ 2024-10-11   ┆ … ┆ null    ┆ null ┆ 31           ┆ 3            │\n",
       "│          ┆         ┆           ┆ 20:23:58     ┆   ┆         ┆      ┆              ┆              │\n",
       "│ 41813363 ┆ comment ┆ nightski  ┆ 2024-10-11   ┆ … ┆ null    ┆ null ┆ 1            ┆ 1            │\n",
       "│          ┆         ┆           ┆ 20:24:07     ┆   ┆         ┆      ┆              ┆              │\n",
       "│ 41813368 ┆ comment ┆ null      ┆ 2024-10-11   ┆ … ┆ true    ┆ null ┆ 1            ┆ 1            │\n",
       "│          ┆         ┆           ┆ 20:24:58     ┆   ┆         ┆      ┆              ┆              │\n",
       "└──────────┴─────────┴───────────┴──────────────┴───┴─────────┴──────┴──────────────┴──────────────┘"
      ]
     },
     "execution_count": 5,
     "metadata": {},
     "output_type": "execute_result"
    }
   ],
   "source": [
    "# Let's limit to comments for which all of their parents have a sibling rank <=\n",
    "# 3. If a comment isn't in the top 3 of its parent it's less likely to have been\n",
    "# read and upvoted by enough people to form a representative sample.\n",
    "\n",
    "# We'll iteratively add comments with sibling_rank <= 3 up to 6 iterations.\n",
    "\n",
    "filtered_comments_df = comments_df.filter(\n",
    "    (pl.col(\"sibling_rank\") <= 3) & (pl.col(\"parent\").eq(pl.col(\"top_level_parent\")))\n",
    ")\n",
    "\n",
    "for iteration in range(6):\n",
    "    print(f\"Iteration {iteration + 1}, current length: {len(filtered_comments_df)}\")\n",
    "    new_filtered_comments_df = comments_df.filter(\n",
    "        (\n",
    "            (pl.col(\"sibling_rank\") <= 3)\n",
    "            & (pl.col(\"parent\").is_in(filtered_comments_df[\"id\"]))\n",
    "        )\n",
    "        | (pl.col(\"id\").is_in(filtered_comments_df[\"id\"]))\n",
    "    )\n",
    "\n",
    "    if len(new_filtered_comments_df) == len(filtered_comments_df):\n",
    "        break\n",
    "\n",
    "    filtered_comments_df = new_filtered_comments_df\n",
    "\n",
    "comments_df = filtered_comments_df\n",
    "\n",
    "del filtered_comments_df\n",
    "comments_df"
   ]
  },
  {
   "cell_type": "code",
   "execution_count": 6,
   "metadata": {},
   "outputs": [
    {
     "data": {
      "text/html": [
       "<div><style>\n",
       ".dataframe > thead > tr,\n",
       ".dataframe > tbody > tr {\n",
       "  text-align: right;\n",
       "  white-space: pre-wrap;\n",
       "}\n",
       "</style>\n",
       "<small>shape: (1_109_206, 16)</small><table border=\"1\" class=\"dataframe\"><thead><tr><th>id</th><th>type</th><th>by</th><th>time</th><th>title</th><th>text</th><th>url</th><th>score</th><th>parent</th><th>top_level_parent</th><th>descendants</th><th>kids</th><th>deleted</th><th>dead</th><th>siblings_count</th><th>sibling_rank</th></tr><tr><td>i64</td><td>str</td><td>str</td><td>datetime[μs]</td><td>str</td><td>str</td><td>str</td><td>i64</td><td>i64</td><td>i64</td><td>i64</td><td>list[i64]</td><td>bool</td><td>bool</td><td>u32</td><td>i64</td></tr></thead><tbody><tr><td>195</td><td>&quot;comment&quot;</td><td>&quot;jdroid&quot;</td><td>2007-02-20 22:36:52</td><td>null</td><td>&quot;You&#x27;ve filled a hole reddit wa…</td><td>null</td><td>null</td><td>189</td><td>189</td><td>null</td><td>[259]</td><td>null</td><td>null</td><td>20</td><td>3</td></tr><tr><td>287</td><td>&quot;comment&quot;</td><td>&quot;ced&quot;</td><td>2007-02-21 09:08:16</td><td>null</td><td>&quot;Since community-building is pa…</td><td>null</td><td>null</td><td>189</td><td>189</td><td>null</td><td>[365]</td><td>null</td><td>null</td><td>20</td><td>2</td></tr><tr><td>353</td><td>&quot;comment&quot;</td><td>&quot;jhenzie&quot;</td><td>2007-02-21 18:47:34</td><td>null</td><td>&quot;Paul, \r\n",
       "\r\n",
       "can we play with arc…</td><td>null</td><td>null</td><td>189</td><td>189</td><td>null</td><td>[7199]</td><td>null</td><td>null</td><td>20</td><td>1</td></tr><tr><td>27552</td><td>&quot;comment&quot;</td><td>&quot;pg&quot;</td><td>2007-06-12 19:02:46</td><td>null</td><td>&quot;Don&#x27;t worry, I&#x27;m not going to …</td><td>null</td><td>null</td><td>27550</td><td>27550</td><td>null</td><td>[28315, 27559, … 28523]</td><td>null</td><td>null</td><td>7</td><td>1</td></tr><tr><td>27560</td><td>&quot;comment&quot;</td><td>&quot;danielha&quot;</td><td>2007-06-12 19:15:56</td><td>null</td><td>&quot;Prediction: this submission re…</td><td>null</td><td>null</td><td>27550</td><td>27550</td><td>null</td><td>[28098]</td><td>null</td><td>null</td><td>7</td><td>2</td></tr><tr><td>&hellip;</td><td>&hellip;</td><td>&hellip;</td><td>&hellip;</td><td>&hellip;</td><td>&hellip;</td><td>&hellip;</td><td>&hellip;</td><td>&hellip;</td><td>&hellip;</td><td>&hellip;</td><td>&hellip;</td><td>&hellip;</td><td>&hellip;</td><td>&hellip;</td><td>&hellip;</td></tr><tr><td>41812977</td><td>&quot;comment&quot;</td><td>&quot;shadowgovt&quot;</td><td>2024-10-11 19:50:42</td><td>null</td><td>&quot;Their incentive is really to m…</td><td>null</td><td>null</td><td>41810118</td><td>41809698</td><td>null</td><td>null</td><td>null</td><td>null</td><td>7</td><td>-1</td></tr><tr><td>41813078</td><td>&quot;comment&quot;</td><td>&quot;itronitron&quot;</td><td>2024-10-11 19:59:06</td><td>null</td><td>&quot;This is the type of comment th…</td><td>null</td><td>null</td><td>41812493</td><td>41811263</td><td>null</td><td>[41813116, 41813266]</td><td>null</td><td>null</td><td>9</td><td>3</td></tr><tr><td>41813079</td><td>&quot;comment&quot;</td><td>&quot;ragnese&quot;</td><td>2024-10-11 19:59:16</td><td>null</td><td>&quot;The vast, &lt;i&gt;vast&lt;/i&gt;, majorit…</td><td>null</td><td>null</td><td>41809962</td><td>41809698</td><td>null</td><td>null</td><td>null</td><td>null</td><td>12</td><td>-1</td></tr><tr><td>41813239</td><td>&quot;comment&quot;</td><td>&quot;glenstein&quot;</td><td>2024-10-11 20:13:25</td><td>null</td><td>&quot;I think this is such a helpful…</td><td>null</td><td>null</td><td>41812493</td><td>41811263</td><td>null</td><td>null</td><td>null</td><td>null</td><td>9</td><td>2</td></tr><tr><td>41813277</td><td>&quot;comment&quot;</td><td>&quot;ohples&quot;</td><td>2024-10-11 20:16:05</td><td>null</td><td>&quot;But will it support Login.gov?&quot;</td><td>null</td><td>null</td><td>41737653</td><td>41737653</td><td>null</td><td>null</td><td>null</td><td>null</td><td>11</td><td>-1</td></tr></tbody></table></div>"
      ],
      "text/plain": [
       "shape: (1_109_206, 16)\n",
       "┌──────────┬─────────┬────────────┬──────────────┬───┬─────────┬──────┬──────────────┬─────────────┐\n",
       "│ id       ┆ type    ┆ by         ┆ time         ┆ … ┆ deleted ┆ dead ┆ siblings_cou ┆ sibling_ran │\n",
       "│ ---      ┆ ---     ┆ ---        ┆ ---          ┆   ┆ ---     ┆ ---  ┆ nt           ┆ k           │\n",
       "│ i64      ┆ str     ┆ str        ┆ datetime[μs] ┆   ┆ bool    ┆ bool ┆ ---          ┆ ---         │\n",
       "│          ┆         ┆            ┆              ┆   ┆         ┆      ┆ u32          ┆ i64         │\n",
       "╞══════════╪═════════╪════════════╪══════════════╪═══╪═════════╪══════╪══════════════╪═════════════╡\n",
       "│ 195      ┆ comment ┆ jdroid     ┆ 2007-02-20   ┆ … ┆ null    ┆ null ┆ 20           ┆ 3           │\n",
       "│          ┆         ┆            ┆ 22:36:52     ┆   ┆         ┆      ┆              ┆             │\n",
       "│ 287      ┆ comment ┆ ced        ┆ 2007-02-21   ┆ … ┆ null    ┆ null ┆ 20           ┆ 2           │\n",
       "│          ┆         ┆            ┆ 09:08:16     ┆   ┆         ┆      ┆              ┆             │\n",
       "│ 353      ┆ comment ┆ jhenzie    ┆ 2007-02-21   ┆ … ┆ null    ┆ null ┆ 20           ┆ 1           │\n",
       "│          ┆         ┆            ┆ 18:47:34     ┆   ┆         ┆      ┆              ┆             │\n",
       "│ 27552    ┆ comment ┆ pg         ┆ 2007-06-12   ┆ … ┆ null    ┆ null ┆ 7            ┆ 1           │\n",
       "│          ┆         ┆            ┆ 19:02:46     ┆   ┆         ┆      ┆              ┆             │\n",
       "│ 27560    ┆ comment ┆ danielha   ┆ 2007-06-12   ┆ … ┆ null    ┆ null ┆ 7            ┆ 2           │\n",
       "│          ┆         ┆            ┆ 19:15:56     ┆   ┆         ┆      ┆              ┆             │\n",
       "│ …        ┆ …       ┆ …          ┆ …            ┆ … ┆ …       ┆ …    ┆ …            ┆ …           │\n",
       "│ 41812977 ┆ comment ┆ shadowgovt ┆ 2024-10-11   ┆ … ┆ null    ┆ null ┆ 7            ┆ -1          │\n",
       "│          ┆         ┆            ┆ 19:50:42     ┆   ┆         ┆      ┆              ┆             │\n",
       "│ 41813078 ┆ comment ┆ itronitron ┆ 2024-10-11   ┆ … ┆ null    ┆ null ┆ 9            ┆ 3           │\n",
       "│          ┆         ┆            ┆ 19:59:06     ┆   ┆         ┆      ┆              ┆             │\n",
       "│ 41813079 ┆ comment ┆ ragnese    ┆ 2024-10-11   ┆ … ┆ null    ┆ null ┆ 12           ┆ -1          │\n",
       "│          ┆         ┆            ┆ 19:59:16     ┆   ┆         ┆      ┆              ┆             │\n",
       "│ 41813239 ┆ comment ┆ glenstein  ┆ 2024-10-11   ┆ … ┆ null    ┆ null ┆ 9            ┆ 2           │\n",
       "│          ┆         ┆            ┆ 20:13:25     ┆   ┆         ┆      ┆              ┆             │\n",
       "│ 41813277 ┆ comment ┆ ohples     ┆ 2024-10-11   ┆ … ┆ null    ┆ null ┆ 11           ┆ -1          │\n",
       "│          ┆         ┆            ┆ 20:16:05     ┆   ┆         ┆      ┆              ┆             │\n",
       "└──────────┴─────────┴────────────┴──────────────┴───┴─────────┴──────┴──────────────┴─────────────┘"
      ]
     },
     "execution_count": 6,
     "metadata": {},
     "output_type": "execute_result"
    }
   ],
   "source": [
    "# limit all comments to ones that have at least 5 siblings and fewer than 25\n",
    "# siblings. If there are more than 25 I don't trust the peoples' votes since\n",
    "# they probably haven't had time to read all of them.\n",
    "comments_df = comments_df.filter(\n",
    "    (pl.col(\"siblings_count\") >= 5) & (pl.col(\"siblings_count\") < 25)\n",
    ")\n",
    "\n",
    "comments_df"
   ]
  },
  {
   "cell_type": "code",
   "execution_count": 7,
   "metadata": {},
   "outputs": [
    {
     "data": {
      "text/html": [
       "<div><style>\n",
       ".dataframe > thead > tr,\n",
       ".dataframe > tbody > tr {\n",
       "  text-align: right;\n",
       "  white-space: pre-wrap;\n",
       "}\n",
       "</style>\n",
       "<small>shape: (1_104_098, 16)</small><table border=\"1\" class=\"dataframe\"><thead><tr><th>id</th><th>type</th><th>by</th><th>time</th><th>title</th><th>text</th><th>url</th><th>score</th><th>parent</th><th>top_level_parent</th><th>descendants</th><th>kids</th><th>deleted</th><th>dead</th><th>siblings_count</th><th>sibling_rank</th></tr><tr><td>i64</td><td>str</td><td>str</td><td>datetime[μs]</td><td>str</td><td>str</td><td>str</td><td>i64</td><td>i64</td><td>i64</td><td>i64</td><td>list[i64]</td><td>bool</td><td>bool</td><td>u32</td><td>i64</td></tr></thead><tbody><tr><td>195</td><td>&quot;comment&quot;</td><td>&quot;jdroid&quot;</td><td>2007-02-20 22:36:52</td><td>null</td><td>&quot;You&#x27;ve filled a hole reddit wa…</td><td>null</td><td>null</td><td>189</td><td>189</td><td>null</td><td>[259]</td><td>null</td><td>null</td><td>20</td><td>3</td></tr><tr><td>287</td><td>&quot;comment&quot;</td><td>&quot;ced&quot;</td><td>2007-02-21 09:08:16</td><td>null</td><td>&quot;Since community-building is pa…</td><td>null</td><td>null</td><td>189</td><td>189</td><td>null</td><td>[365]</td><td>null</td><td>null</td><td>20</td><td>2</td></tr><tr><td>353</td><td>&quot;comment&quot;</td><td>&quot;jhenzie&quot;</td><td>2007-02-21 18:47:34</td><td>null</td><td>&quot;Paul, \r\n",
       "\r\n",
       "can we play with arc…</td><td>null</td><td>null</td><td>189</td><td>189</td><td>null</td><td>[7199]</td><td>null</td><td>null</td><td>20</td><td>1</td></tr><tr><td>27552</td><td>&quot;comment&quot;</td><td>&quot;pg&quot;</td><td>2007-06-12 19:02:46</td><td>null</td><td>&quot;Don&#x27;t worry, I&#x27;m not going to …</td><td>null</td><td>null</td><td>27550</td><td>27550</td><td>null</td><td>[28315, 27559, … 28523]</td><td>null</td><td>null</td><td>7</td><td>1</td></tr><tr><td>27560</td><td>&quot;comment&quot;</td><td>&quot;danielha&quot;</td><td>2007-06-12 19:15:56</td><td>null</td><td>&quot;Prediction: this submission re…</td><td>null</td><td>null</td><td>27550</td><td>27550</td><td>null</td><td>[28098]</td><td>null</td><td>null</td><td>7</td><td>2</td></tr><tr><td>&hellip;</td><td>&hellip;</td><td>&hellip;</td><td>&hellip;</td><td>&hellip;</td><td>&hellip;</td><td>&hellip;</td><td>&hellip;</td><td>&hellip;</td><td>&hellip;</td><td>&hellip;</td><td>&hellip;</td><td>&hellip;</td><td>&hellip;</td><td>&hellip;</td><td>&hellip;</td></tr><tr><td>41812565</td><td>&quot;comment&quot;</td><td>&quot;vessenes&quot;</td><td>2024-10-11 19:14:29</td><td>null</td><td>&quot;Tirzepatide and Semaglutide ar…</td><td>null</td><td>null</td><td>41812493</td><td>41811263</td><td>null</td><td>[41812815]</td><td>null</td><td>null</td><td>9</td><td>1</td></tr><tr><td>41812643</td><td>&quot;comment&quot;</td><td>&quot;squidlogic&quot;</td><td>2024-10-11 19:23:13</td><td>null</td><td>&quot;In my experience fitness is le…</td><td>null</td><td>null</td><td>41812339</td><td>41811263</td><td>null</td><td>[41812886, 41812696, … 41813092]</td><td>null</td><td>null</td><td>6</td><td>1</td></tr><tr><td>41812717</td><td>&quot;comment&quot;</td><td>&quot;jrflowers&quot;</td><td>2024-10-11 19:29:53</td><td>null</td><td>&quot;&amp;gt; People in the 50s weren&amp;#…</td><td>null</td><td>null</td><td>41812339</td><td>41811263</td><td>null</td><td>[41813315, 41812727]</td><td>null</td><td>null</td><td>6</td><td>3</td></tr><tr><td>41813078</td><td>&quot;comment&quot;</td><td>&quot;itronitron&quot;</td><td>2024-10-11 19:59:06</td><td>null</td><td>&quot;This is the type of comment th…</td><td>null</td><td>null</td><td>41812493</td><td>41811263</td><td>null</td><td>[41813116, 41813266]</td><td>null</td><td>null</td><td>9</td><td>3</td></tr><tr><td>41813239</td><td>&quot;comment&quot;</td><td>&quot;glenstein&quot;</td><td>2024-10-11 20:13:25</td><td>null</td><td>&quot;I think this is such a helpful…</td><td>null</td><td>null</td><td>41812493</td><td>41811263</td><td>null</td><td>null</td><td>null</td><td>null</td><td>9</td><td>2</td></tr></tbody></table></div>"
      ],
      "text/plain": [
       "shape: (1_104_098, 16)\n",
       "┌──────────┬─────────┬────────────┬──────────────┬───┬─────────┬──────┬──────────────┬─────────────┐\n",
       "│ id       ┆ type    ┆ by         ┆ time         ┆ … ┆ deleted ┆ dead ┆ siblings_cou ┆ sibling_ran │\n",
       "│ ---      ┆ ---     ┆ ---        ┆ ---          ┆   ┆ ---     ┆ ---  ┆ nt           ┆ k           │\n",
       "│ i64      ┆ str     ┆ str        ┆ datetime[μs] ┆   ┆ bool    ┆ bool ┆ ---          ┆ ---         │\n",
       "│          ┆         ┆            ┆              ┆   ┆         ┆      ┆ u32          ┆ i64         │\n",
       "╞══════════╪═════════╪════════════╪══════════════╪═══╪═════════╪══════╪══════════════╪═════════════╡\n",
       "│ 195      ┆ comment ┆ jdroid     ┆ 2007-02-20   ┆ … ┆ null    ┆ null ┆ 20           ┆ 3           │\n",
       "│          ┆         ┆            ┆ 22:36:52     ┆   ┆         ┆      ┆              ┆             │\n",
       "│ 287      ┆ comment ┆ ced        ┆ 2007-02-21   ┆ … ┆ null    ┆ null ┆ 20           ┆ 2           │\n",
       "│          ┆         ┆            ┆ 09:08:16     ┆   ┆         ┆      ┆              ┆             │\n",
       "│ 353      ┆ comment ┆ jhenzie    ┆ 2007-02-21   ┆ … ┆ null    ┆ null ┆ 20           ┆ 1           │\n",
       "│          ┆         ┆            ┆ 18:47:34     ┆   ┆         ┆      ┆              ┆             │\n",
       "│ 27552    ┆ comment ┆ pg         ┆ 2007-06-12   ┆ … ┆ null    ┆ null ┆ 7            ┆ 1           │\n",
       "│          ┆         ┆            ┆ 19:02:46     ┆   ┆         ┆      ┆              ┆             │\n",
       "│ 27560    ┆ comment ┆ danielha   ┆ 2007-06-12   ┆ … ┆ null    ┆ null ┆ 7            ┆ 2           │\n",
       "│          ┆         ┆            ┆ 19:15:56     ┆   ┆         ┆      ┆              ┆             │\n",
       "│ …        ┆ …       ┆ …          ┆ …            ┆ … ┆ …       ┆ …    ┆ …            ┆ …           │\n",
       "│ 41812565 ┆ comment ┆ vessenes   ┆ 2024-10-11   ┆ … ┆ null    ┆ null ┆ 9            ┆ 1           │\n",
       "│          ┆         ┆            ┆ 19:14:29     ┆   ┆         ┆      ┆              ┆             │\n",
       "│ 41812643 ┆ comment ┆ squidlogic ┆ 2024-10-11   ┆ … ┆ null    ┆ null ┆ 6            ┆ 1           │\n",
       "│          ┆         ┆            ┆ 19:23:13     ┆   ┆         ┆      ┆              ┆             │\n",
       "│ 41812717 ┆ comment ┆ jrflowers  ┆ 2024-10-11   ┆ … ┆ null    ┆ null ┆ 6            ┆ 3           │\n",
       "│          ┆         ┆            ┆ 19:29:53     ┆   ┆         ┆      ┆              ┆             │\n",
       "│ 41813078 ┆ comment ┆ itronitron ┆ 2024-10-11   ┆ … ┆ null    ┆ null ┆ 9            ┆ 3           │\n",
       "│          ┆         ┆            ┆ 19:59:06     ┆   ┆         ┆      ┆              ┆             │\n",
       "│ 41813239 ┆ comment ┆ glenstein  ┆ 2024-10-11   ┆ … ┆ null    ┆ null ┆ 9            ┆ 2           │\n",
       "│          ┆         ┆            ┆ 20:13:25     ┆   ┆         ┆      ┆              ┆             │\n",
       "└──────────┴─────────┴────────────┴──────────────┴───┴─────────┴──────┴──────────────┴─────────────┘"
      ]
     },
     "execution_count": 7,
     "metadata": {},
     "output_type": "execute_result"
    }
   ],
   "source": [
    "# filter comments that have non-null text and text length > 10\n",
    "comments_df = comments_df.filter(\n",
    "    (pl.col(\"text\").is_not_null())\n",
    "    & (pl.col(\"text\").str.len_chars() > 10)\n",
    "    & (pl.col(\"sibling_rank\") > 0)\n",
    ")\n",
    "\n",
    "comments_df"
   ]
  },
  {
   "cell_type": "code",
   "execution_count": 8,
   "metadata": {},
   "outputs": [
    {
     "name": "stderr",
     "output_type": "stream",
     "text": [
      "Processing groups: 100%|██████████| 1104098/1104098 [00:02<00:00, 477960.76it/s]\n"
     ]
    },
    {
     "data": {
      "text/html": [
       "<div><style>\n",
       ".dataframe > thead > tr,\n",
       ".dataframe > tbody > tr {\n",
       "  text-align: right;\n",
       "  white-space: pre-wrap;\n",
       "}\n",
       "</style>\n",
       "<small>shape: (371_415, 5)</small><table border=\"1\" class=\"dataframe\"><thead><tr><th>chosen</th><th>rejected</th><th>chosen_rank</th><th>rejected_rank</th><th>top_level_parent</th></tr><tr><td>i64</td><td>i64</td><td>i64</td><td>i64</td><td>i64</td></tr></thead><tbody><tr><td>353</td><td>287</td><td>1</td><td>2</td><td>189</td></tr><tr><td>353</td><td>195</td><td>1</td><td>3</td><td>189</td></tr><tr><td>27552</td><td>27560</td><td>1</td><td>2</td><td>27550</td></tr><tr><td>77373</td><td>77337</td><td>1</td><td>2</td><td>77246</td></tr><tr><td>77666</td><td>77438</td><td>1</td><td>2</td><td>77246</td></tr><tr><td>&hellip;</td><td>&hellip;</td><td>&hellip;</td><td>&hellip;</td><td>&hellip;</td></tr><tr><td>41812258</td><td>41812168</td><td>1</td><td>3</td><td>41811263</td></tr><tr><td>41812339</td><td>41812380</td><td>1</td><td>2</td><td>41811263</td></tr><tr><td>41812339</td><td>41812405</td><td>1</td><td>3</td><td>41811263</td></tr><tr><td>41812643</td><td>41812457</td><td>1</td><td>2</td><td>41811263</td></tr><tr><td>41812643</td><td>41812717</td><td>1</td><td>3</td><td>41811263</td></tr></tbody></table></div>"
      ],
      "text/plain": [
       "shape: (371_415, 5)\n",
       "┌──────────┬──────────┬─────────────┬───────────────┬──────────────────┐\n",
       "│ chosen   ┆ rejected ┆ chosen_rank ┆ rejected_rank ┆ top_level_parent │\n",
       "│ ---      ┆ ---      ┆ ---         ┆ ---           ┆ ---              │\n",
       "│ i64      ┆ i64      ┆ i64         ┆ i64           ┆ i64              │\n",
       "╞══════════╪══════════╪═════════════╪═══════════════╪══════════════════╡\n",
       "│ 353      ┆ 287      ┆ 1           ┆ 2             ┆ 189              │\n",
       "│ 353      ┆ 195      ┆ 1           ┆ 3             ┆ 189              │\n",
       "│ 27552    ┆ 27560    ┆ 1           ┆ 2             ┆ 27550            │\n",
       "│ 77373    ┆ 77337    ┆ 1           ┆ 2             ┆ 77246            │\n",
       "│ 77666    ┆ 77438    ┆ 1           ┆ 2             ┆ 77246            │\n",
       "│ …        ┆ …        ┆ …           ┆ …             ┆ …                │\n",
       "│ 41812258 ┆ 41812168 ┆ 1           ┆ 3             ┆ 41811263         │\n",
       "│ 41812339 ┆ 41812380 ┆ 1           ┆ 2             ┆ 41811263         │\n",
       "│ 41812339 ┆ 41812405 ┆ 1           ┆ 3             ┆ 41811263         │\n",
       "│ 41812643 ┆ 41812457 ┆ 1           ┆ 2             ┆ 41811263         │\n",
       "│ 41812643 ┆ 41812717 ┆ 1           ┆ 3             ┆ 41811263         │\n",
       "└──────────┴──────────┴─────────────┴───────────────┴──────────────────┘"
      ]
     },
     "execution_count": 8,
     "metadata": {},
     "output_type": "execute_result"
    }
   ],
   "source": [
    "from tqdm import tqdm\n",
    "from typing import List, TypedDict, Dict\n",
    "from collections import defaultdict\n",
    "import datetime\n",
    "\n",
    "\n",
    "progress_bar = tqdm(total=len(comments_df), desc=\"Processing groups\")\n",
    "\n",
    "\n",
    "class GroupableComment(TypedDict):\n",
    "    id: int\n",
    "    parent: int\n",
    "    time: datetime.datetime\n",
    "    sibling_rank: int\n",
    "    top_level_parent: int\n",
    "\n",
    "\n",
    "class RewardPair(TypedDict):\n",
    "    chosen: int  # the id of the chosen comment\n",
    "    rejected: int  # the id of the rejected comment\n",
    "    chosen_rank: int\n",
    "    rejected_rank: int\n",
    "    top_level_parent: int\n",
    "\n",
    "\n",
    "def process_group(group: List[GroupableComment]) -> list[RewardPair]:\n",
    "    \"\"\"\n",
    "    The goal of this function is to create a reward dataset for Hacker News\n",
    "    comments. It takes in a dataframe containing all the comments within a given\n",
    "    hour, and then breaks them down by the parent id.\n",
    "\n",
    "    Within each parent id group, it orders the comments by sibling rank (that\n",
    "    is, their relative position in the thread). Lower sibling rank means the\n",
    "    comment is higher in the thread, which we can assume means it had more\n",
    "    upvotes and is better.\n",
    "\n",
    "    We take each comment and its directly following sibling and mark those as\n",
    "    \"chosen\" and \"rejected\", creating a pairwise dataset we can use for reward\n",
    "    modeling.\n",
    "    \"\"\"\n",
    "    if len(group) == 0:\n",
    "        return []\n",
    "\n",
    "    sorted_group = sorted(group, key=lambda x: x[\"sibling_rank\"])\n",
    "\n",
    "    top_comment = sorted_group[0]\n",
    "    other_comments = sorted_group[1:]\n",
    "\n",
    "    group_reward_pairs = []\n",
    "\n",
    "    for other_comment in other_comments:\n",
    "        # Make sure the comments were posted within 30 minutes of each other. If\n",
    "        # they were too far apart, they likely aren't comparable since the older\n",
    "        # one is likely to win.\n",
    "        if (other_comment[\"time\"] - top_comment[\"time\"]).total_seconds() > 1800:\n",
    "            break\n",
    "\n",
    "        group_reward_pairs.append(\n",
    "            {\n",
    "                \"chosen\": top_comment[\"id\"],\n",
    "                \"rejected\": other_comment[\"id\"],\n",
    "                \"chosen_rank\": top_comment[\"sibling_rank\"],\n",
    "                \"rejected_rank\": other_comment[\"sibling_rank\"],\n",
    "                \"top_level_parent\": top_comment[\"top_level_parent\"],\n",
    "            }\n",
    "        )\n",
    "\n",
    "    return group_reward_pairs\n",
    "\n",
    "\n",
    "reward_pairs: list[RewardPair] = []\n",
    "parent_group: list[GroupableComment] = []\n",
    "current_parent = None\n",
    "\n",
    "sorted_by_parent = comments_df.select(\n",
    "    pl.col(\"id\"),\n",
    "    pl.col(\"sibling_rank\"),\n",
    "    pl.col(\"parent\"),\n",
    "    pl.col(\"time\"),\n",
    "    pl.col(\"top_level_parent\"),\n",
    ").sort(\"parent\")\n",
    "\n",
    "for comment in sorted_by_parent.iter_rows(named=True):\n",
    "    comment = GroupableComment(**comment)\n",
    "\n",
    "    # We already sorted by parent, so if the current comment's parent isn't the\n",
    "    # same as the previous one, we know we've moved on to a new parent and can\n",
    "    # process the previous set of comments.\n",
    "    if comment[\"parent\"] != current_parent:\n",
    "        reward_pairs.extend(process_group(parent_group))\n",
    "\n",
    "        parent_group = []\n",
    "        current_parent = comment[\"parent\"]\n",
    "\n",
    "    parent_group.append(comment)\n",
    "    progress_bar.update(1)\n",
    "\n",
    "# Close the progress bar\n",
    "progress_bar.close()\n",
    "\n",
    "pairs_df = pl.DataFrame(reward_pairs)\n",
    "\n",
    "pairs_df"
   ]
  },
  {
   "cell_type": "code",
   "execution_count": 12,
   "metadata": {},
   "outputs": [
    {
     "name": "stdout",
     "output_type": "stream",
     "text": [
      "Split counts:\n",
      "shape: (3, 2)\n",
      "┌───────┬────────┐\n",
      "│ split ┆ count  │\n",
      "│ ---   ┆ ---    │\n",
      "│ str   ┆ u32    │\n",
      "╞═══════╪════════╡\n",
      "│ train ┆ 297780 │\n",
      "│ test  ┆ 37610  │\n",
      "│ val   ┆ 36025  │\n",
      "└───────┴────────┘\n",
      "\n",
      "Split percentages:\n",
      "shape: (3,)\n",
      "Series: 'count' [f64]\n",
      "[\n",
      "\t80.17\n",
      "\t10.13\n",
      "\t9.7\n",
      "]\n"
     ]
    }
   ],
   "source": [
    "# Get unique top_level_parent values\n",
    "unique_parents = pairs_df[\"top_level_parent\"].unique()\n",
    "\n",
    "# Randomly assign splits\n",
    "np.random.seed(42)  # for reproducibility\n",
    "split_assignments = np.random.choice(\n",
    "    [\"train\", \"test\", \"val\"], size=len(unique_parents), p=[0.8, 0.1, 0.1]\n",
    ")\n",
    "\n",
    "# Create a dictionary mapping top_level_parent to split\n",
    "parent_to_split = dict(zip(unique_parents, split_assignments))\n",
    "\n",
    "# Add the new 'split' column\n",
    "pairs_df = pairs_df.with_columns(\n",
    "    pl.col(\"top_level_parent\").replace_strict(parent_to_split).alias(\"split\")\n",
    ")\n",
    "\n",
    "# Verify the split proportions\n",
    "split_counts = pairs_df[\"split\"].value_counts().sort(\"count\", descending=True)\n",
    "print(\"Split counts:\")\n",
    "print(split_counts)\n",
    "\n",
    "# Calculate percentages\n",
    "total = split_counts[\"count\"].sum()\n",
    "percentages = (split_counts[\"count\"] / total * 100).round(2)\n",
    "print(\"\\nSplit percentages:\")\n",
    "print(percentages)"
   ]
  },
  {
   "cell_type": "code",
   "execution_count": 13,
   "metadata": {},
   "outputs": [
    {
     "name": "stderr",
     "output_type": "stream",
     "text": [
      "Building prompts: 40001it [03:39, 182.36it/s] \n"
     ]
    },
    {
     "name": "stdout",
     "output_type": "stream",
     "text": [
      "<instructions>Your goal is to analyze the following comment and estimate how highly it will be upvoted by the Hacker News community.</instructions><comment><author>pg</author><text>Harder to say about the upper bound. The factors you mention may play a role, especially kids. I also think need for money is a factor. Most people who could make money have by 40, and once you have enough, you&apos;re less willing to endure the pain of starting a startup.&lt;p&gt;The average age of YC founders is about 25.</text><parent_chain><item><author>jmzachary</author><text>Have you discovered an upper bound? The commonly held belief is that people over X (where 30 &amp;#60; X 35?) can&apos;t start startups because they have kids and a mortgage, or they just aren&apos;t in-tune with what&apos;s hip. Curiously, that excludes people who have &amp;#34;been there and seen that&amp;#34;, the best current example being AJAX. Also, those who have taken a few more trips around the Sun also may recognize niches that 19-25 years would never see. My impression is that Y-Combinator is an attractor for the younger entrepreneur.&lt;p&gt;Full disclosure: I&apos;m in the range above, planning to start a company, and not trolling for Y-Combinator dollars.</text></item><item><author>pg</author><text>We never proposed there was no lower bound; the goal was more to discover where it was.  And we now have, I think.  Though in fact the main thing we discovered was how fuzzy it is.  &lt;p&gt;There really are people who can start a startup when they&apos;re 19. Sam Altman, the founder of Loopt, was 19.  But for most people the lower bound is about 22.  One reason is that most people need to experience what a job is like to be sufficiently motivated to avoid it.  Another is that few people are forceful enough at 19.</text></item><item><author>kf</author><text>Paul Graham has backpedaled from one of the initial goals of Y Combinator, funding companies with no lower-bound for the age of founders.\n",
      "\n",
      "With the publication of this essay, http://www.paulgraham.com/mit.html, he has backpedaled from that stance because of his personal moral culpability for encouraging people to become drop-outs. So if you are seeking Y Combinator funding and are a current undergraduate, tell Paul Graham that you are dropping out to start the company regardless of whether or not he funds you.</text></item><item><author>staunch</author><text>This has got to make PG nervous. How many people&apos;s life is he affecting? :-)\n",
      "\n",
      "He&apos;s definitely had an impact on my priorities in a very big and positive way. I hope everyone who makes changes based on his inspiration and motivation does it with a clear head and can take responsiblity for the decision and outcome.\n",
      "\n",
      "</text></item></parent_chain></comment><story><title>I Dropped Out of Grad School Today</title><url>http://octopart.com/html/blog.html</url></story>\n"
     ]
    },
    {
     "name": "stderr",
     "output_type": "stream",
     "text": []
    },
    {
     "data": {
      "text/html": [
       "<div><style>\n",
       ".dataframe > thead > tr,\n",
       ".dataframe > tbody > tr {\n",
       "  text-align: right;\n",
       "  white-space: pre-wrap;\n",
       "}\n",
       "</style>\n",
       "<small>shape: (20_000, 8)</small><table border=\"1\" class=\"dataframe\"><thead><tr><th>chosen</th><th>rejected</th><th>chosen_rank</th><th>rejected_rank</th><th>top_level_parent</th><th>split</th><th>chosen_prompt</th><th>rejected_prompt</th></tr><tr><td>i64</td><td>i64</td><td>i64</td><td>i64</td><td>i64</td><td>str</td><td>str</td><td>str</td></tr></thead><tbody><tr><td>8880111</td><td>8879128</td><td>1</td><td>2</td><td>8876929</td><td>&quot;train&quot;</td><td>&quot;&lt;instructions&gt;Your goal is to …</td><td>&quot;&lt;instructions&gt;Your goal is to …</td></tr><tr><td>14535547</td><td>14533965</td><td>1</td><td>2</td><td>14532751</td><td>&quot;train&quot;</td><td>&quot;&lt;instructions&gt;Your goal is to …</td><td>&quot;&lt;instructions&gt;Your goal is to …</td></tr><tr><td>14224460</td><td>14222513</td><td>1</td><td>2</td><td>14221501</td><td>&quot;train&quot;</td><td>&quot;&lt;instructions&gt;Your goal is to …</td><td>&quot;&lt;instructions&gt;Your goal is to …</td></tr><tr><td>30012706</td><td>30012750</td><td>1</td><td>3</td><td>30011655</td><td>&quot;train&quot;</td><td>&quot;&lt;instructions&gt;Your goal is to …</td><td>&quot;&lt;instructions&gt;Your goal is to …</td></tr><tr><td>22838384</td><td>22837692</td><td>1</td><td>2</td><td>22832914</td><td>&quot;train&quot;</td><td>&quot;&lt;instructions&gt;Your goal is to …</td><td>&quot;&lt;instructions&gt;Your goal is to …</td></tr><tr><td>&hellip;</td><td>&hellip;</td><td>&hellip;</td><td>&hellip;</td><td>&hellip;</td><td>&hellip;</td><td>&hellip;</td><td>&hellip;</td></tr><tr><td>7426463</td><td>7426444</td><td>1</td><td>3</td><td>7426327</td><td>&quot;train&quot;</td><td>&quot;&lt;instructions&gt;Your goal is to …</td><td>&quot;&lt;instructions&gt;Your goal is to …</td></tr><tr><td>34568387</td><td>34566820</td><td>1</td><td>3</td><td>34566560</td><td>&quot;train&quot;</td><td>&quot;&lt;instructions&gt;Your goal is to …</td><td>&quot;&lt;instructions&gt;Your goal is to …</td></tr><tr><td>3958317</td><td>3958320</td><td>1</td><td>2</td><td>3958251</td><td>&quot;val&quot;</td><td>&quot;&lt;instructions&gt;Your goal is to …</td><td>&quot;&lt;instructions&gt;Your goal is to …</td></tr><tr><td>3154260</td><td>3154131</td><td>1</td><td>2</td><td>3153722</td><td>&quot;train&quot;</td><td>&quot;&lt;instructions&gt;Your goal is to …</td><td>&quot;&lt;instructions&gt;Your goal is to …</td></tr><tr><td>14742273</td><td>14741645</td><td>1</td><td>3</td><td>14740971</td><td>&quot;train&quot;</td><td>&quot;&lt;instructions&gt;Your goal is to …</td><td>&quot;&lt;instructions&gt;Your goal is to …</td></tr></tbody></table></div>"
      ],
      "text/plain": [
       "shape: (20_000, 8)\n",
       "┌──────────┬──────────┬─────────────┬─────────────┬─────────────┬───────┬─────────────┬────────────┐\n",
       "│ chosen   ┆ rejected ┆ chosen_rank ┆ rejected_ra ┆ top_level_p ┆ split ┆ chosen_prom ┆ rejected_p │\n",
       "│ ---      ┆ ---      ┆ ---         ┆ nk          ┆ arent       ┆ ---   ┆ pt          ┆ rompt      │\n",
       "│ i64      ┆ i64      ┆ i64         ┆ ---         ┆ ---         ┆ str   ┆ ---         ┆ ---        │\n",
       "│          ┆          ┆             ┆ i64         ┆ i64         ┆       ┆ str         ┆ str        │\n",
       "╞══════════╪══════════╪═════════════╪═════════════╪═════════════╪═══════╪═════════════╪════════════╡\n",
       "│ 8880111  ┆ 8879128  ┆ 1           ┆ 2           ┆ 8876929     ┆ train ┆ <instructio ┆ <instructi │\n",
       "│          ┆          ┆             ┆             ┆             ┆       ┆ ns>Your     ┆ ons>Your   │\n",
       "│          ┆          ┆             ┆             ┆             ┆       ┆ goal is to  ┆ goal is to │\n",
       "│          ┆          ┆             ┆             ┆             ┆       ┆ …           ┆ …          │\n",
       "│ 14535547 ┆ 14533965 ┆ 1           ┆ 2           ┆ 14532751    ┆ train ┆ <instructio ┆ <instructi │\n",
       "│          ┆          ┆             ┆             ┆             ┆       ┆ ns>Your     ┆ ons>Your   │\n",
       "│          ┆          ┆             ┆             ┆             ┆       ┆ goal is to  ┆ goal is to │\n",
       "│          ┆          ┆             ┆             ┆             ┆       ┆ …           ┆ …          │\n",
       "│ 14224460 ┆ 14222513 ┆ 1           ┆ 2           ┆ 14221501    ┆ train ┆ <instructio ┆ <instructi │\n",
       "│          ┆          ┆             ┆             ┆             ┆       ┆ ns>Your     ┆ ons>Your   │\n",
       "│          ┆          ┆             ┆             ┆             ┆       ┆ goal is to  ┆ goal is to │\n",
       "│          ┆          ┆             ┆             ┆             ┆       ┆ …           ┆ …          │\n",
       "│ 30012706 ┆ 30012750 ┆ 1           ┆ 3           ┆ 30011655    ┆ train ┆ <instructio ┆ <instructi │\n",
       "│          ┆          ┆             ┆             ┆             ┆       ┆ ns>Your     ┆ ons>Your   │\n",
       "│          ┆          ┆             ┆             ┆             ┆       ┆ goal is to  ┆ goal is to │\n",
       "│          ┆          ┆             ┆             ┆             ┆       ┆ …           ┆ …          │\n",
       "│ 22838384 ┆ 22837692 ┆ 1           ┆ 2           ┆ 22832914    ┆ train ┆ <instructio ┆ <instructi │\n",
       "│          ┆          ┆             ┆             ┆             ┆       ┆ ns>Your     ┆ ons>Your   │\n",
       "│          ┆          ┆             ┆             ┆             ┆       ┆ goal is to  ┆ goal is to │\n",
       "│          ┆          ┆             ┆             ┆             ┆       ┆ …           ┆ …          │\n",
       "│ …        ┆ …        ┆ …           ┆ …           ┆ …           ┆ …     ┆ …           ┆ …          │\n",
       "│ 7426463  ┆ 7426444  ┆ 1           ┆ 3           ┆ 7426327     ┆ train ┆ <instructio ┆ <instructi │\n",
       "│          ┆          ┆             ┆             ┆             ┆       ┆ ns>Your     ┆ ons>Your   │\n",
       "│          ┆          ┆             ┆             ┆             ┆       ┆ goal is to  ┆ goal is to │\n",
       "│          ┆          ┆             ┆             ┆             ┆       ┆ …           ┆ …          │\n",
       "│ 34568387 ┆ 34566820 ┆ 1           ┆ 3           ┆ 34566560    ┆ train ┆ <instructio ┆ <instructi │\n",
       "│          ┆          ┆             ┆             ┆             ┆       ┆ ns>Your     ┆ ons>Your   │\n",
       "│          ┆          ┆             ┆             ┆             ┆       ┆ goal is to  ┆ goal is to │\n",
       "│          ┆          ┆             ┆             ┆             ┆       ┆ …           ┆ …          │\n",
       "│ 3958317  ┆ 3958320  ┆ 1           ┆ 2           ┆ 3958251     ┆ val   ┆ <instructio ┆ <instructi │\n",
       "│          ┆          ┆             ┆             ┆             ┆       ┆ ns>Your     ┆ ons>Your   │\n",
       "│          ┆          ┆             ┆             ┆             ┆       ┆ goal is to  ┆ goal is to │\n",
       "│          ┆          ┆             ┆             ┆             ┆       ┆ …           ┆ …          │\n",
       "│ 3154260  ┆ 3154131  ┆ 1           ┆ 2           ┆ 3153722     ┆ train ┆ <instructio ┆ <instructi │\n",
       "│          ┆          ┆             ┆             ┆             ┆       ┆ ns>Your     ┆ ons>Your   │\n",
       "│          ┆          ┆             ┆             ┆             ┆       ┆ goal is to  ┆ goal is to │\n",
       "│          ┆          ┆             ┆             ┆             ┆       ┆ …           ┆ …          │\n",
       "│ 14742273 ┆ 14741645 ┆ 1           ┆ 3           ┆ 14740971    ┆ train ┆ <instructio ┆ <instructi │\n",
       "│          ┆          ┆             ┆             ┆             ┆       ┆ ns>Your     ┆ ons>Your   │\n",
       "│          ┆          ┆             ┆             ┆             ┆       ┆ goal is to  ┆ goal is to │\n",
       "│          ┆          ┆             ┆             ┆             ┆       ┆ …           ┆ …          │\n",
       "└──────────┴──────────┴─────────────┴─────────────┴─────────────┴───────┴─────────────┴────────────┘"
      ]
     },
     "execution_count": 13,
     "metadata": {},
     "output_type": "execute_result"
    }
   ],
   "source": [
    "import dicttoxml\n",
    "\n",
    "sample_pairs = pairs_df.sample(n=20000, seed=42)\n",
    "\n",
    "progress_bar = tqdm(total=len(sample_pairs) * 2, desc=\"Building prompts\")\n",
    "\n",
    "\n",
    "def build_prompt(comment_id: int) -> str:\n",
    "    comment = df.row(comment_id, named=True)\n",
    "    story = df.row(comment[\"top_level_parent\"], named=True)\n",
    "\n",
    "    data = {\n",
    "        \"instructions\": \"Your goal is to analyze the following comment and estimate how highly it will be upvoted by the Hacker News community.\",\n",
    "        \"comment\": {\n",
    "            \"author\": comment[\"by\"],\n",
    "            \"text\": comment[\"text\"],\n",
    "            \"parent_chain\": [],\n",
    "        },\n",
    "        \"story\": {\"title\": story[\"title\"]},\n",
    "    }\n",
    "\n",
    "    current_parent = df.row(comment[\"parent\"], named=True)\n",
    "    while current_parent[\"id\"] != story[\"id\"]:\n",
    "        data[\"comment\"][\"parent_chain\"].append(\n",
    "            {\"author\": current_parent[\"by\"], \"text\": current_parent[\"text\"]}\n",
    "        )\n",
    "        current_parent = df.row(current_parent[\"parent\"], named=True)\n",
    "\n",
    "    if story[\"url\"] is not None:\n",
    "        data[\"story\"][\"url\"] = story[\"url\"]\n",
    "    if story[\"text\"] is not None:\n",
    "        data[\"story\"][\"text\"] = story[\"text\"]\n",
    "\n",
    "    xml = dicttoxml.dicttoxml(data, attr_type=False, root=False)\n",
    "\n",
    "    progress_bar.update(1)\n",
    "    return xml.decode(\"utf-8\")\n",
    "\n",
    "\n",
    "print(build_prompt(788))\n",
    "\n",
    "sample_pairs = sample_pairs.with_columns(\n",
    "    pl.col(\"chosen\")\n",
    "    .map_elements(build_prompt, return_dtype=pl.String)\n",
    "    .alias(\"chosen_prompt\"),\n",
    "    pl.col(\"rejected\")\n",
    "    .map_elements(build_prompt, return_dtype=pl.String)\n",
    "    .alias(\"rejected_prompt\"),\n",
    ")\n",
    "\n",
    "sample_pairs\n"
   ]
  },
  {
   "cell_type": "code",
   "execution_count": 14,
   "metadata": {},
   "outputs": [
    {
     "data": {
      "application/vnd.jupyter.widget-view+json": {
       "model_id": "41ac37b089cf43ffa91ede333eab3e5f",
       "version_major": 2,
       "version_minor": 0
      },
      "text/plain": [
       "Saving the dataset (0/1 shards):   0%|          | 0/10000 [00:00<?, ? examples/s]"
      ]
     },
     "metadata": {},
     "output_type": "display_data"
    },
    {
     "data": {
      "application/vnd.jupyter.widget-view+json": {
       "model_id": "b1b93b4deb4546d3aae5dd209fbd8bf0",
       "version_major": 2,
       "version_minor": 0
      },
      "text/plain": [
       "Saving the dataset (0/1 shards):   0%|          | 0/500 [00:00<?, ? examples/s]"
      ]
     },
     "metadata": {},
     "output_type": "display_data"
    },
    {
     "data": {
      "application/vnd.jupyter.widget-view+json": {
       "model_id": "b1170cc4ad8d4743985a839114cd106a",
       "version_major": 2,
       "version_minor": 0
      },
      "text/plain": [
       "Saving the dataset (0/1 shards):   0%|          | 0/1000 [00:00<?, ? examples/s]"
      ]
     },
     "metadata": {},
     "output_type": "display_data"
    },
    {
     "ename": "HfHubHTTPError",
     "evalue": "401 Client Error: Unauthorized for url: https://huggingface.co/api/repos/create (Request ID: Root=1-670cc206-635ecae63540ccc1291ad774;f60acb50-3eea-4745-a8e7-b610a063e52a)\n\nInvalid username or password.",
     "output_type": "error",
     "traceback": [
      "\u001b[0;31m---------------------------------------------------------------------------\u001b[0m",
      "\u001b[0;31mHTTPError\u001b[0m                                 Traceback (most recent call last)",
      "File \u001b[0;32m/workspace/best-hn/.venv/lib/python3.12/site-packages/huggingface_hub/utils/_http.py:406\u001b[0m, in \u001b[0;36mhf_raise_for_status\u001b[0;34m(response, endpoint_name)\u001b[0m\n\u001b[1;32m    405\u001b[0m \u001b[38;5;28;01mtry\u001b[39;00m:\n\u001b[0;32m--> 406\u001b[0m     \u001b[43mresponse\u001b[49m\u001b[38;5;241;43m.\u001b[39;49m\u001b[43mraise_for_status\u001b[49m\u001b[43m(\u001b[49m\u001b[43m)\u001b[49m\n\u001b[1;32m    407\u001b[0m \u001b[38;5;28;01mexcept\u001b[39;00m HTTPError \u001b[38;5;28;01mas\u001b[39;00m e:\n",
      "File \u001b[0;32m/workspace/best-hn/.venv/lib/python3.12/site-packages/requests/models.py:1024\u001b[0m, in \u001b[0;36mResponse.raise_for_status\u001b[0;34m(self)\u001b[0m\n\u001b[1;32m   1023\u001b[0m \u001b[38;5;28;01mif\u001b[39;00m http_error_msg:\n\u001b[0;32m-> 1024\u001b[0m     \u001b[38;5;28;01mraise\u001b[39;00m HTTPError(http_error_msg, response\u001b[38;5;241m=\u001b[39m\u001b[38;5;28mself\u001b[39m)\n",
      "\u001b[0;31mHTTPError\u001b[0m: 401 Client Error: Unauthorized for url: https://huggingface.co/api/repos/create",
      "\nThe above exception was the direct cause of the following exception:\n",
      "\u001b[0;31mHfHubHTTPError\u001b[0m                            Traceback (most recent call last)",
      "Cell \u001b[0;32mIn[14], line 21\u001b[0m\n\u001b[1;32m     18\u001b[0m \u001b[38;5;66;03m# Save the dataset with splits\u001b[39;00m\n\u001b[1;32m     19\u001b[0m dataset_dict\u001b[38;5;241m.\u001b[39msave_to_disk(\u001b[38;5;124m\"\u001b[39m\u001b[38;5;124m./data/sample_pairs\u001b[39m\u001b[38;5;124m\"\u001b[39m)\n\u001b[0;32m---> 21\u001b[0m \u001b[43mdataset_dict\u001b[49m\u001b[38;5;241;43m.\u001b[39;49m\u001b[43mpush_to_hub\u001b[49m\u001b[43m(\u001b[49m\u001b[38;5;124;43m\"\u001b[39;49m\u001b[38;5;124;43mOpenPipe/best-hn-comment-pairs\u001b[39;49m\u001b[38;5;124;43m\"\u001b[39;49m\u001b[43m)\u001b[49m\n",
      "File \u001b[0;32m/workspace/best-hn/.venv/lib/python3.12/site-packages/datasets/dataset_dict.py:1625\u001b[0m, in \u001b[0;36mDatasetDict.push_to_hub\u001b[0;34m(self, repo_id, config_name, set_default, data_dir, commit_message, commit_description, private, token, revision, create_pr, max_shard_size, num_shards, embed_external_files)\u001b[0m\n\u001b[1;32m   1621\u001b[0m         \u001b[38;5;28;01mraise\u001b[39;00m \u001b[38;5;167;01mValueError\u001b[39;00m(\u001b[38;5;124mf\u001b[39m\u001b[38;5;124m\"\u001b[39m\u001b[38;5;124mSplit name should match \u001b[39m\u001b[38;5;124m'\u001b[39m\u001b[38;5;132;01m{\u001b[39;00m_split_re\u001b[38;5;132;01m}\u001b[39;00m\u001b[38;5;124m'\u001b[39m\u001b[38;5;124m but got \u001b[39m\u001b[38;5;124m'\u001b[39m\u001b[38;5;132;01m{\u001b[39;00msplit\u001b[38;5;132;01m}\u001b[39;00m\u001b[38;5;124m'\u001b[39m\u001b[38;5;124m.\u001b[39m\u001b[38;5;124m\"\u001b[39m)\n\u001b[1;32m   1623\u001b[0m api \u001b[38;5;241m=\u001b[39m HfApi(endpoint\u001b[38;5;241m=\u001b[39mconfig\u001b[38;5;241m.\u001b[39mHF_ENDPOINT, token\u001b[38;5;241m=\u001b[39mtoken)\n\u001b[0;32m-> 1625\u001b[0m repo_url \u001b[38;5;241m=\u001b[39m \u001b[43mapi\u001b[49m\u001b[38;5;241;43m.\u001b[39;49m\u001b[43mcreate_repo\u001b[49m\u001b[43m(\u001b[49m\n\u001b[1;32m   1626\u001b[0m \u001b[43m    \u001b[49m\u001b[43mrepo_id\u001b[49m\u001b[43m,\u001b[49m\n\u001b[1;32m   1627\u001b[0m \u001b[43m    \u001b[49m\u001b[43mtoken\u001b[49m\u001b[38;5;241;43m=\u001b[39;49m\u001b[43mtoken\u001b[49m\u001b[43m,\u001b[49m\n\u001b[1;32m   1628\u001b[0m \u001b[43m    \u001b[49m\u001b[43mrepo_type\u001b[49m\u001b[38;5;241;43m=\u001b[39;49m\u001b[38;5;124;43m\"\u001b[39;49m\u001b[38;5;124;43mdataset\u001b[39;49m\u001b[38;5;124;43m\"\u001b[39;49m\u001b[43m,\u001b[49m\n\u001b[1;32m   1629\u001b[0m \u001b[43m    \u001b[49m\u001b[43mprivate\u001b[49m\u001b[38;5;241;43m=\u001b[39;49m\u001b[43mprivate\u001b[49m\u001b[43m,\u001b[49m\n\u001b[1;32m   1630\u001b[0m \u001b[43m    \u001b[49m\u001b[43mexist_ok\u001b[49m\u001b[38;5;241;43m=\u001b[39;49m\u001b[38;5;28;43;01mTrue\u001b[39;49;00m\u001b[43m,\u001b[49m\n\u001b[1;32m   1631\u001b[0m \u001b[43m\u001b[49m\u001b[43m)\u001b[49m\n\u001b[1;32m   1632\u001b[0m repo_id \u001b[38;5;241m=\u001b[39m repo_url\u001b[38;5;241m.\u001b[39mrepo_id\n\u001b[1;32m   1634\u001b[0m \u001b[38;5;28;01mif\u001b[39;00m revision \u001b[38;5;129;01mis\u001b[39;00m \u001b[38;5;129;01mnot\u001b[39;00m \u001b[38;5;28;01mNone\u001b[39;00m \u001b[38;5;129;01mand\u001b[39;00m \u001b[38;5;129;01mnot\u001b[39;00m revision\u001b[38;5;241m.\u001b[39mstartswith(\u001b[38;5;124m\"\u001b[39m\u001b[38;5;124mrefs/pr/\u001b[39m\u001b[38;5;124m\"\u001b[39m):\n\u001b[1;32m   1635\u001b[0m     \u001b[38;5;66;03m# We do not call create_branch for a PR reference: 400 Bad Request\u001b[39;00m\n",
      "File \u001b[0;32m/workspace/best-hn/.venv/lib/python3.12/site-packages/huggingface_hub/utils/_validators.py:114\u001b[0m, in \u001b[0;36mvalidate_hf_hub_args.<locals>._inner_fn\u001b[0;34m(*args, **kwargs)\u001b[0m\n\u001b[1;32m    111\u001b[0m \u001b[38;5;28;01mif\u001b[39;00m check_use_auth_token:\n\u001b[1;32m    112\u001b[0m     kwargs \u001b[38;5;241m=\u001b[39m smoothly_deprecate_use_auth_token(fn_name\u001b[38;5;241m=\u001b[39mfn\u001b[38;5;241m.\u001b[39m\u001b[38;5;18m__name__\u001b[39m, has_token\u001b[38;5;241m=\u001b[39mhas_token, kwargs\u001b[38;5;241m=\u001b[39mkwargs)\n\u001b[0;32m--> 114\u001b[0m \u001b[38;5;28;01mreturn\u001b[39;00m \u001b[43mfn\u001b[49m\u001b[43m(\u001b[49m\u001b[38;5;241;43m*\u001b[39;49m\u001b[43margs\u001b[49m\u001b[43m,\u001b[49m\u001b[43m \u001b[49m\u001b[38;5;241;43m*\u001b[39;49m\u001b[38;5;241;43m*\u001b[39;49m\u001b[43mkwargs\u001b[49m\u001b[43m)\u001b[49m\n",
      "File \u001b[0;32m/workspace/best-hn/.venv/lib/python3.12/site-packages/huggingface_hub/hf_api.py:3457\u001b[0m, in \u001b[0;36mHfApi.create_repo\u001b[0;34m(self, repo_id, token, private, repo_type, exist_ok, resource_group_id, space_sdk, space_hardware, space_storage, space_sleep_time, space_secrets, space_variables)\u001b[0m\n\u001b[1;32m   3454\u001b[0m     \u001b[38;5;28;01mbreak\u001b[39;00m\n\u001b[1;32m   3456\u001b[0m \u001b[38;5;28;01mtry\u001b[39;00m:\n\u001b[0;32m-> 3457\u001b[0m     \u001b[43mhf_raise_for_status\u001b[49m\u001b[43m(\u001b[49m\u001b[43mr\u001b[49m\u001b[43m)\u001b[49m\n\u001b[1;32m   3458\u001b[0m \u001b[38;5;28;01mexcept\u001b[39;00m HTTPError \u001b[38;5;28;01mas\u001b[39;00m err:\n\u001b[1;32m   3459\u001b[0m     \u001b[38;5;28;01mif\u001b[39;00m exist_ok \u001b[38;5;129;01mand\u001b[39;00m err\u001b[38;5;241m.\u001b[39mresponse\u001b[38;5;241m.\u001b[39mstatus_code \u001b[38;5;241m==\u001b[39m \u001b[38;5;241m409\u001b[39m:\n\u001b[1;32m   3460\u001b[0m         \u001b[38;5;66;03m# Repo already exists and `exist_ok=True`\u001b[39;00m\n",
      "File \u001b[0;32m/workspace/best-hn/.venv/lib/python3.12/site-packages/huggingface_hub/utils/_http.py:477\u001b[0m, in \u001b[0;36mhf_raise_for_status\u001b[0;34m(response, endpoint_name)\u001b[0m\n\u001b[1;32m    473\u001b[0m     \u001b[38;5;28;01mraise\u001b[39;00m _format(HfHubHTTPError, message, response) \u001b[38;5;28;01mfrom\u001b[39;00m \u001b[38;5;21;01me\u001b[39;00m\n\u001b[1;32m    475\u001b[0m \u001b[38;5;66;03m# Convert `HTTPError` into a `HfHubHTTPError` to display request information\u001b[39;00m\n\u001b[1;32m    476\u001b[0m \u001b[38;5;66;03m# as well (request id and/or server error message)\u001b[39;00m\n\u001b[0;32m--> 477\u001b[0m \u001b[38;5;28;01mraise\u001b[39;00m _format(HfHubHTTPError, \u001b[38;5;28mstr\u001b[39m(e), response) \u001b[38;5;28;01mfrom\u001b[39;00m \u001b[38;5;21;01me\u001b[39;00m\n",
      "\u001b[0;31mHfHubHTTPError\u001b[0m: 401 Client Error: Unauthorized for url: https://huggingface.co/api/repos/create (Request ID: Root=1-670cc206-635ecae63540ccc1291ad774;f60acb50-3eea-4745-a8e7-b610a063e52a)\n\nInvalid username or password."
     ]
    },
    {
     "name": "stderr",
     "output_type": "stream",
     "text": []
    }
   ],
   "source": [
    "import numpy as np\n",
    "from datasets import Dataset, DatasetDict\n",
    "\n",
    "train_df = sample_pairs.filter(pl.col(\"split\") == \"train\")\n",
    "validation_df = sample_pairs.filter(pl.col(\"split\") == \"val\")\n",
    "test_df = sample_pairs.filter(pl.col(\"split\") == \"test\")\n",
    "\n",
    "\n",
    "# Create a DatasetDict to hold all splits\n",
    "dataset_dict = DatasetDict(\n",
    "    {\n",
    "        \"train\": Dataset.from_polars(train_df.sample(n=10000, seed=42)),\n",
    "        \"validation\": Dataset.from_polars(validation_df.sample(n=500, seed=42)),\n",
    "        \"test\": Dataset.from_polars(test_df.sample(n=1000, seed=42)),\n",
    "    }\n",
    ")\n",
    "\n",
    "# Save the dataset with splits\n",
    "dataset_dict.save_to_disk(\"./data/sample_pairs\")"
   ]
  },
  {
   "cell_type": "code",
   "execution_count": 15,
   "metadata": {},
   "outputs": [
    {
     "data": {
      "application/vnd.jupyter.widget-view+json": {
       "model_id": "32adcd30bed640ebbcff02eefa14b188",
       "version_major": 2,
       "version_minor": 0
      },
      "text/plain": [
       "Uploading the dataset shards:   0%|          | 0/1 [00:00<?, ?it/s]"
      ]
     },
     "metadata": {},
     "output_type": "display_data"
    },
    {
     "data": {
      "application/vnd.jupyter.widget-view+json": {
       "model_id": "29e973837b954dee95206c182ee80280",
       "version_major": 2,
       "version_minor": 0
      },
      "text/plain": [
       "Creating parquet from Arrow format:   0%|          | 0/10 [00:00<?, ?ba/s]"
      ]
     },
     "metadata": {},
     "output_type": "display_data"
    },
    {
     "data": {
      "application/vnd.jupyter.widget-view+json": {
       "model_id": "5bfe184062a342188daebac13d36b57c",
       "version_major": 2,
       "version_minor": 0
      },
      "text/plain": [
       "  0%|          | 0/1 [00:00<?, ?it/s]"
      ]
     },
     "metadata": {},
     "output_type": "display_data"
    },
    {
     "name": "stderr",
     "output_type": "stream",
     "text": [
      "/workspace/best-hn/.venv/lib/python3.12/site-packages/huggingface_hub/lfs.py:336: UserWarning: hf_transfer is enabled but does not support uploading from bytes or BinaryIO, falling back to regular upload\n",
      "  warnings.warn(\n"
     ]
    },
    {
     "data": {
      "application/vnd.jupyter.widget-view+json": {
       "model_id": "6c24ac2631ff4614b8c37f7e59212439",
       "version_major": 2,
       "version_minor": 0
      },
      "text/plain": [
       "Uploading the dataset shards:   0%|          | 0/1 [00:00<?, ?it/s]"
      ]
     },
     "metadata": {},
     "output_type": "display_data"
    },
    {
     "data": {
      "application/vnd.jupyter.widget-view+json": {
       "model_id": "6e8c299d04b141f4adb4dc31253a7fe7",
       "version_major": 2,
       "version_minor": 0
      },
      "text/plain": [
       "Creating parquet from Arrow format:   0%|          | 0/1 [00:00<?, ?ba/s]"
      ]
     },
     "metadata": {},
     "output_type": "display_data"
    },
    {
     "data": {
      "application/vnd.jupyter.widget-view+json": {
       "model_id": "563d8b3ccff6466f8335bcbbeae22317",
       "version_major": 2,
       "version_minor": 0
      },
      "text/plain": [
       "  0%|          | 0/1 [00:00<?, ?it/s]"
      ]
     },
     "metadata": {},
     "output_type": "display_data"
    },
    {
     "data": {
      "application/vnd.jupyter.widget-view+json": {
       "model_id": "5a73bb9c2c5d41ab85bc429ca869cc2b",
       "version_major": 2,
       "version_minor": 0
      },
      "text/plain": [
       "Uploading the dataset shards:   0%|          | 0/1 [00:00<?, ?it/s]"
      ]
     },
     "metadata": {},
     "output_type": "display_data"
    },
    {
     "data": {
      "application/vnd.jupyter.widget-view+json": {
       "model_id": "15af6321cd6e4770ad86cdfdc9d45f34",
       "version_major": 2,
       "version_minor": 0
      },
      "text/plain": [
       "Creating parquet from Arrow format:   0%|          | 0/1 [00:00<?, ?ba/s]"
      ]
     },
     "metadata": {},
     "output_type": "display_data"
    },
    {
     "data": {
      "application/vnd.jupyter.widget-view+json": {
       "model_id": "c0fcbb4dc41e422b9558d2ba4215142e",
       "version_major": 2,
       "version_minor": 0
      },
      "text/plain": [
       "  0%|          | 0/1 [00:00<?, ?it/s]"
      ]
     },
     "metadata": {},
     "output_type": "display_data"
    },
    {
     "data": {
      "text/plain": [
       "CommitInfo(commit_url='https://huggingface.co/datasets/OpenPipe/best-hn-comment-pairs/commit/039fea7eac7836724654e670fec166b23b0c24ac', commit_message='Upload dataset', commit_description='', oid='039fea7eac7836724654e670fec166b23b0c24ac', pr_url=None, repo_url=RepoUrl('https://huggingface.co/datasets/OpenPipe/best-hn-comment-pairs', endpoint='https://huggingface.co', repo_type='dataset', repo_id='OpenPipe/best-hn-comment-pairs'), pr_revision=None, pr_num=None)"
      ]
     },
     "execution_count": 15,
     "metadata": {},
     "output_type": "execute_result"
    }
   ],
   "source": [
    "from dotenv import load_dotenv\n",
    "\n",
    "load_dotenv(\"/workspace/.env\")\n",
    "\n",
    "dataset_dict.push_to_hub(\"OpenPipe/best-hn-comment-pairs\")\n"
   ]
  }
 ],
 "metadata": {
  "kernelspec": {
   "display_name": ".venv",
   "language": "python",
   "name": "python3"
  },
  "language_info": {
   "codemirror_mode": {
    "name": "ipython",
    "version": 3
   },
   "file_extension": ".py",
   "mimetype": "text/x-python",
   "name": "python",
   "nbconvert_exporter": "python",
   "pygments_lexer": "ipython3",
   "version": "3.12.5"
  }
 },
 "nbformat": 4,
 "nbformat_minor": 2
}
